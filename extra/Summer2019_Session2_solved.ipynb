{
 "cells": [
  {
   "cell_type": "markdown",
   "metadata": {},
   "source": [
    "# Data Analytics Summer School\n",
    "2019 Edition (Jesse Harrison, Anni Pyysing)"
   ]
  },
  {
   "cell_type": "markdown",
   "metadata": {},
   "source": [
    "# 2. Hands-on Session: Data Manipulation and Plotting "
   ]
  },
  {
   "cell_type": "markdown",
   "metadata": {},
   "source": [
    "### \"A picture is worth a thousand words\" - but how to make this picture?\n",
    "In this session we will learn how to take a data set and manipulate it into a form that enables you to tell the story that you want to convey. We will use two packages that come as part of 'tidyverse' (a collection of packages for data processing and visualization): dplyr and ggplot2. Tidyverse has rapidly become one of the most popular choices for this type of work - if you're planning to use R in the future, you will most likely come across it again!\n",
    "\n",
    "If the coding in this session is too heavy for you, try to absorb the ideas and focus on the possibilities of visualizations."
   ]
  },
  {
   "cell_type": "markdown",
   "metadata": {},
   "source": [
    "# Part 1: Tidyverse and dplyr\n",
    "\n",
    "Tidyverse includes a collection of R packeges designed for data science. It includes several separate packages, such as dplyr and ggplot2. You could also load these packages separately, if you wanted to. More information on tidyverse can be found on the official website:\n",
    "\n",
    "https://www.tidyverse.org/\n",
    "\n",
    "### dplyr\n",
    "\n",
    "This is a package that has a set of functions or \"data manipulation verbs\", including: \n",
    "\n",
    "`mutate()`, `select()`, `filter()`, `summarize()`, `arrange()`, and `group_by()`\n",
    "\n",
    "In the following exercises, we will cover a selection of these to give you an idea of how the package works in practice.\n",
    "\n",
    "First, let's load the tidyverse package:\n"
   ]
  },
  {
   "cell_type": "code",
   "execution_count": 1,
   "metadata": {},
   "outputs": [
    {
     "name": "stderr",
     "output_type": "stream",
     "text": [
      "── Attaching packages ─────────────────────────────────────── tidyverse 1.2.1 ──\n",
      "✔ ggplot2 3.1.1       ✔ purrr   0.3.2  \n",
      "✔ tibble  2.1.1       ✔ dplyr   0.8.0.1\n",
      "✔ tidyr   0.8.3       ✔ stringr 1.4.0  \n",
      "✔ readr   1.3.1       ✔ forcats 0.4.0  \n",
      "── Conflicts ────────────────────────────────────────── tidyverse_conflicts() ──\n",
      "✖ dplyr::filter() masks stats::filter()\n",
      "✖ dplyr::lag()    masks stats::lag()\n"
     ]
    }
   ],
   "source": [
    "# Run this cell by clicking and ctrl-ENTER or by clicking the play button\n",
    "\n",
    "library(tidyverse)"
   ]
  },
  {
   "cell_type": "markdown",
   "metadata": {},
   "source": [
    "## Read in the data\n",
    "\n",
    "First we need to get the data into a good format, which can require a little or a lot of work.\n",
    "\n",
    "We'll practice with a pre-arranged dataset from Sotkanet (https://sotkanet.fi/sotkanet/en/index). Sotkanet has plenty of statistical information on welfare and health in Finland, but we have taken a small set of data from there to play with.\n",
    "\n",
    "Let's begin with importing a CSV file containing the data into R:"
   ]
  },
  {
   "cell_type": "code",
   "execution_count": 2,
   "metadata": {},
   "outputs": [],
   "source": [
    "sotkanet <- read.csv(\"data/sotkanet_data.csv\")"
   ]
  },
  {
   "cell_type": "markdown",
   "metadata": {},
   "source": [
    "The data are now inside R's memory. Let's have a look at how the data frame is structured:"
   ]
  },
  {
   "cell_type": "code",
   "execution_count": 3,
   "metadata": {},
   "outputs": [
    {
     "data": {
      "text/html": [
       "<table>\n",
       "<thead><tr><th scope=col>X</th><th scope=col>year</th><th scope=col>region</th><th scope=col>population</th><th scope=col>education_level</th></tr></thead>\n",
       "<tbody>\n",
       "\t<tr><td>1        </td><td>2008     </td><td>Akaa     </td><td>16837    </td><td>284      </td></tr>\n",
       "\t<tr><td>2        </td><td>2008     </td><td>Alajärvi </td><td>10634    </td><td>253      </td></tr>\n",
       "\t<tr><td>3        </td><td>2008     </td><td>Alavieska</td><td> 2759    </td><td>246      </td></tr>\n",
       "\t<tr><td>4        </td><td>2008     </td><td>Alavus   </td><td>12706    </td><td>244      </td></tr>\n",
       "\t<tr><td>5        </td><td>2008     </td><td>Asikkala </td><td> 8604    </td><td>278      </td></tr>\n",
       "</tbody>\n",
       "</table>\n"
      ],
      "text/latex": [
       "\\begin{tabular}{r|lllll}\n",
       " X & year & region & population & education\\_level\\\\\n",
       "\\hline\n",
       "\t 1         & 2008      & Akaa      & 16837     & 284      \\\\\n",
       "\t 2         & 2008      & Alajärvi  & 10634     & 253      \\\\\n",
       "\t 3         & 2008      & Alavieska &  2759     & 246      \\\\\n",
       "\t 4         & 2008      & Alavus    & 12706     & 244      \\\\\n",
       "\t 5         & 2008      & Asikkala  &  8604     & 278      \\\\\n",
       "\\end{tabular}\n"
      ],
      "text/markdown": [
       "\n",
       "| X | year | region | population | education_level |\n",
       "|---|---|---|---|---|\n",
       "| 1         | 2008      | Akaa      | 16837     | 284       |\n",
       "| 2         | 2008      | Alajärvi  | 10634     | 253       |\n",
       "| 3         | 2008      | Alavieska |  2759     | 246       |\n",
       "| 4         | 2008      | Alavus    | 12706     | 244       |\n",
       "| 5         | 2008      | Asikkala  |  8604     | 278       |\n",
       "\n"
      ],
      "text/plain": [
       "  X year region    population education_level\n",
       "1 1 2008 Akaa      16837      284            \n",
       "2 2 2008 Alajärvi  10634      253            \n",
       "3 3 2008 Alavieska  2759      246            \n",
       "4 4 2008 Alavus    12706      244            \n",
       "5 5 2008 Asikkala   8604      278            "
      ]
     },
     "metadata": {},
     "output_type": "display_data"
    },
    {
     "name": "stdout",
     "output_type": "stream",
     "text": [
      "'data.frame':\t3110 obs. of  5 variables:\n",
      " $ X              : int  1 2 3 4 5 6 7 8 9 10 ...\n",
      " $ year           : int  2008 2008 2008 2008 2008 2008 2008 2008 2008 2008 ...\n",
      " $ region         : Factor w/ 311 levels \"Äänekoski\",\"Ähtäri\",..: 3 4 5 6 7 8 9 10 11 12 ...\n",
      " $ population     : int  16837 10634 2759 12706 8604 4761 3852 518 921 1652 ...\n",
      " $ education_level: int  284 253 246 244 278 270 277 258 218 228 ...\n"
     ]
    }
   ],
   "source": [
    "head(sotkanet, 5)\n",
    "str(sotkanet)"
   ]
  },
  {
   "cell_type": "markdown",
   "metadata": {},
   "source": [
    "## Using data manipulation functions in R \n",
    "\n",
    "We are now ready to start shaping the data using the functions outlined above. First we can `filter()` the dataset to contain only observations from Helsinki, Espoo and Kajaani and from the year 2016 onwards:"
   ]
  },
  {
   "cell_type": "code",
   "execution_count": 4,
   "metadata": {},
   "outputs": [
    {
     "data": {
      "text/html": [
       "<table>\n",
       "<thead><tr><th scope=col>X</th><th scope=col>year</th><th scope=col>region</th><th scope=col>population</th><th scope=col>education_level</th></tr></thead>\n",
       "<tbody>\n",
       "\t<tr><td>2500    </td><td>2016    </td><td>Espoo   </td><td>274583  </td><td>471     </td></tr>\n",
       "\t<tr><td>2522    </td><td>2016    </td><td>Helsinki</td><td>635181  </td><td>438     </td></tr>\n",
       "\t<tr><td>2558    </td><td>2016    </td><td>Kajaani </td><td> 37521  </td><td>357     </td></tr>\n",
       "\t<tr><td>2811    </td><td>2017    </td><td>Espoo   </td><td>279044  </td><td>476     </td></tr>\n",
       "\t<tr><td>2833    </td><td>2017    </td><td>Helsinki</td><td>643272  </td><td>446     </td></tr>\n",
       "\t<tr><td>2869    </td><td>2017    </td><td>Kajaani </td><td> 37239  </td><td>362     </td></tr>\n",
       "</tbody>\n",
       "</table>\n"
      ],
      "text/latex": [
       "\\begin{tabular}{r|lllll}\n",
       " X & year & region & population & education\\_level\\\\\n",
       "\\hline\n",
       "\t 2500     & 2016     & Espoo    & 274583   & 471     \\\\\n",
       "\t 2522     & 2016     & Helsinki & 635181   & 438     \\\\\n",
       "\t 2558     & 2016     & Kajaani  &  37521   & 357     \\\\\n",
       "\t 2811     & 2017     & Espoo    & 279044   & 476     \\\\\n",
       "\t 2833     & 2017     & Helsinki & 643272   & 446     \\\\\n",
       "\t 2869     & 2017     & Kajaani  &  37239   & 362     \\\\\n",
       "\\end{tabular}\n"
      ],
      "text/markdown": [
       "\n",
       "| X | year | region | population | education_level |\n",
       "|---|---|---|---|---|\n",
       "| 2500     | 2016     | Espoo    | 274583   | 471      |\n",
       "| 2522     | 2016     | Helsinki | 635181   | 438      |\n",
       "| 2558     | 2016     | Kajaani  |  37521   | 357      |\n",
       "| 2811     | 2017     | Espoo    | 279044   | 476      |\n",
       "| 2833     | 2017     | Helsinki | 643272   | 446      |\n",
       "| 2869     | 2017     | Kajaani  |  37239   | 362      |\n",
       "\n"
      ],
      "text/plain": [
       "  X    year region   population education_level\n",
       "1 2500 2016 Espoo    274583     471            \n",
       "2 2522 2016 Helsinki 635181     438            \n",
       "3 2558 2016 Kajaani   37521     357            \n",
       "4 2811 2017 Espoo    279044     476            \n",
       "5 2833 2017 Helsinki 643272     446            \n",
       "6 2869 2017 Kajaani   37239     362            "
      ]
     },
     "metadata": {},
     "output_type": "display_data"
    }
   ],
   "source": [
    "# filter()\n",
    "\n",
    "small_set <- filter(sotkanet, region %in% c(\"Helsinki\",\"Espoo\",\"Kajaani\") & year > 2015 )\n",
    "small_set"
   ]
  },
  {
   "cell_type": "markdown",
   "metadata": {},
   "source": [
    "We might also decide that we no longer need the education level data. One way to leave it out is using the `select()` function:"
   ]
  },
  {
   "cell_type": "code",
   "execution_count": 5,
   "metadata": {},
   "outputs": [
    {
     "data": {
      "text/html": [
       "<table>\n",
       "<thead><tr><th scope=col>X</th><th scope=col>year</th><th scope=col>region</th><th scope=col>population</th></tr></thead>\n",
       "<tbody>\n",
       "\t<tr><td>2500    </td><td>2016    </td><td>Espoo   </td><td>274583  </td></tr>\n",
       "\t<tr><td>2522    </td><td>2016    </td><td>Helsinki</td><td>635181  </td></tr>\n",
       "\t<tr><td>2558    </td><td>2016    </td><td>Kajaani </td><td> 37521  </td></tr>\n",
       "\t<tr><td>2811    </td><td>2017    </td><td>Espoo   </td><td>279044  </td></tr>\n",
       "\t<tr><td>2833    </td><td>2017    </td><td>Helsinki</td><td>643272  </td></tr>\n",
       "\t<tr><td>2869    </td><td>2017    </td><td>Kajaani </td><td> 37239  </td></tr>\n",
       "</tbody>\n",
       "</table>\n"
      ],
      "text/latex": [
       "\\begin{tabular}{r|llll}\n",
       " X & year & region & population\\\\\n",
       "\\hline\n",
       "\t 2500     & 2016     & Espoo    & 274583  \\\\\n",
       "\t 2522     & 2016     & Helsinki & 635181  \\\\\n",
       "\t 2558     & 2016     & Kajaani  &  37521  \\\\\n",
       "\t 2811     & 2017     & Espoo    & 279044  \\\\\n",
       "\t 2833     & 2017     & Helsinki & 643272  \\\\\n",
       "\t 2869     & 2017     & Kajaani  &  37239  \\\\\n",
       "\\end{tabular}\n"
      ],
      "text/markdown": [
       "\n",
       "| X | year | region | population |\n",
       "|---|---|---|---|\n",
       "| 2500     | 2016     | Espoo    | 274583   |\n",
       "| 2522     | 2016     | Helsinki | 635181   |\n",
       "| 2558     | 2016     | Kajaani  |  37521   |\n",
       "| 2811     | 2017     | Espoo    | 279044   |\n",
       "| 2833     | 2017     | Helsinki | 643272   |\n",
       "| 2869     | 2017     | Kajaani  |  37239   |\n",
       "\n"
      ],
      "text/plain": [
       "  X    year region   population\n",
       "1 2500 2016 Espoo    274583    \n",
       "2 2522 2016 Helsinki 635181    \n",
       "3 2558 2016 Kajaani   37521    \n",
       "4 2811 2017 Espoo    279044    \n",
       "5 2833 2017 Helsinki 643272    \n",
       "6 2869 2017 Kajaani   37239    "
      ]
     },
     "metadata": {},
     "output_type": "display_data"
    }
   ],
   "source": [
    "# select()\n",
    "\n",
    "small_set <- select(small_set, X, year, region, population)\n",
    "small_set"
   ]
  },
  {
   "cell_type": "markdown",
   "metadata": {},
   "source": [
    "You've probably noticed that, even after filtering, the data set contains information spanning a couple of years (2016 and 2017). The dplyr package comes with a very useful function called `group_by()`, which enables us to group our data by a variable of interest. Here, we can use it to group the entire data set based on the year when the measurements were collected. After this, we can also use `summarize()` to calculate population summaries for each year:"
   ]
  },
  {
   "cell_type": "code",
   "execution_count": 6,
   "metadata": {},
   "outputs": [
    {
     "data": {
      "text/html": [
       "<table>\n",
       "<thead><tr><th scope=col>X</th><th scope=col>year</th><th scope=col>region</th><th scope=col>population</th></tr></thead>\n",
       "<tbody>\n",
       "\t<tr><td>2500    </td><td>2016    </td><td>Espoo   </td><td>274583  </td></tr>\n",
       "\t<tr><td>2522    </td><td>2016    </td><td>Helsinki</td><td>635181  </td></tr>\n",
       "\t<tr><td>2558    </td><td>2016    </td><td>Kajaani </td><td> 37521  </td></tr>\n",
       "\t<tr><td>2811    </td><td>2017    </td><td>Espoo   </td><td>279044  </td></tr>\n",
       "\t<tr><td>2833    </td><td>2017    </td><td>Helsinki</td><td>643272  </td></tr>\n",
       "\t<tr><td>2869    </td><td>2017    </td><td>Kajaani </td><td> 37239  </td></tr>\n",
       "</tbody>\n",
       "</table>\n"
      ],
      "text/latex": [
       "\\begin{tabular}{r|llll}\n",
       " X & year & region & population\\\\\n",
       "\\hline\n",
       "\t 2500     & 2016     & Espoo    & 274583  \\\\\n",
       "\t 2522     & 2016     & Helsinki & 635181  \\\\\n",
       "\t 2558     & 2016     & Kajaani  &  37521  \\\\\n",
       "\t 2811     & 2017     & Espoo    & 279044  \\\\\n",
       "\t 2833     & 2017     & Helsinki & 643272  \\\\\n",
       "\t 2869     & 2017     & Kajaani  &  37239  \\\\\n",
       "\\end{tabular}\n"
      ],
      "text/markdown": [
       "\n",
       "| X | year | region | population |\n",
       "|---|---|---|---|\n",
       "| 2500     | 2016     | Espoo    | 274583   |\n",
       "| 2522     | 2016     | Helsinki | 635181   |\n",
       "| 2558     | 2016     | Kajaani  |  37521   |\n",
       "| 2811     | 2017     | Espoo    | 279044   |\n",
       "| 2833     | 2017     | Helsinki | 643272   |\n",
       "| 2869     | 2017     | Kajaani  |  37239   |\n",
       "\n"
      ],
      "text/plain": [
       "  X    year region   population\n",
       "1 2500 2016 Espoo    274583    \n",
       "2 2522 2016 Helsinki 635181    \n",
       "3 2558 2016 Kajaani   37521    \n",
       "4 2811 2017 Espoo    279044    \n",
       "5 2833 2017 Helsinki 643272    \n",
       "6 2869 2017 Kajaani   37239    "
      ]
     },
     "metadata": {},
     "output_type": "display_data"
    },
    {
     "data": {
      "text/html": [
       "<table>\n",
       "<thead><tr><th scope=col>year</th><th scope=col>sum_population</th></tr></thead>\n",
       "<tbody>\n",
       "\t<tr><td>2016  </td><td>947285</td></tr>\n",
       "\t<tr><td>2017  </td><td>959555</td></tr>\n",
       "</tbody>\n",
       "</table>\n"
      ],
      "text/latex": [
       "\\begin{tabular}{r|ll}\n",
       " year & sum\\_population\\\\\n",
       "\\hline\n",
       "\t 2016   & 947285\\\\\n",
       "\t 2017   & 959555\\\\\n",
       "\\end{tabular}\n"
      ],
      "text/markdown": [
       "\n",
       "| year | sum_population |\n",
       "|---|---|\n",
       "| 2016   | 947285 |\n",
       "| 2017   | 959555 |\n",
       "\n"
      ],
      "text/plain": [
       "  year sum_population\n",
       "1 2016 947285        \n",
       "2 2017 959555        "
      ]
     },
     "metadata": {},
     "output_type": "display_data"
    }
   ],
   "source": [
    "# Group_by()\n",
    "\n",
    "grouped_set <- group_by(small_set, year)\n",
    "\n",
    "# Summarize() (population sizes)\n",
    "\n",
    "summared_set <- summarize(grouped_set, sum_population = sum(population))\n",
    "\n",
    "# Check what they look like\n",
    "\n",
    "grouped_set\n",
    "summared_set"
   ]
  },
  {
   "cell_type": "markdown",
   "metadata": {},
   "source": [
    "One of the most powerful functions inside the entire tidyverse is called `mutate()`. Its purpose may be difficult to guess based on the name alone, but essentially we can use it to create entirely new variables inside our data set, based on calculations or other operations done using existing variables. For example, we might want to create a variable which is the sum of the variables 'year' and 'population'. Another example is to create new row labels by pasting together information from two different columns."
   ]
  },
  {
   "cell_type": "code",
   "execution_count": 7,
   "metadata": {
    "scrolled": true
   },
   "outputs": [
    {
     "data": {
      "text/html": [
       "<table>\n",
       "<thead><tr><th scope=col>X</th><th scope=col>year</th><th scope=col>region</th><th scope=col>population</th><th scope=col>mutation1</th><th scope=col>mutation2</th></tr></thead>\n",
       "<tbody>\n",
       "\t<tr><td>2500        </td><td>2016        </td><td>Espoo       </td><td>274583      </td><td>276599      </td><td>Espoo2500   </td></tr>\n",
       "\t<tr><td>2522        </td><td>2016        </td><td>Helsinki    </td><td>635181      </td><td>637197      </td><td>Helsinki2522</td></tr>\n",
       "\t<tr><td>2558        </td><td>2016        </td><td>Kajaani     </td><td> 37521      </td><td> 39537      </td><td>Kajaani2558 </td></tr>\n",
       "\t<tr><td>2811        </td><td>2017        </td><td>Espoo       </td><td>279044      </td><td>281061      </td><td>Espoo2811   </td></tr>\n",
       "\t<tr><td>2833        </td><td>2017        </td><td>Helsinki    </td><td>643272      </td><td>645289      </td><td>Helsinki2833</td></tr>\n",
       "\t<tr><td>2869        </td><td>2017        </td><td>Kajaani     </td><td> 37239      </td><td> 39256      </td><td>Kajaani2869 </td></tr>\n",
       "</tbody>\n",
       "</table>\n"
      ],
      "text/latex": [
       "\\begin{tabular}{r|llllll}\n",
       " X & year & region & population & mutation1 & mutation2\\\\\n",
       "\\hline\n",
       "\t 2500         & 2016         & Espoo        & 274583       & 276599       & Espoo2500   \\\\\n",
       "\t 2522         & 2016         & Helsinki     & 635181       & 637197       & Helsinki2522\\\\\n",
       "\t 2558         & 2016         & Kajaani      &  37521       &  39537       & Kajaani2558 \\\\\n",
       "\t 2811         & 2017         & Espoo        & 279044       & 281061       & Espoo2811   \\\\\n",
       "\t 2833         & 2017         & Helsinki     & 643272       & 645289       & Helsinki2833\\\\\n",
       "\t 2869         & 2017         & Kajaani      &  37239       &  39256       & Kajaani2869 \\\\\n",
       "\\end{tabular}\n"
      ],
      "text/markdown": [
       "\n",
       "| X | year | region | population | mutation1 | mutation2 |\n",
       "|---|---|---|---|---|---|\n",
       "| 2500         | 2016         | Espoo        | 274583       | 276599       | Espoo2500    |\n",
       "| 2522         | 2016         | Helsinki     | 635181       | 637197       | Helsinki2522 |\n",
       "| 2558         | 2016         | Kajaani      |  37521       |  39537       | Kajaani2558  |\n",
       "| 2811         | 2017         | Espoo        | 279044       | 281061       | Espoo2811    |\n",
       "| 2833         | 2017         | Helsinki     | 643272       | 645289       | Helsinki2833 |\n",
       "| 2869         | 2017         | Kajaani      |  37239       |  39256       | Kajaani2869  |\n",
       "\n"
      ],
      "text/plain": [
       "  X    year region   population mutation1 mutation2   \n",
       "1 2500 2016 Espoo    274583     276599    Espoo2500   \n",
       "2 2522 2016 Helsinki 635181     637197    Helsinki2522\n",
       "3 2558 2016 Kajaani   37521      39537    Kajaani2558 \n",
       "4 2811 2017 Espoo    279044     281061    Espoo2811   \n",
       "5 2833 2017 Helsinki 643272     645289    Helsinki2833\n",
       "6 2869 2017 Kajaani   37239      39256    Kajaani2869 "
      ]
     },
     "metadata": {},
     "output_type": "display_data"
    }
   ],
   "source": [
    "# Mutate() the small_set created previously and create two new variables\n",
    "\n",
    "small_set <- mutate(small_set, mutation1 = year+population, mutation2 = paste0(region,X))\n",
    "\n",
    "small_set"
   ]
  },
  {
   "cell_type": "markdown",
   "metadata": {},
   "source": [
    "### Exercise: putting dplyr to work\n",
    "\n",
    "We've now covered a number of useful features for data manipulation in the dplyr package (a part of tidyverse). Next, try working with the sotkanet data set by yourself - you can start with the original unfiltered data set and create something new using the various functions above. For example, you could start by grouping the data by the region rather than the year, or you could use the `filter()` command to look at cities that we didn't inspect so far."
   ]
  },
  {
   "cell_type": "code",
   "execution_count": 8,
   "metadata": {},
   "outputs": [
    {
     "data": {
      "text/html": [
       "<table>\n",
       "<thead><tr><th scope=col>X</th><th scope=col>year</th><th scope=col>region</th><th scope=col>population</th></tr></thead>\n",
       "<tbody>\n",
       "\t<tr><td>2489     </td><td>2016     </td><td>Akaa     </td><td>16923    </td></tr>\n",
       "\t<tr><td>2490     </td><td>2016     </td><td>Alajärvi </td><td> 9899    </td></tr>\n",
       "\t<tr><td>2491     </td><td>2016     </td><td>Alavieska</td><td> 2639    </td></tr>\n",
       "\t<tr><td>2492     </td><td>2016     </td><td>Alavus   </td><td>11907    </td></tr>\n",
       "\t<tr><td>2493     </td><td>2016     </td><td>Asikkala </td><td> 8323    </td></tr>\n",
       "\t<tr><td>2494     </td><td>2016     </td><td>Askola   </td><td> 5046    </td></tr>\n",
       "\t<tr><td>2495     </td><td>2016     </td><td>Aura     </td><td> 3984    </td></tr>\n",
       "\t<tr><td>2496     </td><td>2016     </td><td>Brändö   </td><td>  471    </td></tr>\n",
       "\t<tr><td>2497     </td><td>2016     </td><td>Eckerö   </td><td>  928    </td></tr>\n",
       "\t<tr><td>2498     </td><td>2016     </td><td>Enonkoski</td><td> 1453    </td></tr>\n",
       "</tbody>\n",
       "</table>\n"
      ],
      "text/latex": [
       "\\begin{tabular}{r|llll}\n",
       " X & year & region & population\\\\\n",
       "\\hline\n",
       "\t 2489      & 2016      & Akaa      & 16923    \\\\\n",
       "\t 2490      & 2016      & Alajärvi  &  9899    \\\\\n",
       "\t 2491      & 2016      & Alavieska &  2639    \\\\\n",
       "\t 2492      & 2016      & Alavus    & 11907    \\\\\n",
       "\t 2493      & 2016      & Asikkala  &  8323    \\\\\n",
       "\t 2494      & 2016      & Askola    &  5046    \\\\\n",
       "\t 2495      & 2016      & Aura      &  3984    \\\\\n",
       "\t 2496      & 2016      & Brändö    &   471    \\\\\n",
       "\t 2497      & 2016      & Eckerö    &   928    \\\\\n",
       "\t 2498      & 2016      & Enonkoski &  1453    \\\\\n",
       "\\end{tabular}\n"
      ],
      "text/markdown": [
       "\n",
       "| X | year | region | population |\n",
       "|---|---|---|---|\n",
       "| 2489      | 2016      | Akaa      | 16923     |\n",
       "| 2490      | 2016      | Alajärvi  |  9899     |\n",
       "| 2491      | 2016      | Alavieska |  2639     |\n",
       "| 2492      | 2016      | Alavus    | 11907     |\n",
       "| 2493      | 2016      | Asikkala  |  8323     |\n",
       "| 2494      | 2016      | Askola    |  5046     |\n",
       "| 2495      | 2016      | Aura      |  3984     |\n",
       "| 2496      | 2016      | Brändö    |   471     |\n",
       "| 2497      | 2016      | Eckerö    |   928     |\n",
       "| 2498      | 2016      | Enonkoski |  1453     |\n",
       "\n"
      ],
      "text/plain": [
       "   X    year region    population\n",
       "1  2489 2016 Akaa      16923     \n",
       "2  2490 2016 Alajärvi   9899     \n",
       "3  2491 2016 Alavieska  2639     \n",
       "4  2492 2016 Alavus    11907     \n",
       "5  2493 2016 Asikkala   8323     \n",
       "6  2494 2016 Askola     5046     \n",
       "7  2495 2016 Aura       3984     \n",
       "8  2496 2016 Brändö      471     \n",
       "9  2497 2016 Eckerö      928     \n",
       "10 2498 2016 Enonkoski  1453     "
      ]
     },
     "metadata": {},
     "output_type": "display_data"
    },
    {
     "data": {
      "text/html": [
       "<table>\n",
       "<thead><tr><th scope=col>region</th><th scope=col>sum_population</th></tr></thead>\n",
       "<tbody>\n",
       "\t<tr><td>Äänekoski</td><td>38518    </td></tr>\n",
       "\t<tr><td>Ähtäri   </td><td>11891    </td></tr>\n",
       "\t<tr><td>Akaa     </td><td>33692    </td></tr>\n",
       "\t<tr><td>Alajärvi </td><td>19730    </td></tr>\n",
       "\t<tr><td>Alavieska</td><td> 5249    </td></tr>\n",
       "\t<tr><td>Alavus   </td><td>23620    </td></tr>\n",
       "\t<tr><td>Asikkala </td><td>16571    </td></tr>\n",
       "\t<tr><td>Askola   </td><td>10036    </td></tr>\n",
       "\t<tr><td>Aura     </td><td> 7975    </td></tr>\n",
       "\t<tr><td>Brändö   </td><td>  923    </td></tr>\n",
       "</tbody>\n",
       "</table>\n"
      ],
      "text/latex": [
       "\\begin{tabular}{r|ll}\n",
       " region & sum\\_population\\\\\n",
       "\\hline\n",
       "\t Äänekoski & 38518    \\\\\n",
       "\t Ähtäri    & 11891    \\\\\n",
       "\t Akaa      & 33692    \\\\\n",
       "\t Alajärvi  & 19730    \\\\\n",
       "\t Alavieska &  5249    \\\\\n",
       "\t Alavus    & 23620    \\\\\n",
       "\t Asikkala  & 16571    \\\\\n",
       "\t Askola    & 10036    \\\\\n",
       "\t Aura      &  7975    \\\\\n",
       "\t Brändö    &   923    \\\\\n",
       "\\end{tabular}\n"
      ],
      "text/markdown": [
       "\n",
       "| region | sum_population |\n",
       "|---|---|\n",
       "| Äänekoski | 38518     |\n",
       "| Ähtäri    | 11891     |\n",
       "| Akaa      | 33692     |\n",
       "| Alajärvi  | 19730     |\n",
       "| Alavieska |  5249     |\n",
       "| Alavus    | 23620     |\n",
       "| Asikkala  | 16571     |\n",
       "| Askola    | 10036     |\n",
       "| Aura      |  7975     |\n",
       "| Brändö    |   923     |\n",
       "\n"
      ],
      "text/plain": [
       "   region    sum_population\n",
       "1  Äänekoski 38518         \n",
       "2  Ähtäri    11891         \n",
       "3  Akaa      33692         \n",
       "4  Alajärvi  19730         \n",
       "5  Alavieska  5249         \n",
       "6  Alavus    23620         \n",
       "7  Asikkala  16571         \n",
       "8  Askola    10036         \n",
       "9  Aura       7975         \n",
       "10 Brändö      923         "
      ]
     },
     "metadata": {},
     "output_type": "display_data"
    }
   ],
   "source": [
    "new_set <- filter(sotkanet, year > 2015 )\n",
    "\n",
    "new_set <- select(new_set, X, year, region, population)\n",
    "\n",
    "grouped_set <- group_by(new_set, region)\n",
    "\n",
    "summared_set <- summarize(grouped_set, sum_population = sum(population))\n",
    "\n",
    "# Check what they look like\n",
    "\n",
    "head(grouped_set,10)\n",
    "head(summared_set,10)"
   ]
  },
  {
   "cell_type": "markdown",
   "metadata": {},
   "source": [
    "## More data wrangling functions: spread() and gather()\n",
    " \n",
    "Another tidyverse package, tidyr, has two very powerful data wrangling functions. These will help you to make columns out of rows and vice versa.\n",
    "\n",
    "First, let's take our small_set data and spread years to columns."
   ]
  },
  {
   "cell_type": "code",
   "execution_count": 9,
   "metadata": {},
   "outputs": [
    {
     "data": {
      "text/html": [
       "<table>\n",
       "<thead><tr><th scope=col>region</th><th scope=col>population</th><th scope=col>year</th></tr></thead>\n",
       "<tbody>\n",
       "\t<tr><td>Espoo   </td><td>274583  </td><td>2016    </td></tr>\n",
       "\t<tr><td>Helsinki</td><td>635181  </td><td>2016    </td></tr>\n",
       "\t<tr><td>Kajaani </td><td> 37521  </td><td>2016    </td></tr>\n",
       "\t<tr><td>Espoo   </td><td>279044  </td><td>2017    </td></tr>\n",
       "\t<tr><td>Helsinki</td><td>643272  </td><td>2017    </td></tr>\n",
       "\t<tr><td>Kajaani </td><td> 37239  </td><td>2017    </td></tr>\n",
       "</tbody>\n",
       "</table>\n"
      ],
      "text/latex": [
       "\\begin{tabular}{r|lll}\n",
       " region & population & year\\\\\n",
       "\\hline\n",
       "\t Espoo    & 274583   & 2016    \\\\\n",
       "\t Helsinki & 635181   & 2016    \\\\\n",
       "\t Kajaani  &  37521   & 2016    \\\\\n",
       "\t Espoo    & 279044   & 2017    \\\\\n",
       "\t Helsinki & 643272   & 2017    \\\\\n",
       "\t Kajaani  &  37239   & 2017    \\\\\n",
       "\\end{tabular}\n"
      ],
      "text/markdown": [
       "\n",
       "| region | population | year |\n",
       "|---|---|---|\n",
       "| Espoo    | 274583   | 2016     |\n",
       "| Helsinki | 635181   | 2016     |\n",
       "| Kajaani  |  37521   | 2016     |\n",
       "| Espoo    | 279044   | 2017     |\n",
       "| Helsinki | 643272   | 2017     |\n",
       "| Kajaani  |  37239   | 2017     |\n",
       "\n"
      ],
      "text/plain": [
       "  region   population year\n",
       "1 Espoo    274583     2016\n",
       "2 Helsinki 635181     2016\n",
       "3 Kajaani   37521     2016\n",
       "4 Espoo    279044     2017\n",
       "5 Helsinki 643272     2017\n",
       "6 Kajaani   37239     2017"
      ]
     },
     "metadata": {},
     "output_type": "display_data"
    },
    {
     "data": {
      "text/html": [
       "<table>\n",
       "<thead><tr><th scope=col>region</th><th scope=col>2016</th><th scope=col>2017</th></tr></thead>\n",
       "<tbody>\n",
       "\t<tr><td>Espoo   </td><td>274583  </td><td>279044  </td></tr>\n",
       "\t<tr><td>Helsinki</td><td>635181  </td><td>643272  </td></tr>\n",
       "\t<tr><td>Kajaani </td><td> 37521  </td><td> 37239  </td></tr>\n",
       "</tbody>\n",
       "</table>\n"
      ],
      "text/latex": [
       "\\begin{tabular}{r|lll}\n",
       " region & 2016 & 2017\\\\\n",
       "\\hline\n",
       "\t Espoo    & 274583   & 279044  \\\\\n",
       "\t Helsinki & 635181   & 643272  \\\\\n",
       "\t Kajaani  &  37521   &  37239  \\\\\n",
       "\\end{tabular}\n"
      ],
      "text/markdown": [
       "\n",
       "| region | 2016 | 2017 |\n",
       "|---|---|---|\n",
       "| Espoo    | 274583   | 279044   |\n",
       "| Helsinki | 635181   | 643272   |\n",
       "| Kajaani  |  37521   |  37239   |\n",
       "\n"
      ],
      "text/plain": [
       "  region   2016   2017  \n",
       "1 Espoo    274583 279044\n",
       "2 Helsinki 635181 643272\n",
       "3 Kajaani   37521  37239"
      ]
     },
     "metadata": {},
     "output_type": "display_data"
    }
   ],
   "source": [
    "# spread\n",
    "\n",
    "# first, select only useful variables\n",
    "tiny_set <- select(small_set, region, population, year)\n",
    "tiny_set\n",
    "\n",
    "# second, spread\n",
    "tiny_spread <- spread(tiny_set, key = year, value = population)\n",
    "tiny_spread"
   ]
  },
  {
   "cell_type": "code",
   "execution_count": 10,
   "metadata": {},
   "outputs": [
    {
     "data": {
      "text/html": [
       "<table>\n",
       "<thead><tr><th scope=col>region</th><th scope=col>year</th><th scope=col>population</th></tr></thead>\n",
       "<tbody>\n",
       "\t<tr><td>Espoo   </td><td>2016    </td><td>274583  </td></tr>\n",
       "\t<tr><td>Helsinki</td><td>2016    </td><td>635181  </td></tr>\n",
       "\t<tr><td>Kajaani </td><td>2016    </td><td> 37521  </td></tr>\n",
       "\t<tr><td>Espoo   </td><td>2017    </td><td>279044  </td></tr>\n",
       "\t<tr><td>Helsinki</td><td>2017    </td><td>643272  </td></tr>\n",
       "\t<tr><td>Kajaani </td><td>2017    </td><td> 37239  </td></tr>\n",
       "</tbody>\n",
       "</table>\n"
      ],
      "text/latex": [
       "\\begin{tabular}{r|lll}\n",
       " region & year & population\\\\\n",
       "\\hline\n",
       "\t Espoo    & 2016     & 274583  \\\\\n",
       "\t Helsinki & 2016     & 635181  \\\\\n",
       "\t Kajaani  & 2016     &  37521  \\\\\n",
       "\t Espoo    & 2017     & 279044  \\\\\n",
       "\t Helsinki & 2017     & 643272  \\\\\n",
       "\t Kajaani  & 2017     &  37239  \\\\\n",
       "\\end{tabular}\n"
      ],
      "text/markdown": [
       "\n",
       "| region | year | population |\n",
       "|---|---|---|\n",
       "| Espoo    | 2016     | 274583   |\n",
       "| Helsinki | 2016     | 635181   |\n",
       "| Kajaani  | 2016     |  37521   |\n",
       "| Espoo    | 2017     | 279044   |\n",
       "| Helsinki | 2017     | 643272   |\n",
       "| Kajaani  | 2017     |  37239   |\n",
       "\n"
      ],
      "text/plain": [
       "  region   year population\n",
       "1 Espoo    2016 274583    \n",
       "2 Helsinki 2016 635181    \n",
       "3 Kajaani  2016  37521    \n",
       "4 Espoo    2017 279044    \n",
       "5 Helsinki 2017 643272    \n",
       "6 Kajaani  2017  37239    "
      ]
     },
     "metadata": {},
     "output_type": "display_data"
    }
   ],
   "source": [
    "# gather\n",
    "\n",
    "# gather is the opposite of spread\n",
    "\n",
    "# notice that here you need to name the \"new\", columns that we make (year and population)\n",
    "# AND select which columns to gather (2016 ans 2017)\n",
    "\n",
    "gather(tiny_spread, key = year, value = population, \"2016\", \"2017\")"
   ]
  },
  {
   "cell_type": "markdown",
   "metadata": {},
   "source": [
    "### Exercise: Spread by region\n",
    "\n",
    "Take the small_set dataframe and spread it by region. Also, try to gather the results\n"
   ]
  },
  {
   "cell_type": "code",
   "execution_count": 11,
   "metadata": {},
   "outputs": [
    {
     "data": {
      "text/html": [
       "<table>\n",
       "<thead><tr><th scope=col>year</th><th scope=col>Espoo</th><th scope=col>Helsinki</th><th scope=col>Kajaani</th></tr></thead>\n",
       "<tbody>\n",
       "\t<tr><td>2016  </td><td>274583</td><td>635181</td><td>37521 </td></tr>\n",
       "\t<tr><td>2017  </td><td>279044</td><td>643272</td><td>37239 </td></tr>\n",
       "</tbody>\n",
       "</table>\n"
      ],
      "text/latex": [
       "\\begin{tabular}{r|llll}\n",
       " year & Espoo & Helsinki & Kajaani\\\\\n",
       "\\hline\n",
       "\t 2016   & 274583 & 635181 & 37521 \\\\\n",
       "\t 2017   & 279044 & 643272 & 37239 \\\\\n",
       "\\end{tabular}\n"
      ],
      "text/markdown": [
       "\n",
       "| year | Espoo | Helsinki | Kajaani |\n",
       "|---|---|---|---|\n",
       "| 2016   | 274583 | 635181 | 37521  |\n",
       "| 2017   | 279044 | 643272 | 37239  |\n",
       "\n"
      ],
      "text/plain": [
       "  year Espoo  Helsinki Kajaani\n",
       "1 2016 274583 635181   37521  \n",
       "2 2017 279044 643272   37239  "
      ]
     },
     "metadata": {},
     "output_type": "display_data"
    },
    {
     "data": {
      "text/html": [
       "<table>\n",
       "<thead><tr><th scope=col>year</th><th scope=col>region</th><th scope=col>population</th></tr></thead>\n",
       "<tbody>\n",
       "\t<tr><td>2016    </td><td>Espoo   </td><td>274583  </td></tr>\n",
       "\t<tr><td>2017    </td><td>Espoo   </td><td>279044  </td></tr>\n",
       "\t<tr><td>2016    </td><td>Helsinki</td><td>635181  </td></tr>\n",
       "\t<tr><td>2017    </td><td>Helsinki</td><td>643272  </td></tr>\n",
       "\t<tr><td>2016    </td><td>Kajaani </td><td> 37521  </td></tr>\n",
       "\t<tr><td>2017    </td><td>Kajaani </td><td> 37239  </td></tr>\n",
       "</tbody>\n",
       "</table>\n"
      ],
      "text/latex": [
       "\\begin{tabular}{r|lll}\n",
       " year & region & population\\\\\n",
       "\\hline\n",
       "\t 2016     & Espoo    & 274583  \\\\\n",
       "\t 2017     & Espoo    & 279044  \\\\\n",
       "\t 2016     & Helsinki & 635181  \\\\\n",
       "\t 2017     & Helsinki & 643272  \\\\\n",
       "\t 2016     & Kajaani  &  37521  \\\\\n",
       "\t 2017     & Kajaani  &  37239  \\\\\n",
       "\\end{tabular}\n"
      ],
      "text/markdown": [
       "\n",
       "| year | region | population |\n",
       "|---|---|---|\n",
       "| 2016     | Espoo    | 274583   |\n",
       "| 2017     | Espoo    | 279044   |\n",
       "| 2016     | Helsinki | 635181   |\n",
       "| 2017     | Helsinki | 643272   |\n",
       "| 2016     | Kajaani  |  37521   |\n",
       "| 2017     | Kajaani  |  37239   |\n",
       "\n"
      ],
      "text/plain": [
       "  year region   population\n",
       "1 2016 Espoo    274583    \n",
       "2 2017 Espoo    279044    \n",
       "3 2016 Helsinki 635181    \n",
       "4 2017 Helsinki 643272    \n",
       "5 2016 Kajaani   37521    \n",
       "6 2017 Kajaani   37239    "
      ]
     },
     "metadata": {},
     "output_type": "display_data"
    }
   ],
   "source": [
    "# spread\n",
    "tiny_spread2 <- spread(tiny_set, key = region, value = population)\n",
    "tiny_spread2\n",
    "\n",
    "# gather\n",
    "gather(tiny_spread2, key = region, value = population, \"Espoo\", \"Helsinki\", \"Kajaani\")"
   ]
  },
  {
   "cell_type": "markdown",
   "metadata": {},
   "source": [
    "### Extra example (diffuculty warning)\n",
    "\n",
    "Let's say we want to really mutate our data, and turn our education level column into a categorical variable instead of numeric.\n",
    "\n",
    "There are many ways to do this, but cutting and mutating is one. Let's start by creating category limits for the education level.\n"
   ]
  },
  {
   "cell_type": "code",
   "execution_count": 12,
   "metadata": {},
   "outputs": [
    {
     "data": {
      "text/html": [
       "176"
      ],
      "text/latex": [
       "176"
      ],
      "text/markdown": [
       "176"
      ],
      "text/plain": [
       "[1] 176"
      ]
     },
     "metadata": {},
     "output_type": "display_data"
    },
    {
     "data": {
      "text/html": [
       "589"
      ],
      "text/latex": [
       "589"
      ],
      "text/markdown": [
       "589"
      ],
      "text/plain": [
       "[1] 589"
      ]
     },
     "metadata": {},
     "output_type": "display_data"
    }
   ],
   "source": [
    "# Check what are max and min of education level\n",
    "min(sotkanet$education_level)\n",
    "max(sotkanet$education_level)"
   ]
  },
  {
   "cell_type": "code",
   "execution_count": 13,
   "metadata": {},
   "outputs": [
    {
     "data": {
      "text/html": [
       "<ol class=list-inline>\n",
       "\t<li>176</li>\n",
       "\t<li>313.666666666667</li>\n",
       "\t<li>451.333333333333</li>\n",
       "\t<li>589</li>\n",
       "</ol>\n"
      ],
      "text/latex": [
       "\\begin{enumerate*}\n",
       "\\item 176\n",
       "\\item 313.666666666667\n",
       "\\item 451.333333333333\n",
       "\\item 589\n",
       "\\end{enumerate*}\n"
      ],
      "text/markdown": [
       "1. 176\n",
       "2. 313.666666666667\n",
       "3. 451.333333333333\n",
       "4. 589\n",
       "\n",
       "\n"
      ],
      "text/plain": [
       "[1] 176.0000 313.6667 451.3333 589.0000"
      ]
     },
     "metadata": {},
     "output_type": "display_data"
    }
   ],
   "source": [
    "# Let's create a sequence of numbers between minimum and maximum of education level, 4 points in total\n",
    "points <- seq(min(sotkanet$education_level), max(sotkanet$education_level), length.out=4)\n",
    "points"
   ]
  },
  {
   "cell_type": "code",
   "execution_count": 14,
   "metadata": {},
   "outputs": [
    {
     "data": {
      "text/html": [
       "<table>\n",
       "<thead><tr><th scope=col>X</th><th scope=col>year</th><th scope=col>region</th><th scope=col>population</th><th scope=col>education_level</th><th scope=col>category</th></tr></thead>\n",
       "<tbody>\n",
       "\t<tr><td>1        </td><td>2008     </td><td>Akaa     </td><td>16837    </td><td>284      </td><td>low      </td></tr>\n",
       "\t<tr><td>2        </td><td>2008     </td><td>Alajärvi </td><td>10634    </td><td>253      </td><td>low      </td></tr>\n",
       "\t<tr><td>3        </td><td>2008     </td><td>Alavieska</td><td> 2759    </td><td>246      </td><td>low      </td></tr>\n",
       "\t<tr><td>4        </td><td>2008     </td><td>Alavus   </td><td>12706    </td><td>244      </td><td>low      </td></tr>\n",
       "\t<tr><td>5        </td><td>2008     </td><td>Asikkala </td><td> 8604    </td><td>278      </td><td>low      </td></tr>\n",
       "\t<tr><td>6        </td><td>2008     </td><td>Askola   </td><td> 4761    </td><td>270      </td><td>low      </td></tr>\n",
       "</tbody>\n",
       "</table>\n"
      ],
      "text/latex": [
       "\\begin{tabular}{r|llllll}\n",
       " X & year & region & population & education\\_level & category\\\\\n",
       "\\hline\n",
       "\t 1         & 2008      & Akaa      & 16837     & 284       & low      \\\\\n",
       "\t 2         & 2008      & Alajärvi  & 10634     & 253       & low      \\\\\n",
       "\t 3         & 2008      & Alavieska &  2759     & 246       & low      \\\\\n",
       "\t 4         & 2008      & Alavus    & 12706     & 244       & low      \\\\\n",
       "\t 5         & 2008      & Asikkala  &  8604     & 278       & low      \\\\\n",
       "\t 6         & 2008      & Askola    &  4761     & 270       & low      \\\\\n",
       "\\end{tabular}\n"
      ],
      "text/markdown": [
       "\n",
       "| X | year | region | population | education_level | category |\n",
       "|---|---|---|---|---|---|\n",
       "| 1         | 2008      | Akaa      | 16837     | 284       | low       |\n",
       "| 2         | 2008      | Alajärvi  | 10634     | 253       | low       |\n",
       "| 3         | 2008      | Alavieska |  2759     | 246       | low       |\n",
       "| 4         | 2008      | Alavus    | 12706     | 244       | low       |\n",
       "| 5         | 2008      | Asikkala  |  8604     | 278       | low       |\n",
       "| 6         | 2008      | Askola    |  4761     | 270       | low       |\n",
       "\n"
      ],
      "text/plain": [
       "  X year region    population education_level category\n",
       "1 1 2008 Akaa      16837      284             low     \n",
       "2 2 2008 Alajärvi  10634      253             low     \n",
       "3 3 2008 Alavieska  2759      246             low     \n",
       "4 4 2008 Alavus    12706      244             low     \n",
       "5 5 2008 Asikkala   8604      278             low     \n",
       "6 6 2008 Askola     4761      270             low     "
      ]
     },
     "metadata": {},
     "output_type": "display_data"
    }
   ],
   "source": [
    "# Make new variable called category by cutting our numeric variable into classes\n",
    "sotkanet <- mutate(sotkanet, category=cut(education_level, breaks=points, labels=c(\"low\",\"middle\",\"high\"),\n",
    "                                         include.lowest = TRUE))\n",
    "# print the head\n",
    "head(sotkanet)"
   ]
  },
  {
   "cell_type": "code",
   "execution_count": 15,
   "metadata": {},
   "outputs": [
    {
     "data": {
      "text/html": [
       "<table>\n",
       "<thead><tr><th scope=col>year</th><th scope=col>low</th><th scope=col>middle</th><th scope=col>high</th></tr></thead>\n",
       "<tbody>\n",
       "\t<tr><td>2008</td><td>261 </td><td> 49 </td><td>1   </td></tr>\n",
       "\t<tr><td>2009</td><td>256 </td><td> 53 </td><td>2   </td></tr>\n",
       "\t<tr><td>2010</td><td>253 </td><td> 56 </td><td>2   </td></tr>\n",
       "\t<tr><td>2011</td><td>246 </td><td> 63 </td><td>2   </td></tr>\n",
       "\t<tr><td>2012</td><td>239 </td><td> 70 </td><td>2   </td></tr>\n",
       "\t<tr><td>2013</td><td>235 </td><td> 74 </td><td>2   </td></tr>\n",
       "\t<tr><td>2014</td><td>226 </td><td> 83 </td><td>2   </td></tr>\n",
       "\t<tr><td>2015</td><td>218 </td><td> 91 </td><td>2   </td></tr>\n",
       "\t<tr><td>2016</td><td>212 </td><td> 97 </td><td>2   </td></tr>\n",
       "\t<tr><td>2017</td><td>194 </td><td>115 </td><td>2   </td></tr>\n",
       "</tbody>\n",
       "</table>\n"
      ],
      "text/latex": [
       "\\begin{tabular}{r|llll}\n",
       " year & low & middle & high\\\\\n",
       "\\hline\n",
       "\t 2008 & 261  &  49  & 1   \\\\\n",
       "\t 2009 & 256  &  53  & 2   \\\\\n",
       "\t 2010 & 253  &  56  & 2   \\\\\n",
       "\t 2011 & 246  &  63  & 2   \\\\\n",
       "\t 2012 & 239  &  70  & 2   \\\\\n",
       "\t 2013 & 235  &  74  & 2   \\\\\n",
       "\t 2014 & 226  &  83  & 2   \\\\\n",
       "\t 2015 & 218  &  91  & 2   \\\\\n",
       "\t 2016 & 212  &  97  & 2   \\\\\n",
       "\t 2017 & 194  & 115  & 2   \\\\\n",
       "\\end{tabular}\n"
      ],
      "text/markdown": [
       "\n",
       "| year | low | middle | high |\n",
       "|---|---|---|---|\n",
       "| 2008 | 261  |  49  | 1    |\n",
       "| 2009 | 256  |  53  | 2    |\n",
       "| 2010 | 253  |  56  | 2    |\n",
       "| 2011 | 246  |  63  | 2    |\n",
       "| 2012 | 239  |  70  | 2    |\n",
       "| 2013 | 235  |  74  | 2    |\n",
       "| 2014 | 226  |  83  | 2    |\n",
       "| 2015 | 218  |  91  | 2    |\n",
       "| 2016 | 212  |  97  | 2    |\n",
       "| 2017 | 194  | 115  | 2    |\n",
       "\n"
      ],
      "text/plain": [
       "   year low middle high\n",
       "1  2008 261  49    1   \n",
       "2  2009 256  53    2   \n",
       "3  2010 253  56    2   \n",
       "4  2011 246  63    2   \n",
       "5  2012 239  70    2   \n",
       "6  2013 235  74    2   \n",
       "7  2014 226  83    2   \n",
       "8  2015 218  91    2   \n",
       "9  2016 212  97    2   \n",
       "10 2017 194 115    2   "
      ]
     },
     "metadata": {},
     "output_type": "display_data"
    }
   ],
   "source": [
    "# Compare numbers of categories by year and by region\n",
    "\n",
    "# group by year AND category\n",
    "grouped <- group_by(sotkanet, year, category)\n",
    "\n",
    "# summarize by counting values\n",
    "summed <- summarize(grouped, count = n())\n",
    "\n",
    "# spread values\n",
    "separated <- spread(summed, key = category, value = count)\n",
    "\n",
    "# print result\n",
    "separated"
   ]
  },
  {
   "cell_type": "markdown",
   "metadata": {},
   "source": [
    "## Exercise related to extra example\n",
    "\n",
    "Would you say the categories we just made are good?\n",
    "\n",
    "Make better categories (style is free, maybe look up quantile()) and perform some analysis.\n",
    "\n",
    "Function table() is useful to check how the categories are represented"
   ]
  },
  {
   "cell_type": "code",
   "execution_count": 16,
   "metadata": {},
   "outputs": [
    {
     "data": {
      "text/plain": [
       "\n",
       "          low  lower-middle higher-middle          high \n",
       "          795           779           766           770 "
      ]
     },
     "metadata": {},
     "output_type": "display_data"
    }
   ],
   "source": [
    "# Modify the code below or make your own\n",
    "\n",
    "points <- quantile(sotkanet$education_level)\n",
    "\n",
    "sotkanet <- mutate(sotkanet, category=cut(education_level, breaks=points,\n",
    "                                          labels=c(\"low\",\"lower-middle\",\"higher-middle\", \"high\"),\n",
    "                                          include.lowest = TRUE))\n",
    "\n",
    "table(sotkanet$category)"
   ]
  },
  {
   "cell_type": "markdown",
   "metadata": {},
   "source": [
    "# Part 2: Visualizations using ggplot2"
   ]
  },
  {
   "cell_type": "markdown",
   "metadata": {},
   "source": [
    "Some of the exercises in the morning session involved creating simple plots using \"base R\" graphics (that is, packages that come as part of a default R installation). We also learnt that the basic capabilities of R can be greatly enhanced through the use of additional packages. The package ggplot2 is most likely the most popular package for data visualization in R. Let's have a closer look at it here!\n",
    "\n",
    "First some initial preparations:"
   ]
  },
  {
   "cell_type": "code",
   "execution_count": 17,
   "metadata": {},
   "outputs": [
    {
     "name": "stdout",
     "output_type": "stream",
     "text": [
      "'data.frame':\t3110 obs. of  5 variables:\n",
      " $ X              : int  1 2 3 4 5 6 7 8 9 10 ...\n",
      " $ year           : int  2008 2008 2008 2008 2008 2008 2008 2008 2008 2008 ...\n",
      " $ region         : Factor w/ 311 levels \"Äänekoski\",\"Ähtäri\",..: 3 4 5 6 7 8 9 10 11 12 ...\n",
      " $ population     : int  16837 10634 2759 12706 8604 4761 3852 518 921 1652 ...\n",
      " $ education_level: int  284 253 246 244 278 270 277 258 218 228 ...\n"
     ]
    }
   ],
   "source": [
    "# Read in the data again, just in case you already lost it\n",
    "\n",
    "rawdata <- read.csv(\"data/sotkanet_data.csv\")\n",
    "\n",
    "# Turn off scientific notation (eg. 6e+05) for easier-to-read plots\n",
    "options(scipen = 999)\n",
    "\n",
    "# Have a look at the data frame structure\n",
    "str(rawdata)"
   ]
  },
  {
   "cell_type": "markdown",
   "metadata": {},
   "source": [
    "We can see four Integer variables and one Factor. First, for plotting purposes, we may want to reclassify 'year' so that it becomes a Factor instead. Can you think of reasons why? "
   ]
  },
  {
   "cell_type": "code",
   "execution_count": 18,
   "metadata": {},
   "outputs": [],
   "source": [
    "rawdata$year <- as.factor(rawdata$year)"
   ]
  },
  {
   "cell_type": "markdown",
   "metadata": {},
   "source": [
    "Just a few pre-processing steps before we can start thinking about how ggplot2 works, and putting our knowledge to use. Let's create subsets of the data for Helsinki only, as well as a larger one containing information for Tampere, Oulu and Jyväskylä."
   ]
  },
  {
   "cell_type": "code",
   "execution_count": 19,
   "metadata": {},
   "outputs": [],
   "source": [
    "# Just Helsinki\n",
    "helsinki <- filter(rawdata, region == \"Helsinki\")"
   ]
  },
  {
   "cell_type": "code",
   "execution_count": 20,
   "metadata": {},
   "outputs": [],
   "source": [
    "# Creating a name vector for obtaining the larger subset\n",
    "citynames <- c(\"Tampere\", \"Oulu\", \"Jyväskylä\")"
   ]
  },
  {
   "cell_type": "code",
   "execution_count": 21,
   "metadata": {},
   "outputs": [],
   "source": [
    "# Create the larger subset\n",
    "threecities <- rawdata %>% \n",
    "  filter(region %in% citynames)"
   ]
  },
  {
   "cell_type": "markdown",
   "metadata": {},
   "source": [
    "## ggplot2 syntax: basics and simple data frames"
   ]
  },
  {
   "cell_type": "markdown",
   "metadata": {},
   "source": [
    "We're ready to start working with ggplot2! The syntax surrounding this package differs somewhat from what we might already be used to. However, it's very quick to follow once you learn the basics.\n",
    "\n",
    "There are four main parts to a basic ggplot2 visualisation:\n",
    "\n",
    "1. The `ggplot()` function\n",
    "2. The data parameter (always a data frame)\n",
    "3. The `aes()` function which accepts 'mapping' rules (we'll get to that soon), and \n",
    "4. The `geom()` function\n",
    "\n",
    "With the separate elements pieced together, we get the following:\n",
    "\n",
    "`ggplot(dataframe, aes(mapping)) + geom()`\n",
    "\n",
    "Details given to the `aes()` function are called 'aesthetic mappings' (they describe how variables in the data are mapped to geoms). If this sounds like lots of jargon, you're completely right! However, the way this works is will become clear as we move through the examples.\n",
    "\n",
    "To start with, let's have a look at changes in the education level in Helsinki over time. We can start with supplying the `ggplot()` function, specifying a data frame and the mappings (in other words, what goes on the x and y axes):"
   ]
  },
  {
   "cell_type": "code",
   "execution_count": 22,
   "metadata": {},
   "outputs": [
    {
     "data": {
      "image/png": "[encoded data removed]",
      "text/plain": [
       "plot without title"
      ]
     },
     "metadata": {},
     "output_type": "display_data"
    }
   ],
   "source": [
    "options(repr.plot.height = 4)\n",
    "ggplot(helsinki, aes(x = year, y = education_level))"
   ]
  },
  {
   "cell_type": "markdown",
   "metadata": {},
   "source": [
    "A blank ggplot is drawn. This is because we haven't yet told ggplot what type of plot we want to create! For this we need the `geom()` function. In reality this function comes in many different flavours and they are very intuitively named. For example, the geom for creating a scatter plot is called `geom_point()`:"
   ]
  },
  {
   "cell_type": "code",
   "execution_count": 23,
   "metadata": {},
   "outputs": [
    {
     "data": {
      "image/png": "[encoded data removed]",
      "text/plain": [
       "plot without title"
      ]
     },
     "metadata": {},
     "output_type": "display_data"
    }
   ],
   "source": [
    "ggplot(helsinki, aes(x = year, y = education_level)) + \n",
    "  geom_point() # a clear rising trend!"
   ]
  },
  {
   "cell_type": "markdown",
   "metadata": {},
   "source": [
    "One of the key features of ggplot2 syntax is its stackability (in other words, we can easily add additional lines of code that modify the plot further). Aside from the four main components needed to create a plot, there are many optional parts that can be added.\n",
    "\n",
    "For example, we can use `ylab()` and `xlab()` to specify the axis labels:"
   ]
  },
  {
   "cell_type": "code",
   "execution_count": 24,
   "metadata": {},
   "outputs": [
    {
     "data": {
      "image/png": "[encoded data removed]",
      "text/plain": [
       "plot without title"
      ]
     },
     "metadata": {},
     "output_type": "display_data"
    }
   ],
   "source": [
    "ggplot(helsinki, aes(x = year, y = education_level)) + \n",
    "  geom_point() +\n",
    "  ylab(\"Education Level\") +\n",
    "  xlab(\"Year\") "
   ]
  },
  {
   "cell_type": "markdown",
   "metadata": {},
   "source": [
    "Some other things that we can do:\n",
    "\n",
    "- give the plot a general title using `ggtitle()`.\n",
    "- set axis limits using `xlim()` and `ylim()`. e.g. `xlim(c(2008, 2012))` would restrict the years to 2008 - 2012.\n",
    "- change the colour and size of the dots by adding information inside the `geom()` function (which is currently empty). For example, `geom_point(col = \"steelblue\", size = 3)` would change both the colour and size of the dots."
   ]
  },
  {
   "cell_type": "markdown",
   "metadata": {},
   "source": [
    "### Exercises: plots using the Helsinki data\n",
    "\n",
    "To get used to all this, try modifying the plot. For example, try using the helsinki data set to create a plot with the title \"Education level over time\", showing data since 2010 as red dots. "
   ]
  },
  {
   "cell_type": "code",
   "execution_count": 27,
   "metadata": {},
   "outputs": [
    {
     "data": {
      "image/png": "[encoded data removed]",
      "text/plain": [
       "plot without title"
      ]
     },
     "metadata": {},
     "output_type": "display_data"
    }
   ],
   "source": [
    "# Add your own dot plot here!\n",
    "ggplot(helsinki, aes(x = year, y = education_level)) + \n",
    "  geom_point(col = \"red\") +\n",
    "  ylab(\"Education level over time\") +\n",
    "  xlab(\"Year\") "
   ]
  },
  {
   "cell_type": "markdown",
   "metadata": {},
   "source": [
    "Next, you could try making a bar plot (can you guess the geom)?\n",
    "\n",
    "One note: to create the bar plot, you will need to add the following code inside the `geom()` function:\n",
    "`stat = \"identity\"`\n",
    "\n",
    "Adding this tells the geom that we want to use the y values as they are. It may feel a little counter-intuitive, but the default format for bar plots in ggplot is to use `stat = \"bin\"`, which counts frequencies within each group (in our case, we have just a single measurement for each year)."
   ]
  },
  {
   "cell_type": "code",
   "execution_count": 28,
   "metadata": {},
   "outputs": [
    {
     "data": {
      "image/png": "[encoded data removed]",
      "text/plain": [
       "plot without title"
      ]
     },
     "metadata": {},
     "output_type": "display_data"
    }
   ],
   "source": [
    "# Add your own bar plot here!\n",
    "ggplot(helsinki, aes(x = year, y = education_level)) + \n",
    "  geom_bar(stat = \"identity\") +\n",
    "  ylab(\"Education Level\") +\n",
    "  xlab(\"Year\") "
   ]
  },
  {
   "cell_type": "markdown",
   "metadata": {},
   "source": [
    "If you managed to get this working, try also plotting the data as a line plot (the geom name is easy to guess).\n",
    "For this step to work, you will also need to convert the factor 'year' back to integer format. You might remember that before we already converted it to a factor!\n",
    "\n",
    "One more question to think about: which of the three plot types do you think works best for displaying the data?"
   ]
  },
  {
   "cell_type": "code",
   "execution_count": 29,
   "metadata": {},
   "outputs": [
    {
     "data": {
      "image/png": "[encoded data removed]",
      "text/plain": [
       "plot without title"
      ]
     },
     "metadata": {},
     "output_type": "display_data"
    }
   ],
   "source": [
    "# Add your own line plot here!\n",
    "helsinki$year <- as.integer(helsinki$year)\n",
    "\n",
    "ggplot(helsinki, aes(x = year, y = education_level)) + \n",
    "  geom_line() +\n",
    "  ylab(\"Education Level\") +\n",
    "  xlab(\"Year\") "
   ]
  },
  {
   "cell_type": "markdown",
   "metadata": {},
   "source": [
    "## more ggplot2 syntax: slightly more complex data frames and facetting\n",
    "\n",
    "Instead of just the Helsinki data, let's now look at the larger subset with data for three cities."
   ]
  },
  {
   "cell_type": "code",
   "execution_count": 25,
   "metadata": {},
   "outputs": [
    {
     "data": {
      "image/png": "[encoded data removed]",
      "text/plain": [
       "plot without title"
      ]
     },
     "metadata": {},
     "output_type": "display_data"
    }
   ],
   "source": [
    "ggplot(threecities, aes(x = year, y = education_level)) + \n",
    "  geom_point() +\n",
    "  ylab(\"Education Level\") +\n",
    "  xlab(\"Year\") "
   ]
  },
  {
   "cell_type": "markdown",
   "metadata": {},
   "source": [
    "All show a similar rising trend but which one is which?\n",
    "\n",
    "Adding `col = region` inside the `aes()` function can be used to plot different colours for each region."
   ]
  },
  {
   "cell_type": "code",
   "execution_count": 26,
   "metadata": {},
   "outputs": [
    {
     "data": {
      "image/png": "[encoded data removed]",
      "text/plain": [
       "plot without title"
      ]
     },
     "metadata": {},
     "output_type": "display_data"
    }
   ],
   "source": [
    "ggplot(threecities, aes(x = year, y = education_level, col = region)) + \n",
    "  geom_point() +\n",
    "  ylab(\"Education Level\") +\n",
    "  xlab(\"Year\")"
   ]
  },
  {
   "cell_type": "markdown",
   "metadata": {},
   "source": [
    "In this data set the scores for the three cities are quite closer to another, and plotting everything inside a single panel is quite easy.\n",
    "However, there may also be cases where it's better to separate the data and plot them side by side in separate panels. For this, we have a simple command that can be added to your ggplot code:\n",
    "\n",
    "`facet_grid()`\n",
    "\n",
    "We can tell `facet_grid()` to separate the data by a specific variable in the data using the '~' symbol, followed by the variable of interest. For example:"
   ]
  },
  {
   "cell_type": "code",
   "execution_count": 30,
   "metadata": {},
   "outputs": [
    {
     "data": {
      "image/png": "[encoded data removed]",
      "text/plain": [
       "plot without title"
      ]
     },
     "metadata": {},
     "output_type": "display_data"
    }
   ],
   "source": [
    "ggplot(threecities, aes(x = year, y = education_level, col = region)) + \n",
    "  geom_point() +\n",
    "  facet_grid(~ region) +\n",
    "  ylab(\"Education Level\") +\n",
    "  xlab(\"Year\")"
   ]
  },
  {
   "cell_type": "markdown",
   "metadata": {},
   "source": [
    "That looks quite clear too, aside from the year labels that look a little squeezed in. It would be quite easy to fix this with some additional code, but for now we can already be happy with what we've created. If you've come this far, you've already learnt a fair deal about ggplot2!\n",
    "\n",
    "### Exercise: further work with the 'threecities' data set (and a link to more info)\n",
    "\n",
    "There is a column in the 'threecities' data set that we haven't looked at yet: 'population'. Feel free to play around and try creating different types of plots, using the knowledge we've gained so far. \n",
    "\n",
    "A possible source of inspiration: although we've covered lots of ground, there is much more to discover with regard to ggplot2 and different ways to visualize your data using it. Many more functions and plot styles exist and you can check out this ggplot2 'cheat sheet' to get a quick idea of what else is out there:\n",
    "\n",
    "https://www.rstudio.com/wp-content/uploads/2015/03/ggplot2-cheatsheet.pdf\n",
    "\n",
    "If you're looking for an extra challenge, also feel free to try out some of these entirely new commands in the cheat sheet!"
   ]
  },
  {
   "cell_type": "code",
   "execution_count": null,
   "metadata": {},
   "outputs": [],
   "source": []
  }
 ],
 "metadata": {
  "kernelspec": {
   "display_name": "R",
   "language": "R",
   "name": "ir"
  },
  "language_info": {
   "codemirror_mode": "r",
   "file_extension": ".r",
   "mimetype": "text/x-r-source",
   "name": "R",
   "pygments_lexer": "r",
   "version": "3.5.1"
  }
 },
 "nbformat": 4,
 "nbformat_minor": 2
}

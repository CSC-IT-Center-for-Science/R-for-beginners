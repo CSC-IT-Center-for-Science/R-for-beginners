{
 "cells": [
  {
   "cell_type": "markdown",
   "metadata": {},
   "source": [
    "# Introduction to Base R\n",
    "A Jupyter notebook, by Seija Sirkiä"
   ]
  },
  {
   "cell_type": "markdown",
   "metadata": {},
   "source": [
    "Hello, and welcome to this introduction to R. The aim here is to give you a solid understanding of the basics so that you can start learning the more advanced features suitable to your needs.\n",
    "\n",
    "The intended audience of this notebook is someone with no experience with R and very limited or no experience with programming in general. If you do have experience in programming, you will probably find it wordy and sparse on content, but on the other hand quick to go through. "
   ]
  },
  {
   "cell_type": "markdown",
   "metadata": {},
   "source": [
    "## About Jupyter"
   ]
  },
  {
   "cell_type": "markdown",
   "metadata": {},
   "source": [
    "Note that R itself is in fact a programming language (accompanied by something called an *interpreter*, of that language), not a full software like for example SPSS or Excel. As such, it doesn't *look* like anything on its own. On top of that, R *code* is just text and could be written anywhere. What you are usually looking at when you are looking at \"R\" is some kind of a user interface, nowadays most commonly RStudio (you can go to [rstudio.com](http://www.rstudio.com) to have a look). However, what you are currently looking at (probably, unless you turned this in to a pdf or something --- which you could do) is Jupyter, a web based interface capable of running R as well as a number of other things. It might be a little confusing at some points to have it run in the web browser (or more correctly, \"in the cloud\") and not actually on your own machine. In addition it isn't as powerful for the serious data analysis work you'll be doing later on as RStudio would be. But it does let us focus on just the R language and code for now.\n",
    "\n",
    "There's no need to learn much about Jupyter itself for the purpose of this R introduction. The main thing is this: there are code cells, such as this one below here:"
   ]
  },
  {
   "cell_type": "code",
   "execution_count": 1,
   "metadata": {
    "collapsed": false
   },
   "outputs": [
    {
     "data": {
      "text/plain": [
       "\n",
       "Call:\n",
       "lm(formula = y ~ x, data = df)\n",
       "\n",
       "Coefficients:\n",
       "(Intercept)            x  \n",
       "     0.1972       1.4073  \n"
      ]
     },
     "metadata": {},
     "output_type": "display_data"
    }
   ],
   "source": [
    "df <- data.frame(x = seq(0,1,length=10))\n",
    "df$y <- 2*df$x + rnorm(10,sd=0.3)\n",
    "lm(y~x,df)\n",
    "rm(df)"
   ]
  },
  {
   "cell_type": "markdown",
   "metadata": {},
   "source": [
    "You can tell the difference between a code cell and a text cell probably by just their appearance and context, but also, look at the space on the left hand side of the cell: code cells have the text \"In [ ]\" there to indicate that this is a code input. Now you can run the code! Click on the cell above to make it active, and then click on the toolbar button that looks like the play button (the one that says \"run cell, select below\" on mouseover). Alternatively, you can press Shift+Enter on your keyboard. Go ahead, run the code!\n",
    "\n",
    "What should happen is that the text on the left hand side becomes \"In [1]\" (or possibly some other number), and some new text appears below, talking about Call and Coefficients. If that's the case, you are ready to move on!\n",
    "\n",
    "By the way, every single character in that tiny snippet of code, as well as what actually was done, should be clear to you by the time you reach the end of this notebook.\n",
    "\n",
    "### Just a bit more about Jupyter\n",
    "\n",
    "As mentioned above, you don't need to pay too much attention to Jupyter while going through this notebook. However, since the notebook is fully editable, you might e.g. accidentally remove something. You can recover from such an event using checkpoints, which are way to save the contents of the notebook at a given time. You can create a checkpoint using the button on the toolbar, or from the File menu, and revert to a checkpoint from the File menu. __Now would be a good time to create the first checkpoint.__ \n",
    "\n",
    "You can of course change this notebook as much as you like! Change the text, add comments, add new code cells, even create a completely new notebook... but for now you are on your own in figuring out how to do all that.\n",
    "\n",
    "Accidentally closing the browser tab of the notebook is not a problem. Just reopen it from the Jupyter home tab. If you've closed that too (or your browser crashed, or even if you just want to switch to another browser on another computer) you can start over from [pb.csc.fi](https://pb.csc.fi). All of it remains as it were for as long as the virtual machine is running. \n",
    "\n",
    "But the virtual machine won't run forever. It will stay online for a limited time (such as 4 hours) and once that time is over, everything you wrote will be gone, including your checkpoints. You can go back to the [pb.csc.fi](https://pb.csc.fi) dashboard to see how long is left. \n",
    "\n",
    "At the end of the day you might want to keep a copy of all of your work. From the file menu you can download the notebook in several formats, of which the following three might interest you for now:\n",
    "\n",
    "- as a Notebook: use this in case you want to return to the actual complete notebook on another Jupyter instance. As said, the ones on [pb.csc.fi](https://pb.csc.fi) will only stay up for a limited time, so if you want to work longer than that, this is what you need. You can restart the R for beginners machine, and before clicking on the .ipynb file to open the notebook, upload and replace the notebook (the .ipynb file) you downloaded earlier, with all of your previous work and continue from there.\n",
    "- as R code: this will download just the R code parts to be used again e.g. in RStudio\n",
    "- as pdf: this will create a pdf document which you can read to see what you did, but not actually work on\n",
    "\n",
    "And now, onwards to learning R"
   ]
  },
  {
   "cell_type": "markdown",
   "metadata": {},
   "source": [
    "## Expressions and the R interpreter\n",
    "\n",
    "Doing anything using R comes down to *the R interpreter evaluating expressions*. An expression is a line of code that forms a kind of a question, and evaluation is the process of finding the answer. If you ran the first example in the previous section, you have actually already made R evaluate an expression, or several in fact. But now it's time for you create an expression all on your own.\n",
    "\n",
    "Here's a code cell for you. Type out a question, and run the cell (using the toolbar button, or Shift+Enter)."
   ]
  },
  {
   "cell_type": "code",
   "execution_count": 5,
   "metadata": {
    "collapsed": false
   },
   "outputs": [
    {
     "data": {
      "text/html": [
       "2"
      ],
      "text/latex": [
       "2"
      ],
      "text/markdown": [
       "2"
      ],
      "text/plain": [
       "[1] 2"
      ]
     },
     "metadata": {},
     "output_type": "display_data"
    },
    {
     "data": {
      "text/html": [
       "8e+06"
      ],
      "text/latex": [
       "8e+06"
      ],
      "text/markdown": [
       "8e+06"
      ],
      "text/plain": [
       "[1] 8e+06"
      ]
     },
     "metadata": {},
     "output_type": "display_data"
    },
    {
     "data": {
      "text/html": [
       "7e+05"
      ],
      "text/latex": [
       "7e+05"
      ],
      "text/markdown": [
       "7e+05"
      ],
      "text/plain": [
       "[1] 7e+05"
      ]
     },
     "metadata": {},
     "output_type": "display_data"
    }
   ],
   "source": [
    "1+1\n",
    "8*10^6\n",
    "7e5"
   ]
  },
  {
   "cell_type": "markdown",
   "metadata": {},
   "source": [
    "It's quite likely that the answer you get is some kind of an error. This trick exercise serves to make a couple of points:\n",
    "\n",
    "- errors like this will happen and they aren't dangerous\n",
    "- the R interpreter can only evaluate proper R code\n",
    "- in Jupyter you can go back to a code cell, edit the code and re-run it\n",
    "\n",
    "And that's what you should do next. The easiest form of an expression that does make sense and can be evaluated and gives out a well defined answer is a numeric calculation. So go ahead, type 1+1 in the code cell and re-run it, and make sure you get the familiar answer.\n",
    "\n",
    "Ordinary calculations use the common symbols, including `^` for exponentiation. Parentheses work as usual. The decimal separator is the point/dot `.` (and not comma `,`). Try out calculations in the code cell below! Invent your own, or use these questions as inspiration. \n",
    "\n",
    "- How many minutes are there in a week? \n",
    "- A glass vase of 39.90€ is put on 30% sale. What is the new price?\n",
    "- Body mass index is calculated as weight (in kg) per height (in m) squared. Find yours! Or find out the numbers for some celebrity you can google. Or think up an imaginary person.\n",
    "- If the current outside temperature in Fahrenheit degrees is 24, what should you wear on a trip to downtown?\n",
    "\n",
    "Note that you can put many expressions (calculations) in the same code cell! Just put them on separate lines. "
   ]
  },
  {
   "cell_type": "code",
   "execution_count": 12,
   "metadata": {
    "collapsed": false
   },
   "outputs": [
    {
     "data": {
      "text/html": [
       "10080"
      ],
      "text/latex": [
       "10080"
      ],
      "text/markdown": [
       "10080"
      ],
      "text/plain": [
       "[1] 10080"
      ]
     },
     "metadata": {},
     "output_type": "display_data"
    },
    {
     "data": {
      "text/html": [
       "27.93"
      ],
      "text/latex": [
       "27.93"
      ],
      "text/markdown": [
       "27.93"
      ],
      "text/plain": [
       "[1] 27.93"
      ]
     },
     "metadata": {},
     "output_type": "display_data"
    },
    {
     "data": {
      "text/html": [
       "28.8888888888889"
      ],
      "text/latex": [
       "28.8888888888889"
      ],
      "text/markdown": [
       "28.8888888888889"
      ],
      "text/plain": [
       "[1] 28.88889"
      ]
     },
     "metadata": {},
     "output_type": "display_data"
    },
    {
     "data": {
      "text/html": [
       "-4.44444444444444"
      ],
      "text/latex": [
       "-4.44444444444444"
      ],
      "text/markdown": [
       "-4.44444444444444"
      ],
      "text/plain": [
       "[1] -4.444444"
      ]
     },
     "metadata": {},
     "output_type": "display_data"
    }
   ],
   "source": [
    "60*24*7\n",
    "39.90*(1-0.3)\n",
    "65/1.5^2\n",
    "(24-32)*5/9"
   ]
  },
  {
   "cell_type": "markdown",
   "metadata": {},
   "source": [
    "## Assignments\n",
    "\n",
    "Previously, the results of the evaluations were printed out for viewing. It is also possible to *assign the result value to a name* using the symbol `<-` (that's the less-than sign and dash; on both Jupyter and RStudio you can also use alt-dash to type it out easily and with the nice whitespaces around) like this:"
   ]
  },
  {
   "cell_type": "code",
   "execution_count": 13,
   "metadata": {
    "collapsed": true
   },
   "outputs": [],
   "source": [
    "answer <- 1+1"
   ]
  },
  {
   "cell_type": "markdown",
   "metadata": {},
   "source": [
    "Now if you run this code cell, it seems that nothing happens but in fact it *creates an object in the workspace* called `answer` which can afterwards be used again in other expressions, like this:"
   ]
  },
  {
   "cell_type": "code",
   "execution_count": 14,
   "metadata": {
    "collapsed": false
   },
   "outputs": [
    {
     "data": {
      "text/html": [
       "3"
      ],
      "text/latex": [
       "3"
      ],
      "text/markdown": [
       "3"
      ],
      "text/plain": [
       "[1] 3"
      ]
     },
     "metadata": {},
     "output_type": "display_data"
    }
   ],
   "source": [
    "answer + 1"
   ]
  },
  {
   "cell_type": "markdown",
   "metadata": {},
   "source": [
    "You can always check the names of the objects currently in the workspace using this command:"
   ]
  },
  {
   "cell_type": "code",
   "execution_count": 15,
   "metadata": {
    "collapsed": false
   },
   "outputs": [
    {
     "data": {
      "text/html": [
       "'answer'"
      ],
      "text/latex": [
       "'answer'"
      ],
      "text/markdown": [
       "'answer'"
      ],
      "text/plain": [
       "[1] \"answer\""
      ]
     },
     "metadata": {},
     "output_type": "display_data"
    }
   ],
   "source": [
    "ls()"
   ]
  },
  {
   "cell_type": "markdown",
   "metadata": {},
   "source": [
    "The workspace is shared between all code cells, and it is changed only if you run or re-run some code. It doesn't matter in which order the code is typed out, only the order in which it is run. Remember, the code itself is just text until it's run through the interpreter, and after that it is again just text. If you get confused, it's possible to start over from empty workspace and clean notebook by choosing 'Restart & Clear output' from the Kernel menu.\n",
    "\n",
    "Please take a moment of trying out assignments and expressions in the cell below until you get the hang of it. You can for example revisit the calculations from before and use objects for the initial values, and/or intermediate and final results. The object names can be anything but there are some rules to keep in mind:\n",
    "\n",
    "- The name must begin with a letter\n",
    "- It can contain numbers, dots and underscores, and is case sensitive\n",
    "- It can't contain whitespaces \n",
    "    - (In fact this is not entirely true! It can but that requires special effort. Don't go there.)\n",
    "- Letters with accents and umlauts may or may not work or be portable; try to avoid"
   ]
  },
  {
   "cell_type": "code",
   "execution_count": 18,
   "metadata": {
    "collapsed": false
   },
   "outputs": [
    {
     "data": {
      "text/html": [
       "10080"
      ],
      "text/latex": [
       "10080"
      ],
      "text/markdown": [
       "10080"
      ],
      "text/plain": [
       "[1] 10080"
      ]
     },
     "metadata": {},
     "output_type": "display_data"
    },
    {
     "data": {
      "text/html": [
       "<ol class=list-inline>\n",
       "\t<li>'answer'</li>\n",
       "\t<li>'day'</li>\n",
       "\t<li>'hour'</li>\n",
       "</ol>\n"
      ],
      "text/latex": [
       "\\begin{enumerate*}\n",
       "\\item 'answer'\n",
       "\\item 'day'\n",
       "\\item 'hour'\n",
       "\\end{enumerate*}\n"
      ],
      "text/markdown": [
       "1. 'answer'\n",
       "2. 'day'\n",
       "3. 'hour'\n",
       "\n",
       "\n"
      ],
      "text/plain": [
       "[1] \"answer\" \"day\"    \"hour\"  "
      ]
     },
     "metadata": {},
     "output_type": "display_data"
    }
   ],
   "source": [
    "hour <- 60\n",
    "day <- 24*hour\n",
    "7*day\n",
    "ls()"
   ]
  },
  {
   "cell_type": "markdown",
   "metadata": {},
   "source": [
    "### The comment character `#`\n",
    "\n",
    "One more thing about the R interpreter: the comment character. You can add non-code text to your R code, for example to explain (mostly to yourself!) what you are doing, using the `#` character. The interpreter will completely ignore the whole line after that character. It is also a quick way to temporarily \"remove\" a line of code from a code snippet. You can try this out now, or wait for an example in the next section."
   ]
  },
  {
   "cell_type": "markdown",
   "metadata": {},
   "source": [
    "## Numeric vectors\n",
    "\n",
    "You have now learned the basic logic of how the R interpreter works using simple expressions and assignments. These have so far involved just single numbers. In order to do some proper data analysis you of course need to learn how to deal with actual data. The next stop on that route is *vectors*. They come in three basic flavors: numeric, character and logical. We start with the numeric ones.\n",
    "\n",
    "* Numeric vectors are ordered sequences of numbers\n",
    "* They are created with the function `c()`\n",
    "    + Or as a result of some other function\n",
    "* You can do calculations with them just like with single numbers, they happen element by element\n",
    "    + Actually, single numbers __are__ vectors, just of length 1!\n",
    "* Most mathematical functions also work elementwise\n",
    "    + `exp()`, `log()`, `abs()` and so on\n",
    "* Some functions treat the vector as a whole\n",
    "    + `length()`, `sum()`, `mean()`, `median()`, `sd()`, `var()`, `min()`, `max()` \n",
    "* `summary()` tells several things about a vector at once\n",
    "    \n",
    "Below are some numbers, steps taken and estimated calories burned per day, from an activity bracelet from a single week, and a few calculations concerning them. "
   ]
  },
  {
   "cell_type": "code",
   "execution_count": 19,
   "metadata": {
    "collapsed": false
   },
   "outputs": [
    {
     "data": {
      "text/html": [
       "<ol class=list-inline>\n",
       "\t<li>74.2</li>\n",
       "\t<li>0</li>\n",
       "\t<li>8942.5</li>\n",
       "\t<li>5800.9</li>\n",
       "\t<li>6455.4</li>\n",
       "\t<li>4956</li>\n",
       "\t<li>4238.5</li>\n",
       "</ol>\n"
      ],
      "text/latex": [
       "\\begin{enumerate*}\n",
       "\\item 74.2\n",
       "\\item 0\n",
       "\\item 8942.5\n",
       "\\item 5800.9\n",
       "\\item 6455.4\n",
       "\\item 4956\n",
       "\\item 4238.5\n",
       "\\end{enumerate*}\n"
      ],
      "text/markdown": [
       "1. 74.2\n",
       "2. 0\n",
       "3. 8942.5\n",
       "4. 5800.9\n",
       "5. 6455.4\n",
       "6. 4956\n",
       "7. 4238.5\n",
       "\n",
       "\n"
      ],
      "text/plain": [
       "[1]   74.2    0.0 8942.5 5800.9 6455.4 4956.0 4238.5"
      ]
     },
     "metadata": {},
     "output_type": "display_data"
    },
    {
     "data": {
      "text/html": [
       "<ol class=list-inline>\n",
       "\t<li>12.7924528301887</li>\n",
       "\t<li>Inf</li>\n",
       "\t<li>0.165088062622309</li>\n",
       "\t<li>0.227102690961747</li>\n",
       "\t<li>0.213619605291694</li>\n",
       "\t<li>0.273728813559322</li>\n",
       "\t<li>0.305697770437655</li>\n",
       "</ol>\n"
      ],
      "text/latex": [
       "\\begin{enumerate*}\n",
       "\\item 12.7924528301887\n",
       "\\item Inf\n",
       "\\item 0.165088062622309\n",
       "\\item 0.227102690961747\n",
       "\\item 0.213619605291694\n",
       "\\item 0.273728813559322\n",
       "\\item 0.305697770437655\n",
       "\\end{enumerate*}\n"
      ],
      "text/markdown": [
       "1. 12.7924528301887\n",
       "2. Inf\n",
       "3. 0.165088062622309\n",
       "4. 0.227102690961747\n",
       "5. 0.213619605291694\n",
       "6. 0.273728813559322\n",
       "7. 0.305697770437655\n",
       "\n",
       "\n"
      ],
      "text/plain": [
       "[1] 12.7924528        Inf  0.1650881  0.2271027  0.2136196  0.2737288  0.3056978"
      ]
     },
     "metadata": {},
     "output_type": "display_data"
    }
   ],
   "source": [
    "steps <- c(106,0,12775,8287,9222,7080,6055) \n",
    "kcal <- c(1356,1341,2109,1882,1970,1938,1851)\n",
    "\n",
    "# estimate of distance walked each day:\n",
    "steps*0.7\n",
    "\n",
    "# energy burned per step each day:\n",
    "kcal/steps"
   ]
  },
  {
   "cell_type": "markdown",
   "metadata": {},
   "source": [
    "* Most mathematical functions also work elementwise\n",
    "    + `exp()`, `log()`, `abs()` and so on\n",
    "* Some functions treat the vector as a whole\n",
    "    + `length()`, `sum()`, `mean()`, `median()`, `sd()`, `var()`, `min()`, `max()` \n",
    "* `summary()` tells several things about a vector at once (but doesn't make much sense with vectors as short as the ones in this example)\n",
    "\n",
    "Note that the result of the calculation is a new vector. You can always save it to a new variable if you want to do something with the result later, like this:"
   ]
  },
  {
   "cell_type": "code",
   "execution_count": 20,
   "metadata": {
    "collapsed": false
   },
   "outputs": [
    {
     "data": {
      "text/html": [
       "30467.5"
      ],
      "text/latex": [
       "30467.5"
      ],
      "text/markdown": [
       "30467.5"
      ],
      "text/plain": [
       "[1] 30467.5"
      ]
     },
     "metadata": {},
     "output_type": "display_data"
    }
   ],
   "source": [
    "distances <- steps*0.7\n",
    "tot_dist <- sum(distances)\n",
    "tot_dist"
   ]
  },
  {
   "cell_type": "markdown",
   "metadata": {},
   "source": [
    "However, since the result of the calculation is a new vector, you can also use it directly where ever a vector is expected. So, the same result as above could have been obtained on a single line as well:"
   ]
  },
  {
   "cell_type": "code",
   "execution_count": null,
   "metadata": {
    "collapsed": false
   },
   "outputs": [],
   "source": [
    "sum(steps*0.7)"
   ]
  },
  {
   "cell_type": "markdown",
   "metadata": {},
   "source": [
    "It is up to the situation and your personal preference which way to do it. Go ahead and try both ways here to calculate the average hourly energy consumption over the week, that is, total energy consumed over the week divided by the number of hours in a week."
   ]
  },
  {
   "cell_type": "code",
   "execution_count": 21,
   "metadata": {
    "collapsed": false
   },
   "outputs": [
    {
     "data": {
      "text/html": [
       "74.0892857142857"
      ],
      "text/latex": [
       "74.0892857142857"
      ],
      "text/markdown": [
       "74.0892857142857"
      ],
      "text/plain": [
       "[1] 74.08929"
      ]
     },
     "metadata": {},
     "output_type": "display_data"
    },
    {
     "data": {
      "text/html": [
       "74.0892857142857"
      ],
      "text/latex": [
       "74.0892857142857"
      ],
      "text/markdown": [
       "74.0892857142857"
      ],
      "text/plain": [
       "[1] 74.08929"
      ]
     },
     "metadata": {},
     "output_type": "display_data"
    }
   ],
   "source": [
    "totenergy <- sum(kcal)\n",
    "weekh <- 24*7\n",
    "totenergy/weekh\n",
    "# or, like this:\n",
    "sum(kcal)/(24*7)"
   ]
  },
  {
   "cell_type": "markdown",
   "metadata": {},
   "source": [
    "(Have you remembered to make a checkpoint? Maybe now would be the time to make another?)\n",
    "\n",
    "Next we have to talk about indices. As we have seen, the elements of the vector reside in a fixed order (and not in a random pile, for example) so that you can talk about the first element, the second element etc. You can also extract, or access, only certain elements of a vector, using square brackets and the index of the element, for example like this:"
   ]
  },
  {
   "cell_type": "code",
   "execution_count": 22,
   "metadata": {
    "collapsed": false
   },
   "outputs": [
    {
     "data": {
      "text/html": [
       "106"
      ],
      "text/latex": [
       "106"
      ],
      "text/markdown": [
       "106"
      ],
      "text/plain": [
       "[1] 106"
      ]
     },
     "metadata": {},
     "output_type": "display_data"
    }
   ],
   "source": [
    "steps[1]"
   ]
  },
  {
   "cell_type": "markdown",
   "metadata": {},
   "source": [
    "The first element has the index 1, the second 2, etc. It is also possible to talk about a whole range of elements, using this notation:"
   ]
  },
  {
   "cell_type": "code",
   "execution_count": 23,
   "metadata": {
    "collapsed": false
   },
   "outputs": [
    {
     "data": {
      "text/html": [
       "<ol class=list-inline>\n",
       "\t<li>106</li>\n",
       "\t<li>0</li>\n",
       "\t<li>12775</li>\n",
       "\t<li>8287</li>\n",
       "\t<li>9222</li>\n",
       "</ol>\n"
      ],
      "text/latex": [
       "\\begin{enumerate*}\n",
       "\\item 106\n",
       "\\item 0\n",
       "\\item 12775\n",
       "\\item 8287\n",
       "\\item 9222\n",
       "\\end{enumerate*}\n"
      ],
      "text/markdown": [
       "1. 106\n",
       "2. 0\n",
       "3. 12775\n",
       "4. 8287\n",
       "5. 9222\n",
       "\n",
       "\n"
      ],
      "text/plain": [
       "[1]   106     0 12775  8287  9222"
      ]
     },
     "metadata": {},
     "output_type": "display_data"
    },
    {
     "data": {
      "text/html": [
       "<ol class=list-inline>\n",
       "\t<li>1938</li>\n",
       "\t<li>1851</li>\n",
       "</ol>\n"
      ],
      "text/latex": [
       "\\begin{enumerate*}\n",
       "\\item 1938\n",
       "\\item 1851\n",
       "\\end{enumerate*}\n"
      ],
      "text/markdown": [
       "1. 1938\n",
       "2. 1851\n",
       "\n",
       "\n"
      ],
      "text/plain": [
       "[1] 1938 1851"
      ]
     },
     "metadata": {},
     "output_type": "display_data"
    }
   ],
   "source": [
    "steps[1:5]\n",
    "kcal[6:7]"
   ]
  },
  {
   "cell_type": "markdown",
   "metadata": {},
   "source": [
    "Again, the result of such operation is a new vector. Therefore, they can be combined with calculations. Let's assume that the step and energy numbers here are from a full week from Monday to Sunday. Calculate here the average step amount and energy consumption for weekdays, and for weekend separately. Remember what you learned previously about saving intermediate results!"
   ]
  },
  {
   "cell_type": "code",
   "execution_count": 26,
   "metadata": {
    "collapsed": false
   },
   "outputs": [
    {
     "data": {
      "text/html": [
       "6217.85714285714"
      ],
      "text/latex": [
       "6217.85714285714"
      ],
      "text/markdown": [
       "6217.85714285714"
      ],
      "text/plain": [
       "[1] 6217.857"
      ]
     },
     "metadata": {},
     "output_type": "display_data"
    },
    {
     "data": {
      "text/html": [
       "6078"
      ],
      "text/latex": [
       "6078"
      ],
      "text/markdown": [
       "6078"
      ],
      "text/plain": [
       "[1] 6078"
      ]
     },
     "metadata": {},
     "output_type": "display_data"
    },
    {
     "data": {
      "text/html": [
       "6567.5"
      ],
      "text/latex": [
       "6567.5"
      ],
      "text/markdown": [
       "6567.5"
      ],
      "text/plain": [
       "[1] 6567.5"
      ]
     },
     "metadata": {},
     "output_type": "display_data"
    }
   ],
   "source": [
    "mean(steps) # this is the average for the whole week\n",
    "mean(steps[1:5]) #this is for the weekdays\n",
    "mean(steps[6:7]) #this is for the weekends"
   ]
  },
  {
   "cell_type": "markdown",
   "metadata": {},
   "source": [
    "You might have asked now, what if you wanted to extract something like Monday, Wednesday and Friday, instead of a range? If this never occured to you, feel free to skip this part and continue from logical vectors. It's not a difficult idea but also you can very well do without. The thing is, what you're supposed to put inside the brackets when you are extracting elements by their index, is an index *vector*. A single index is a vector (of length one). The : operator also creates a vector. So, you are fine as long as you put a vector of indices inside the brackets. Like this:"
   ]
  },
  {
   "cell_type": "code",
   "execution_count": null,
   "metadata": {
    "collapsed": false
   },
   "outputs": [],
   "source": [
    "steps[c(1,3,5)]"
   ]
  },
  {
   "cell_type": "markdown",
   "metadata": {},
   "source": [
    "Note that this is something very different, and gives you an error (because `1,3,5` is not a vector, while `c(1,3,5)` is):"
   ]
  },
  {
   "cell_type": "code",
   "execution_count": null,
   "metadata": {
    "collapsed": false
   },
   "outputs": [],
   "source": [
    "steps[1,3,5]"
   ]
  },
  {
   "cell_type": "markdown",
   "metadata": {},
   "source": [
    "(In case you are wondering, this last bit would make sense if `steps` were a 3-dimensional array and not a 1-dimensional array or in other words, a vector.) Ok, now onwards to logical vectors."
   ]
  },
  {
   "cell_type": "markdown",
   "metadata": {},
   "source": [
    "## Logical vectors\n",
    "\n",
    "Besides numeric, vectors come in another flavor, logical. Another name for these is Boolean values. They are pretty much like numbers, but there are only two possible values: `TRUE` and `FALSE`. They come up as results from logical operations, such as comparing values to each other. Here we are told, element by element, whether the number of steps taken was above 1000:"
   ]
  },
  {
   "cell_type": "code",
   "execution_count": 27,
   "metadata": {
    "collapsed": false
   },
   "outputs": [
    {
     "data": {
      "text/html": [
       "<ol class=list-inline>\n",
       "\t<li>FALSE</li>\n",
       "\t<li>FALSE</li>\n",
       "\t<li>TRUE</li>\n",
       "\t<li>TRUE</li>\n",
       "\t<li>TRUE</li>\n",
       "\t<li>TRUE</li>\n",
       "\t<li>TRUE</li>\n",
       "</ol>\n"
      ],
      "text/latex": [
       "\\begin{enumerate*}\n",
       "\\item FALSE\n",
       "\\item FALSE\n",
       "\\item TRUE\n",
       "\\item TRUE\n",
       "\\item TRUE\n",
       "\\item TRUE\n",
       "\\item TRUE\n",
       "\\end{enumerate*}\n"
      ],
      "text/markdown": [
       "1. FALSE\n",
       "2. FALSE\n",
       "3. TRUE\n",
       "4. TRUE\n",
       "5. TRUE\n",
       "6. TRUE\n",
       "7. TRUE\n",
       "\n",
       "\n"
      ],
      "text/plain": [
       "[1] FALSE FALSE  TRUE  TRUE  TRUE  TRUE  TRUE"
      ]
     },
     "metadata": {},
     "output_type": "display_data"
    }
   ],
   "source": [
    "steps > 1000"
   ]
  },
  {
   "cell_type": "markdown",
   "metadata": {},
   "source": [
    "The possible comparison are \n",
    "\n",
    "- less than `<`\n",
    "- greater than `>`\n",
    "- less or equal `<=`\n",
    "- greater or equal `>=`\n",
    "- equal `==`\n",
    "- not equal `!=`\n",
    "\n",
    "and the logical operations are\n",
    "- and `&`\n",
    "- or `|`\n",
    "- not `!`\n",
    "\n",
    "A convenience operator for querying whether a value is equal to one of several in a given set exists: `x %in% 1:3`.\n",
    "\n",
    "If you have never played with logical values before, worry not. For basic usage there are essentially just two situations were you need them. One is to use a comparison, such as above to extract values of a vector. For example, here we calculate the average of the steps taken and the energy consumed only on the days that the amount was above 1000 (presumably, on days that the bracelet was worn all day):"
   ]
  },
  {
   "cell_type": "code",
   "execution_count": 29,
   "metadata": {
    "collapsed": false
   },
   "outputs": [
    {
     "data": {
      "text/html": [
       "<ol class=list-inline>\n",
       "\t<li>FALSE</li>\n",
       "\t<li>FALSE</li>\n",
       "\t<li>TRUE</li>\n",
       "\t<li>TRUE</li>\n",
       "\t<li>TRUE</li>\n",
       "\t<li>TRUE</li>\n",
       "\t<li>TRUE</li>\n",
       "</ol>\n"
      ],
      "text/latex": [
       "\\begin{enumerate*}\n",
       "\\item FALSE\n",
       "\\item FALSE\n",
       "\\item TRUE\n",
       "\\item TRUE\n",
       "\\item TRUE\n",
       "\\item TRUE\n",
       "\\item TRUE\n",
       "\\end{enumerate*}\n"
      ],
      "text/markdown": [
       "1. FALSE\n",
       "2. FALSE\n",
       "3. TRUE\n",
       "4. TRUE\n",
       "5. TRUE\n",
       "6. TRUE\n",
       "7. TRUE\n",
       "\n",
       "\n"
      ],
      "text/plain": [
       "[1] FALSE FALSE  TRUE  TRUE  TRUE  TRUE  TRUE"
      ]
     },
     "metadata": {},
     "output_type": "display_data"
    },
    {
     "data": {
      "text/html": [
       "<ol class=list-inline>\n",
       "\t<li>12775</li>\n",
       "\t<li>8287</li>\n",
       "\t<li>9222</li>\n",
       "\t<li>7080</li>\n",
       "\t<li>6055</li>\n",
       "</ol>\n"
      ],
      "text/latex": [
       "\\begin{enumerate*}\n",
       "\\item 12775\n",
       "\\item 8287\n",
       "\\item 9222\n",
       "\\item 7080\n",
       "\\item 6055\n",
       "\\end{enumerate*}\n"
      ],
      "text/markdown": [
       "1. 12775\n",
       "2. 8287\n",
       "3. 9222\n",
       "4. 7080\n",
       "5. 6055\n",
       "\n",
       "\n"
      ],
      "text/plain": [
       "[1] 12775  8287  9222  7080  6055"
      ]
     },
     "metadata": {},
     "output_type": "display_data"
    },
    {
     "data": {
      "text/html": [
       "<ol class=list-inline>\n",
       "\t<li>2109</li>\n",
       "\t<li>1882</li>\n",
       "\t<li>1970</li>\n",
       "\t<li>1938</li>\n",
       "\t<li>1851</li>\n",
       "</ol>\n"
      ],
      "text/latex": [
       "\\begin{enumerate*}\n",
       "\\item 2109\n",
       "\\item 1882\n",
       "\\item 1970\n",
       "\\item 1938\n",
       "\\item 1851\n",
       "\\end{enumerate*}\n"
      ],
      "text/markdown": [
       "1. 2109\n",
       "2. 1882\n",
       "3. 1970\n",
       "4. 1938\n",
       "5. 1851\n",
       "\n",
       "\n"
      ],
      "text/plain": [
       "[1] 2109 1882 1970 1938 1851"
      ]
     },
     "metadata": {},
     "output_type": "display_data"
    },
    {
     "data": {
      "text/html": [
       "8683.8"
      ],
      "text/latex": [
       "8683.8"
      ],
      "text/markdown": [
       "8683.8"
      ],
      "text/plain": [
       "[1] 8683.8"
      ]
     },
     "metadata": {},
     "output_type": "display_data"
    }
   ],
   "source": [
    "allday <- steps > 1000\n",
    "allday\n",
    "fullsteps <- steps[allday]\n",
    "fullsteps\n",
    "fullkcal <- kcal[allday]\n",
    "fullkcal\n",
    "mean(fullsteps)"
   ]
  },
  {
   "cell_type": "markdown",
   "metadata": {},
   "source": [
    "(If you feel like it, see if you can again do this on just one line!) In fact, even this is a bit more complicated than is usually really needed, but the idea is clearly shown here. And we'll get back to it. The second case where logical values are needed, is to control the behaviour of certain functions. We'll try that soon in the context of missing values. First, let's just play a bit with what we have learned so far.\n",
    "\n",
    "We've calculated before the average energy consumption per step, but we did it a bit wrong: a person consumes energy to run the body even if she laid in bed all day. This is called the basal metabolic rate. One day was marked with 0 steps, while there was a positive energy consumption on that day as well. That positive kcal value is the bracelet's estimate of the wearer's basal metabolic rate, based on height, weight etc. Let's calculate the average energy consumption per step again, this time based only on the part that was above the basal metabolic rate. Let's do it step by step:"
   ]
  },
  {
   "cell_type": "code",
   "execution_count": 32,
   "metadata": {
    "collapsed": false
   },
   "outputs": [
    {
     "data": {
      "text/html": [
       "1341"
      ],
      "text/latex": [
       "1341"
      ],
      "text/markdown": [
       "1341"
      ],
      "text/plain": [
       "[1] 1341"
      ]
     },
     "metadata": {},
     "output_type": "display_data"
    },
    {
     "data": {
      "text/html": [
       "<ol class=list-inline>\n",
       "\t<li>15</li>\n",
       "\t<li>0</li>\n",
       "\t<li>768</li>\n",
       "\t<li>541</li>\n",
       "\t<li>629</li>\n",
       "\t<li>597</li>\n",
       "\t<li>510</li>\n",
       "</ol>\n"
      ],
      "text/latex": [
       "\\begin{enumerate*}\n",
       "\\item 15\n",
       "\\item 0\n",
       "\\item 768\n",
       "\\item 541\n",
       "\\item 629\n",
       "\\item 597\n",
       "\\item 510\n",
       "\\end{enumerate*}\n"
      ],
      "text/markdown": [
       "1. 15\n",
       "2. 0\n",
       "3. 768\n",
       "4. 541\n",
       "5. 629\n",
       "6. 597\n",
       "7. 510\n",
       "\n",
       "\n"
      ],
      "text/plain": [
       "[1]  15   0 768 541 629 597 510"
      ]
     },
     "metadata": {},
     "output_type": "display_data"
    },
    {
     "data": {
      "text/html": [
       "<ol class=list-inline>\n",
       "\t<li>0.141509433962264</li>\n",
       "\t<li>NaN</li>\n",
       "\t<li>0.0601174168297456</li>\n",
       "\t<li>0.0652829733317244</li>\n",
       "\t<li>0.0682064628063327</li>\n",
       "\t<li>0.0843220338983051</li>\n",
       "\t<li>0.0842279108175062</li>\n",
       "</ol>\n"
      ],
      "text/latex": [
       "\\begin{enumerate*}\n",
       "\\item 0.141509433962264\n",
       "\\item NaN\n",
       "\\item 0.0601174168297456\n",
       "\\item 0.0652829733317244\n",
       "\\item 0.0682064628063327\n",
       "\\item 0.0843220338983051\n",
       "\\item 0.0842279108175062\n",
       "\\end{enumerate*}\n"
      ],
      "text/markdown": [
       "1. 0.141509433962264\n",
       "2. NaN\n",
       "3. 0.0601174168297456\n",
       "4. 0.0652829733317244\n",
       "5. 0.0682064628063327\n",
       "6. 0.0843220338983051\n",
       "7. 0.0842279108175062\n",
       "\n",
       "\n"
      ],
      "text/plain": [
       "[1] 0.14150943        NaN 0.06011742 0.06528297 0.06820646 0.08432203 0.08422791"
      ]
     },
     "metadata": {},
     "output_type": "display_data"
    }
   ],
   "source": [
    "# Here you should write the correct code at the points marked with ??\n",
    "\n",
    "# First we need to find the bmr value: \n",
    "# it's the element that coincides with the 'TRUE' values of the\n",
    "# logical vector \"steps is equal to 0\":\n",
    "steps0 <- steps==0\n",
    "bmr  <- kcal[steps0]\n",
    "bmr\n",
    "# You should see the bmr value come out as 1341\n",
    "\n",
    "# Next we subtract the bmr value from the kcal values\n",
    "abovebmr <- kcal-bmr\n",
    "abovebmr\n",
    "# You should now see smaller kcal values, with 0 as the second element\n",
    "\n",
    "# Finally, we get to do the energy consumed per step calculation again\n",
    "kcalperstep <- abovebmr/steps\n",
    "kcalperstep\n",
    "\n",
    "# You should see values between 0.060 and 0.085 for the full days, \n",
    "# something a bit more for the first day, and \"NaN\" for the second"
   ]
  },
  {
   "cell_type": "markdown",
   "metadata": {},
   "source": [
    "There! This makes more sense. The first day is still a bit off, but the other weekdays are similar with each other, and so are the weekend days, which is consistent with the wearer's workpattern. The NaN vlaue will be explained in the next section. Meanwhile, if this felt unnecessarily complicated it is because it was that. We could have just done the same calculation by typing in the number 1341. The point here was to give you a feeling of what data analysis through R scripts is like!"
   ]
  },
  {
   "cell_type": "markdown",
   "metadata": {},
   "source": [
    "## Missing values\n",
    "\n",
    "In the `steps` vector in the previous examples the first two values, 106 and 0, were probably due to the bracelet not being worn the whole day or at all, and do not reflect the true amount. In other words, we don't actually know the step number: those data point are missing. The R language provides an explicit way of saying this, the `NA` symbol (\"not available\"). Here is the steps vector with missing values explicitly stated:"
   ]
  },
  {
   "cell_type": "code",
   "execution_count": 33,
   "metadata": {
    "collapsed": true
   },
   "outputs": [],
   "source": [
    "steps_na <- c(NA,NA,12775,8287,9222,7080,6055)"
   ]
  },
  {
   "cell_type": "markdown",
   "metadata": {},
   "source": [
    "Another common way of expressing missingness is some specific numeric value that's supposed to be apparent but this causes problems. An actual number is always going to be treated as an actual number in calculations, such as total sums etc, skewing results unless they are filtered out manually (which is easy to forget). An explicit missing value will behave properly and can be dealt with automatically. For example:"
   ]
  },
  {
   "cell_type": "code",
   "execution_count": 34,
   "metadata": {
    "collapsed": false
   },
   "outputs": [
    {
     "data": {
      "text/plain": [
       "[1] NA"
      ]
     },
     "metadata": {},
     "output_type": "display_data"
    }
   ],
   "source": [
    "sum(steps_na)"
   ]
  },
  {
   "cell_type": "markdown",
   "metadata": {},
   "source": [
    "The sum of a vector containing NA's is also NA. This makes sense: if you don't know what number to add, you also don't know what the result will be. On the other hand, you might be interested to see the sum of the numbers that are there. This is easily done:"
   ]
  },
  {
   "cell_type": "code",
   "execution_count": 35,
   "metadata": {
    "collapsed": false
   },
   "outputs": [
    {
     "data": {
      "text/html": [
       "43419"
      ],
      "text/latex": [
       "43419"
      ],
      "text/markdown": [
       "43419"
      ],
      "text/plain": [
       "[1] 43419"
      ]
     },
     "metadata": {},
     "output_type": "display_data"
    }
   ],
   "source": [
    "sum(steps_na, na.rm=TRUE)"
   ]
  },
  {
   "cell_type": "markdown",
   "metadata": {},
   "source": [
    "Here an additional *parameter* was given to the sum-function, telling it to skip the missing values (\"remove NA's\"). This is the other case where you commonly encounter logical values: the default behaviour of sum (and many other functions) is to include missing values in the calculation and it can be changed by setting the parameter `na.rm` to `TRUE`. We will learn more about functions and parameters later in this notebook. \n",
    "\n",
    "One more thing about NA's: if you need to know which values are missing, a direct logical comparison with NA will not work. Instead you have to use a *testing* function `is.na()`. See here (and think for a moment what the first result means!):"
   ]
  },
  {
   "cell_type": "code",
   "execution_count": null,
   "metadata": {
    "collapsed": false
   },
   "outputs": [],
   "source": [
    "steps_na == NA\n",
    "is.na(steps_na)"
   ]
  },
  {
   "cell_type": "markdown",
   "metadata": {},
   "source": [
    "In the previous example there was a related symbol, `NaN` which stands for \"not a number\". This is another kind of missingness that resulted from the calculation 0/0 which has no well defined mathematical meaning (not even infinity, which in turn has its own symbol `Inf` which we also saw earlier). The difference between NA and NaN can be easily ignored for now.\n",
    "\n",
    "## Character vectors and factors\n",
    "\n",
    "There's one more flavor of vectors: character. The elements of character vectors are pieces of text, such as here:"
   ]
  },
  {
   "cell_type": "code",
   "execution_count": 37,
   "metadata": {
    "collapsed": false
   },
   "outputs": [
    {
     "data": {
      "text/html": [
       "<ol class=list-inline>\n",
       "\t<li>'Trt1'</li>\n",
       "\t<li>'Trt2'</li>\n",
       "\t<li>'Ctrl'</li>\n",
       "\t<li>'Trt1'</li>\n",
       "\t<li>'Ctrl'</li>\n",
       "\t<li>'Trt2'</li>\n",
       "</ol>\n"
      ],
      "text/latex": [
       "\\begin{enumerate*}\n",
       "\\item 'Trt1'\n",
       "\\item 'Trt2'\n",
       "\\item 'Ctrl'\n",
       "\\item 'Trt1'\n",
       "\\item 'Ctrl'\n",
       "\\item 'Trt2'\n",
       "\\end{enumerate*}\n"
      ],
      "text/markdown": [
       "1. 'Trt1'\n",
       "2. 'Trt2'\n",
       "3. 'Ctrl'\n",
       "4. 'Trt1'\n",
       "5. 'Ctrl'\n",
       "6. 'Trt2'\n",
       "\n",
       "\n"
      ],
      "text/plain": [
       "[1] \"Trt1\" \"Trt2\" \"Ctrl\" \"Trt1\" \"Ctrl\" \"Trt2\""
      ]
     },
     "metadata": {},
     "output_type": "display_data"
    }
   ],
   "source": [
    "treatg_char <- c(\"Trt1\",\"Trt2\",\"Ctrl\",\"Trt1\",\"Ctrl\",\"Trt2\")\n",
    "treatg_char"
   ]
  },
  {
   "cell_type": "markdown",
   "metadata": {},
   "source": [
    "Note that the pieces of text have to be enclosed in quotation marks. Single ' and double \" both work the same. \n",
    "\n",
    "There's not much you can do with character vectors as such. They often show up in data representing group membership, or in other words, a categorical variable. However, R has a special object type reserved exactly for that: *factors*. The difference between a character vector and a factor is a bit technical, and in many situations, a character vector is quietly and implicitly changed in to a factor when needed, so it's that more difficult to make the distinction. However, the defining features of a factor is its *levels*: the specific collection of the different values it might get. In contrast, the elements of character vector could be thought to be anything, potentially distinct values for every element. To clarify, here the character vector version of the treatment groups is described using the `summary` function:\n"
   ]
  },
  {
   "cell_type": "code",
   "execution_count": 38,
   "metadata": {
    "collapsed": false
   },
   "outputs": [
    {
     "data": {
      "text/plain": [
       "   Length     Class      Mode \n",
       "        6 character character "
      ]
     },
     "metadata": {},
     "output_type": "display_data"
    }
   ],
   "source": [
    "summary(treatg_char)"
   ]
  },
  {
   "cell_type": "markdown",
   "metadata": {},
   "source": [
    "Here the character vector is changed in to a factor and described again:"
   ]
  },
  {
   "cell_type": "code",
   "execution_count": 39,
   "metadata": {
    "collapsed": false
   },
   "outputs": [
    {
     "data": {
      "text/html": [
       "<dl class=dl-horizontal>\n",
       "\t<dt>Ctrl</dt>\n",
       "\t\t<dd>2</dd>\n",
       "\t<dt>Trt1</dt>\n",
       "\t\t<dd>2</dd>\n",
       "\t<dt>Trt2</dt>\n",
       "\t\t<dd>2</dd>\n",
       "</dl>\n"
      ],
      "text/latex": [
       "\\begin{description*}\n",
       "\\item[Ctrl] 2\n",
       "\\item[Trt1] 2\n",
       "\\item[Trt2] 2\n",
       "\\end{description*}\n"
      ],
      "text/markdown": [
       "Ctrl\n",
       ":   2Trt1\n",
       ":   2Trt2\n",
       ":   2\n",
       "\n"
      ],
      "text/plain": [
       "Ctrl Trt1 Trt2 \n",
       "   2    2    2 "
      ]
     },
     "metadata": {},
     "output_type": "display_data"
    }
   ],
   "source": [
    "treatg <- factor(treatg_char)\n",
    "summary(treatg)"
   ]
  },
  {
   "cell_type": "markdown",
   "metadata": {},
   "source": [
    "In the first case, nothing is told about the contents beyond the length and type, in the second, a useful summary of the variable is given: it has three categories (levels) each with 2 observations. Here are two other functions about the levels of a factor:"
   ]
  },
  {
   "cell_type": "code",
   "execution_count": 40,
   "metadata": {
    "collapsed": false
   },
   "outputs": [
    {
     "data": {
      "text/html": [
       "<ol class=list-inline>\n",
       "\t<li>'Ctrl'</li>\n",
       "\t<li>'Trt1'</li>\n",
       "\t<li>'Trt2'</li>\n",
       "</ol>\n"
      ],
      "text/latex": [
       "\\begin{enumerate*}\n",
       "\\item 'Ctrl'\n",
       "\\item 'Trt1'\n",
       "\\item 'Trt2'\n",
       "\\end{enumerate*}\n"
      ],
      "text/markdown": [
       "1. 'Ctrl'\n",
       "2. 'Trt1'\n",
       "3. 'Trt2'\n",
       "\n",
       "\n"
      ],
      "text/plain": [
       "[1] \"Ctrl\" \"Trt1\" \"Trt2\""
      ]
     },
     "metadata": {},
     "output_type": "display_data"
    },
    {
     "data": {
      "text/html": [
       "3"
      ],
      "text/latex": [
       "3"
      ],
      "text/markdown": [
       "3"
      ],
      "text/plain": [
       "[1] 3"
      ]
     },
     "metadata": {},
     "output_type": "display_data"
    }
   ],
   "source": [
    "levels(treatg)\n",
    "nlevels(treatg)"
   ]
  },
  {
   "cell_type": "markdown",
   "metadata": {},
   "source": [
    "Now that you are familiar with vectors and factors, you are ready for the most important data type, data frames.\n",
    "\n",
    "## Data frames\n",
    "\n",
    "\n",
    "The examples so far have dealt with single vectors that weren't actually connected to each other. We treated the kcal and steps vectors as if their elements corresponded to the same days of the week but this was not explicitly stated anywhere. In the following the same data are put in a *data frame*, maybe the most important data structure in R. But for clarity, let's empty the workspace first:"
   ]
  },
  {
   "cell_type": "code",
   "execution_count": 41,
   "metadata": {
    "collapsed": false
   },
   "outputs": [
    {
     "data": {
      "text/html": [
       "<ol class=list-inline>\n",
       "\t<li>'abovebmr'</li>\n",
       "\t<li>'allday'</li>\n",
       "\t<li>'answer'</li>\n",
       "\t<li>'bmr'</li>\n",
       "\t<li>'day'</li>\n",
       "\t<li>'distances'</li>\n",
       "\t<li>'fullkcal'</li>\n",
       "\t<li>'fullsteps'</li>\n",
       "\t<li>'hour'</li>\n",
       "\t<li>'kcal'</li>\n",
       "\t<li>'kcalperstep'</li>\n",
       "\t<li>'steps'</li>\n",
       "\t<li>'steps_na'</li>\n",
       "\t<li>'steps0'</li>\n",
       "\t<li>'tot_dist'</li>\n",
       "\t<li>'totenergy'</li>\n",
       "\t<li>'treatg'</li>\n",
       "\t<li>'treatg_char'</li>\n",
       "\t<li>'weekh'</li>\n",
       "</ol>\n"
      ],
      "text/latex": [
       "\\begin{enumerate*}\n",
       "\\item 'abovebmr'\n",
       "\\item 'allday'\n",
       "\\item 'answer'\n",
       "\\item 'bmr'\n",
       "\\item 'day'\n",
       "\\item 'distances'\n",
       "\\item 'fullkcal'\n",
       "\\item 'fullsteps'\n",
       "\\item 'hour'\n",
       "\\item 'kcal'\n",
       "\\item 'kcalperstep'\n",
       "\\item 'steps'\n",
       "\\item 'steps\\_na'\n",
       "\\item 'steps0'\n",
       "\\item 'tot\\_dist'\n",
       "\\item 'totenergy'\n",
       "\\item 'treatg'\n",
       "\\item 'treatg\\_char'\n",
       "\\item 'weekh'\n",
       "\\end{enumerate*}\n"
      ],
      "text/markdown": [
       "1. 'abovebmr'\n",
       "2. 'allday'\n",
       "3. 'answer'\n",
       "4. 'bmr'\n",
       "5. 'day'\n",
       "6. 'distances'\n",
       "7. 'fullkcal'\n",
       "8. 'fullsteps'\n",
       "9. 'hour'\n",
       "10. 'kcal'\n",
       "11. 'kcalperstep'\n",
       "12. 'steps'\n",
       "13. 'steps_na'\n",
       "14. 'steps0'\n",
       "15. 'tot_dist'\n",
       "16. 'totenergy'\n",
       "17. 'treatg'\n",
       "18. 'treatg_char'\n",
       "19. 'weekh'\n",
       "\n",
       "\n"
      ],
      "text/plain": [
       " [1] \"abovebmr\"    \"allday\"      \"answer\"      \"bmr\"         \"day\"        \n",
       " [6] \"distances\"   \"fullkcal\"    \"fullsteps\"   \"hour\"        \"kcal\"       \n",
       "[11] \"kcalperstep\" \"steps\"       \"steps_na\"    \"steps0\"      \"tot_dist\"   \n",
       "[16] \"totenergy\"   \"treatg\"      \"treatg_char\" \"weekh\"      "
      ]
     },
     "metadata": {},
     "output_type": "display_data"
    },
    {
     "data": {
      "text/html": [],
      "text/latex": [],
      "text/markdown": [],
      "text/plain": [
       "character(0)"
      ]
     },
     "metadata": {},
     "output_type": "display_data"
    }
   ],
   "source": [
    "ls()\n",
    "# you probably see the names of all the objects from before, including steps and kcal\n",
    "\n",
    "# this command removes everything:\n",
    "rm(list=ls())\n",
    "\n",
    "# now the same listing command from before gives no output:\n",
    "ls()"
   ]
  },
  {
   "cell_type": "markdown",
   "metadata": {},
   "source": [
    "In other words, there should now be no objects in the workspace. We'll go right ahead and create one new one:"
   ]
  },
  {
   "cell_type": "code",
   "execution_count": 42,
   "metadata": {
    "collapsed": false
   },
   "outputs": [
    {
     "data": {
      "text/html": [
       "<table>\n",
       "<thead><tr><th></th><th scope=col>day</th><th scope=col>steps</th><th scope=col>kcal</th></tr></thead>\n",
       "<tbody>\n",
       "\t<tr><th scope=row>1</th><td>Monday</td><td>106   </td><td>1356  </td></tr>\n",
       "\t<tr><th scope=row>2</th><td>Tuesday</td><td>0      </td><td>1341   </td></tr>\n",
       "\t<tr><th scope=row>3</th><td>Wednesday</td><td>12775    </td><td>2109     </td></tr>\n",
       "\t<tr><th scope=row>4</th><td>Thursday</td><td>8287    </td><td>1882    </td></tr>\n",
       "\t<tr><th scope=row>5</th><td>Friday</td><td>9222  </td><td>1970  </td></tr>\n",
       "\t<tr><th scope=row>6</th><td>Saturday</td><td>7080    </td><td>1938    </td></tr>\n",
       "\t<tr><th scope=row>7</th><td>Sunday</td><td>6055  </td><td>1851  </td></tr>\n",
       "</tbody>\n",
       "</table>\n"
      ],
      "text/latex": [
       "\\begin{tabular}{r|lll}\n",
       "  & day & steps & kcal\\\\\n",
       "\\hline\n",
       "\t1 & Monday & 106    & 1356  \\\\\n",
       "\t2 & Tuesday & 0       & 1341   \\\\\n",
       "\t3 & Wednesday & 12775     & 2109     \\\\\n",
       "\t4 & Thursday & 8287     & 1882    \\\\\n",
       "\t5 & Friday & 9222   & 1970  \\\\\n",
       "\t6 & Saturday & 7080     & 1938    \\\\\n",
       "\t7 & Sunday & 6055   & 1851  \\\\\n",
       "\\end{tabular}\n"
      ],
      "text/plain": [
       "        day steps kcal\n",
       "1    Monday   106 1356\n",
       "2   Tuesday     0 1341\n",
       "3 Wednesday 12775 2109\n",
       "4  Thursday  8287 1882\n",
       "5    Friday  9222 1970\n",
       "6  Saturday  7080 1938\n",
       "7    Sunday  6055 1851"
      ]
     },
     "metadata": {},
     "output_type": "display_data"
    },
    {
     "data": {
      "text/plain": [
       "        day        steps            kcal     \n",
       " Friday   :1   Min.   :    0   Min.   :1341  \n",
       " Monday   :1   1st Qu.: 3080   1st Qu.:1604  \n",
       " Saturday :1   Median : 7080   Median :1882  \n",
       " Sunday   :1   Mean   : 6218   Mean   :1778  \n",
       " Thursday :1   3rd Qu.: 8754   3rd Qu.:1954  \n",
       " Tuesday  :1   Max.   :12775   Max.   :2109  \n",
       " Wednesday:1                                 "
      ]
     },
     "metadata": {},
     "output_type": "display_data"
    },
    {
     "data": {
      "text/html": [
       "'bracelet'"
      ],
      "text/latex": [
       "'bracelet'"
      ],
      "text/markdown": [
       "'bracelet'"
      ],
      "text/plain": [
       "[1] \"bracelet\""
      ]
     },
     "metadata": {},
     "output_type": "display_data"
    }
   ],
   "source": [
    "bracelet <- data.frame(day=c(\"Monday\",\"Tuesday\",\"Wednesday\",\"Thursday\",\"Friday\",\"Saturday\",\"Sunday\"),\n",
    "                      steps=c(106,0,12775,8287,9222,7080,6055),\n",
    "                      kcal=c(1356,1341,2109,1882,1970,1938,1851))\n",
    "bracelet\n",
    "summary(bracelet)\n",
    "ls()"
   ]
  },
  {
   "cell_type": "markdown",
   "metadata": {},
   "source": [
    "You can see that the whole dataset is now visually represented as a table, with rows and columns. This is the proper way to think about data frames: they are tables where columns are variables (in the statistical sense) and rows are observations of those variables that go together. On the other hand, the columns of a data frame are still vectors, or factors, and you can do anything with them that you would do with vectors, or factors. The only difference is that you have to mention the name of the data frame where it comes from too. See here:"
   ]
  },
  {
   "cell_type": "code",
   "execution_count": 43,
   "metadata": {
    "collapsed": false
   },
   "outputs": [
    {
     "ename": "ERROR",
     "evalue": "Error in eval(expr, envir, enclos): object 'steps' not found\n",
     "output_type": "error",
     "traceback": [
      "Error in eval(expr, envir, enclos): object 'steps' not found\nTraceback:\n"
     ]
    }
   ],
   "source": [
    "# this will give an error message:\n",
    "steps"
   ]
  },
  {
   "cell_type": "markdown",
   "metadata": {},
   "source": [
    "The error message should not come as a surprise: assuming you ran the previous two code cells just before, it should be clear to you that the only object in the workspace is now `bracelet`, and that there is nothing called `steps`. A small change will make a difference:"
   ]
  },
  {
   "cell_type": "code",
   "execution_count": 44,
   "metadata": {
    "collapsed": false
   },
   "outputs": [
    {
     "data": {
      "text/html": [
       "<ol class=list-inline>\n",
       "\t<li>106</li>\n",
       "\t<li>0</li>\n",
       "\t<li>12775</li>\n",
       "\t<li>8287</li>\n",
       "\t<li>9222</li>\n",
       "\t<li>7080</li>\n",
       "\t<li>6055</li>\n",
       "</ol>\n"
      ],
      "text/latex": [
       "\\begin{enumerate*}\n",
       "\\item 106\n",
       "\\item 0\n",
       "\\item 12775\n",
       "\\item 8287\n",
       "\\item 9222\n",
       "\\item 7080\n",
       "\\item 6055\n",
       "\\end{enumerate*}\n"
      ],
      "text/markdown": [
       "1. 106\n",
       "2. 0\n",
       "3. 12775\n",
       "4. 8287\n",
       "5. 9222\n",
       "6. 7080\n",
       "7. 6055\n",
       "\n",
       "\n"
      ],
      "text/plain": [
       "[1]   106     0 12775  8287  9222  7080  6055"
      ]
     },
     "metadata": {},
     "output_type": "display_data"
    }
   ],
   "source": [
    "bracelet$steps"
   ]
  },
  {
   "cell_type": "markdown",
   "metadata": {},
   "source": [
    "Using the name of the data frame and the `$` character it is possible to talk about the column vector called steps of the data frame called bracelet. Armed with this knowledge, please try and see if you can redo the calculations related to steps and kcal that were done before in the next code cell. \n",
    "\n",
    "**Note!** This should be very educating and perhaps include a few pitfalls. If you get error messages, or surprising behavior, take your time and think what is happening. Remember that you can use `ls()` to see the current objects, and that you can restart from the previous code cells, if you get confused."
   ]
  },
  {
   "cell_type": "code",
   "execution_count": 46,
   "metadata": {
    "collapsed": false
   },
   "outputs": [
    {
     "data": {
      "text/html": [
       "1341"
      ],
      "text/latex": [
       "1341"
      ],
      "text/markdown": [
       "1341"
      ],
      "text/plain": [
       "[1] 1341"
      ]
     },
     "metadata": {},
     "output_type": "display_data"
    },
    {
     "data": {
      "text/html": [
       "<ol class=list-inline>\n",
       "\t<li>15</li>\n",
       "\t<li>0</li>\n",
       "\t<li>768</li>\n",
       "\t<li>541</li>\n",
       "\t<li>629</li>\n",
       "\t<li>597</li>\n",
       "\t<li>510</li>\n",
       "</ol>\n"
      ],
      "text/latex": [
       "\\begin{enumerate*}\n",
       "\\item 15\n",
       "\\item 0\n",
       "\\item 768\n",
       "\\item 541\n",
       "\\item 629\n",
       "\\item 597\n",
       "\\item 510\n",
       "\\end{enumerate*}\n"
      ],
      "text/markdown": [
       "1. 15\n",
       "2. 0\n",
       "3. 768\n",
       "4. 541\n",
       "5. 629\n",
       "6. 597\n",
       "7. 510\n",
       "\n",
       "\n"
      ],
      "text/plain": [
       "[1]  15   0 768 541 629 597 510"
      ]
     },
     "metadata": {},
     "output_type": "display_data"
    },
    {
     "data": {
      "text/html": [
       "<ol class=list-inline>\n",
       "\t<li>0.141509433962264</li>\n",
       "\t<li>NaN</li>\n",
       "\t<li>0.0601174168297456</li>\n",
       "\t<li>0.0652829733317244</li>\n",
       "\t<li>0.0682064628063327</li>\n",
       "\t<li>0.0843220338983051</li>\n",
       "\t<li>0.0842279108175062</li>\n",
       "</ol>\n"
      ],
      "text/latex": [
       "\\begin{enumerate*}\n",
       "\\item 0.141509433962264\n",
       "\\item NaN\n",
       "\\item 0.0601174168297456\n",
       "\\item 0.0652829733317244\n",
       "\\item 0.0682064628063327\n",
       "\\item 0.0843220338983051\n",
       "\\item 0.0842279108175062\n",
       "\\end{enumerate*}\n"
      ],
      "text/markdown": [
       "1. 0.141509433962264\n",
       "2. NaN\n",
       "3. 0.0601174168297456\n",
       "4. 0.0652829733317244\n",
       "5. 0.0682064628063327\n",
       "6. 0.0843220338983051\n",
       "7. 0.0842279108175062\n",
       "\n",
       "\n"
      ],
      "text/plain": [
       "[1] 0.14150943        NaN 0.06011742 0.06528297 0.06820646 0.08432203 0.08422791"
      ]
     },
     "metadata": {},
     "output_type": "display_data"
    }
   ],
   "source": [
    "steps0 <- bracelet$steps==0\n",
    "bmr  <- bracelet$kcal[steps0]\n",
    "bmr\n",
    "\n",
    "abovebmr <- bracelet$kcal-bmr\n",
    "abovebmr\n",
    "\n",
    "kcalperstep <- abovebmr/bracelet$steps\n",
    "kcalperstep\n"
   ]
  },
  {
   "cell_type": "markdown",
   "metadata": {},
   "source": [
    "## Working with data frames\n",
    "\n",
    "The next step in learning data analysis with R would naturally be how to bring in your own data to work with. We will get to that but it requires knowledge of a few more things: functions, working directories, csv files... So before we do that, let's play around a bit with some example data sets that come from R itself.\n",
    "\n",
    "All of the available example data sets are taken in to use with the function called `data`. First, let's look at a classic example, the iris data set:"
   ]
  },
  {
   "cell_type": "code",
   "execution_count": 48,
   "metadata": {
    "collapsed": false
   },
   "outputs": [
    {
     "data": {
      "text/html": [
       "<ol class=list-inline>\n",
       "\t<li>'abovebmr'</li>\n",
       "\t<li>'bmr'</li>\n",
       "\t<li>'bracelet'</li>\n",
       "\t<li>'iris'</li>\n",
       "\t<li>'kcalperstep'</li>\n",
       "\t<li>'steps0'</li>\n",
       "</ol>\n"
      ],
      "text/latex": [
       "\\begin{enumerate*}\n",
       "\\item 'abovebmr'\n",
       "\\item 'bmr'\n",
       "\\item 'bracelet'\n",
       "\\item 'iris'\n",
       "\\item 'kcalperstep'\n",
       "\\item 'steps0'\n",
       "\\end{enumerate*}\n"
      ],
      "text/markdown": [
       "1. 'abovebmr'\n",
       "2. 'bmr'\n",
       "3. 'bracelet'\n",
       "4. 'iris'\n",
       "5. 'kcalperstep'\n",
       "6. 'steps0'\n",
       "\n",
       "\n"
      ],
      "text/plain": [
       "[1] \"abovebmr\"    \"bmr\"         \"bracelet\"    \"iris\"        \"kcalperstep\"\n",
       "[6] \"steps0\"     "
      ]
     },
     "metadata": {},
     "output_type": "display_data"
    },
    {
     "data": {
      "text/plain": [
       "  Sepal.Length    Sepal.Width     Petal.Length    Petal.Width   \n",
       " Min.   :4.300   Min.   :2.000   Min.   :1.000   Min.   :0.100  \n",
       " 1st Qu.:5.100   1st Qu.:2.800   1st Qu.:1.600   1st Qu.:0.300  \n",
       " Median :5.800   Median :3.000   Median :4.350   Median :1.300  \n",
       " Mean   :5.843   Mean   :3.057   Mean   :3.758   Mean   :1.199  \n",
       " 3rd Qu.:6.400   3rd Qu.:3.300   3rd Qu.:5.100   3rd Qu.:1.800  \n",
       " Max.   :7.900   Max.   :4.400   Max.   :6.900   Max.   :2.500  \n",
       "       Species  \n",
       " setosa    :50  \n",
       " versicolor:50  \n",
       " virginica :50  \n",
       "                \n",
       "                \n",
       "                "
      ]
     },
     "metadata": {},
     "output_type": "display_data"
    },
    {
     "data": {
      "text/html": [
       "<table>\n",
       "<thead><tr><th></th><th scope=col>Sepal.Length</th><th scope=col>Sepal.Width</th><th scope=col>Petal.Length</th><th scope=col>Petal.Width</th><th scope=col>Species</th></tr></thead>\n",
       "<tbody>\n",
       "\t<tr><th scope=row>1</th><td>5.1   </td><td>3.5   </td><td>1.4   </td><td>0.2   </td><td>setosa</td></tr>\n",
       "\t<tr><th scope=row>2</th><td>4.9   </td><td>3     </td><td>1.4   </td><td>0.2   </td><td>setosa</td></tr>\n",
       "\t<tr><th scope=row>3</th><td>4.7   </td><td>3.2   </td><td>1.3   </td><td>0.2   </td><td>setosa</td></tr>\n",
       "\t<tr><th scope=row>4</th><td>4.6   </td><td>3.1   </td><td>1.5   </td><td>0.2   </td><td>setosa</td></tr>\n",
       "\t<tr><th scope=row>5</th><td>5     </td><td>3.6   </td><td>1.4   </td><td>0.2   </td><td>setosa</td></tr>\n",
       "\t<tr><th scope=row>6</th><td>5.4   </td><td>3.9   </td><td>1.7   </td><td>0.4   </td><td>setosa</td></tr>\n",
       "</tbody>\n",
       "</table>\n"
      ],
      "text/latex": [
       "\\begin{tabular}{r|lllll}\n",
       "  & Sepal.Length & Sepal.Width & Petal.Length & Petal.Width & Species\\\\\n",
       "\\hline\n",
       "\t1 & 5.1    & 3.5    & 1.4    & 0.2    & setosa\\\\\n",
       "\t2 & 4.9    & 3      & 1.4    & 0.2    & setosa\\\\\n",
       "\t3 & 4.7    & 3.2    & 1.3    & 0.2    & setosa\\\\\n",
       "\t4 & 4.6    & 3.1    & 1.5    & 0.2    & setosa\\\\\n",
       "\t5 & 5      & 3.6    & 1.4    & 0.2    & setosa\\\\\n",
       "\t6 & 5.4    & 3.9    & 1.7    & 0.4    & setosa\\\\\n",
       "\\end{tabular}\n"
      ],
      "text/plain": [
       "  Sepal.Length Sepal.Width Petal.Length Petal.Width Species\n",
       "1          5.1         3.5          1.4         0.2  setosa\n",
       "2          4.9         3.0          1.4         0.2  setosa\n",
       "3          4.7         3.2          1.3         0.2  setosa\n",
       "4          4.6         3.1          1.5         0.2  setosa\n",
       "5          5.0         3.6          1.4         0.2  setosa\n",
       "6          5.4         3.9          1.7         0.4  setosa"
      ]
     },
     "metadata": {},
     "output_type": "display_data"
    }
   ],
   "source": [
    "data(iris)\n",
    "ls()\n",
    "summary(iris)\n",
    "head(iris)"
   ]
  },
  {
   "cell_type": "markdown",
   "metadata": {},
   "source": [
    "So now we have a new data frame in the working space, called iris. Its summary shows us that there are 5 variables, four numeric ones, and one that is a factor, with three levels, each with 50 observations. The `head(iris)` call is used to look at a few first lines of the data frame, instead of looking at all 150 of them. Next, we can look at the documentation page of this data set; this will open a new pop-up like window in Jupyter: you can close it afterwards, or you can move it to its own tab using the button in its top right corner."
   ]
  },
  {
   "cell_type": "code",
   "execution_count": 49,
   "metadata": {
    "collapsed": true
   },
   "outputs": [],
   "source": [
    "?iris"
   ]
  },
  {
   "cell_type": "markdown",
   "metadata": {},
   "source": [
    "You might also consider searching the wikipedia page of this data set to get an idea of what kind of flowers these are, and what the petal and sepal leaves are.\n",
    "\n",
    "There is a saying that when doing data analysis, at least 80% of the time is spent on cleaning, rearranging and otherwise preparing the data, and only 20% on the actual analysis. R is great for that, particularly when combined with a good user interface (RStudio) and some dedicated packages. Most of that is beyond this basic introduction, but a few simple tricks will get us somewhere. The first one is how to add new variables in to the data frame. One way to do this by a simple assignment. Let's pretend that the sepal leaves of the iris flowers are rectangular, and add their area to the data:"
   ]
  },
  {
   "cell_type": "code",
   "execution_count": 51,
   "metadata": {
    "collapsed": false
   },
   "outputs": [
    {
     "data": {
      "text/plain": [
       "  Sepal.Length    Sepal.Width     Petal.Length    Petal.Width   \n",
       " Min.   :4.300   Min.   :2.000   Min.   :1.000   Min.   :0.100  \n",
       " 1st Qu.:5.100   1st Qu.:2.800   1st Qu.:1.600   1st Qu.:0.300  \n",
       " Median :5.800   Median :3.000   Median :4.350   Median :1.300  \n",
       " Mean   :5.843   Mean   :3.057   Mean   :3.758   Mean   :1.199  \n",
       " 3rd Qu.:6.400   3rd Qu.:3.300   3rd Qu.:5.100   3rd Qu.:1.800  \n",
       " Max.   :7.900   Max.   :4.400   Max.   :6.900   Max.   :2.500  \n",
       "       Species     Sepal.Area   \n",
       " setosa    :50   Min.   :10.00  \n",
       " versicolor:50   1st Qu.:15.66  \n",
       " virginica :50   Median :17.66  \n",
       "                 Mean   :17.82  \n",
       "                 3rd Qu.:20.32  \n",
       "                 Max.   :30.02  "
      ]
     },
     "metadata": {},
     "output_type": "display_data"
    }
   ],
   "source": [
    "iris$Sepal.Area  <- iris$Sepal.Width * iris$Sepal.Length\n",
    "summary(iris)"
   ]
  },
  {
   "cell_type": "markdown",
   "metadata": {},
   "source": [
    "\n",
    "Now you try the same with petal leaves:"
   ]
  },
  {
   "cell_type": "code",
   "execution_count": 52,
   "metadata": {
    "collapsed": false
   },
   "outputs": [
    {
     "data": {
      "text/plain": [
       "  Sepal.Length    Sepal.Width     Petal.Length    Petal.Width   \n",
       " Min.   :4.300   Min.   :2.000   Min.   :1.000   Min.   :0.100  \n",
       " 1st Qu.:5.100   1st Qu.:2.800   1st Qu.:1.600   1st Qu.:0.300  \n",
       " Median :5.800   Median :3.000   Median :4.350   Median :1.300  \n",
       " Mean   :5.843   Mean   :3.057   Mean   :3.758   Mean   :1.199  \n",
       " 3rd Qu.:6.400   3rd Qu.:3.300   3rd Qu.:5.100   3rd Qu.:1.800  \n",
       " Max.   :7.900   Max.   :4.400   Max.   :6.900   Max.   :2.500  \n",
       "       Species     Sepal.Area      Petal.Area    \n",
       " setosa    :50   Min.   :10.00   Min.   : 0.110  \n",
       " versicolor:50   1st Qu.:15.66   1st Qu.: 0.420  \n",
       " virginica :50   Median :17.66   Median : 5.615  \n",
       "                 Mean   :17.82   Mean   : 5.794  \n",
       "                 3rd Qu.:20.32   3rd Qu.: 9.690  \n",
       "                 Max.   :30.02   Max.   :15.870  "
      ]
     },
     "metadata": {},
     "output_type": "display_data"
    }
   ],
   "source": [
    "iris$Petal.Area  <- iris$Petal.Width * iris$Petal.Length\n",
    "summary(iris)"
   ]
  },
  {
   "cell_type": "markdown",
   "metadata": {
    "collapsed": true
   },
   "source": [
    "Another simple trick we look at is taking subsets of the data frame. Recall how we used the brackets and indices for extracting parts of vectors. The same kind of syntax works for data frames, except that there are now two sets of indices, one for rows and another for columns. Consider this:"
   ]
  },
  {
   "cell_type": "code",
   "execution_count": 53,
   "metadata": {
    "collapsed": false
   },
   "outputs": [
    {
     "data": {
      "text/html": [
       "<table>\n",
       "<thead><tr><th></th><th scope=col>Sepal.Length</th><th scope=col>Sepal.Width</th><th scope=col>Petal.Length</th><th scope=col>Petal.Width</th></tr></thead>\n",
       "<tbody>\n",
       "\t<tr><th scope=row>1</th><td>5.1</td><td>3.5</td><td>1.4</td><td>0.2</td></tr>\n",
       "\t<tr><th scope=row>2</th><td>4.9</td><td>3.0</td><td>1.4</td><td>0.2</td></tr>\n",
       "\t<tr><th scope=row>3</th><td>4.7</td><td>3.2</td><td>1.3</td><td>0.2</td></tr>\n",
       "\t<tr><th scope=row>4</th><td>4.6</td><td>3.1</td><td>1.5</td><td>0.2</td></tr>\n",
       "\t<tr><th scope=row>5</th><td>5.0</td><td>3.6</td><td>1.4</td><td>0.2</td></tr>\n",
       "</tbody>\n",
       "</table>\n"
      ],
      "text/latex": [
       "\\begin{tabular}{r|llll}\n",
       "  & Sepal.Length & Sepal.Width & Petal.Length & Petal.Width\\\\\n",
       "\\hline\n",
       "\t1 & 5.1 & 3.5 & 1.4 & 0.2\\\\\n",
       "\t2 & 4.9 & 3.0 & 1.4 & 0.2\\\\\n",
       "\t3 & 4.7 & 3.2 & 1.3 & 0.2\\\\\n",
       "\t4 & 4.6 & 3.1 & 1.5 & 0.2\\\\\n",
       "\t5 & 5.0 & 3.6 & 1.4 & 0.2\\\\\n",
       "\\end{tabular}\n"
      ],
      "text/plain": [
       "  Sepal.Length Sepal.Width Petal.Length Petal.Width\n",
       "1          5.1         3.5          1.4         0.2\n",
       "2          4.9         3.0          1.4         0.2\n",
       "3          4.7         3.2          1.3         0.2\n",
       "4          4.6         3.1          1.5         0.2\n",
       "5          5.0         3.6          1.4         0.2"
      ]
     },
     "metadata": {},
     "output_type": "display_data"
    },
    {
     "data": {
      "text/html": [
       "<ol class=list-inline>\n",
       "\t<li>'abovebmr'</li>\n",
       "\t<li>'bmr'</li>\n",
       "\t<li>'bracelet'</li>\n",
       "\t<li>'corner'</li>\n",
       "\t<li>'iris'</li>\n",
       "\t<li>'kcalperstep'</li>\n",
       "\t<li>'steps0'</li>\n",
       "</ol>\n"
      ],
      "text/latex": [
       "\\begin{enumerate*}\n",
       "\\item 'abovebmr'\n",
       "\\item 'bmr'\n",
       "\\item 'bracelet'\n",
       "\\item 'corner'\n",
       "\\item 'iris'\n",
       "\\item 'kcalperstep'\n",
       "\\item 'steps0'\n",
       "\\end{enumerate*}\n"
      ],
      "text/markdown": [
       "1. 'abovebmr'\n",
       "2. 'bmr'\n",
       "3. 'bracelet'\n",
       "4. 'corner'\n",
       "5. 'iris'\n",
       "6. 'kcalperstep'\n",
       "7. 'steps0'\n",
       "\n",
       "\n"
      ],
      "text/plain": [
       "[1] \"abovebmr\"    \"bmr\"         \"bracelet\"    \"corner\"      \"iris\"       \n",
       "[6] \"kcalperstep\" \"steps0\"     "
      ]
     },
     "metadata": {},
     "output_type": "display_data"
    }
   ],
   "source": [
    "corner <- iris[1:5,1:4]\n",
    "corner\n",
    "ls()"
   ]
  },
  {
   "cell_type": "markdown",
   "metadata": {},
   "source": [
    "This created a new data frame, which consists of the rows 1 to 5 and columns 1 to 4 of the iris. So, the indices before the comma refer to rows, the indices after the comma refer to columns. For convenience (?), leaving the other index out completely means \"all of them\". So, this means that in addition to the `$` notation from before, you can extract a single column vector also like this:"
   ]
  },
  {
   "cell_type": "code",
   "execution_count": null,
   "metadata": {
    "collapsed": false
   },
   "outputs": [],
   "source": [
    "iris[,4]"
   ]
  },
  {
   "cell_type": "markdown",
   "metadata": {},
   "source": [
    "Earlier we also learned about using logical vectors to extract parts of vectors that satisfy a condition. This works for data frames too, in an analogous manner, and in fact makes even more sense here. But there is also a function called `subset` that is nicer to use. Here are two examples:"
   ]
  },
  {
   "cell_type": "code",
   "execution_count": null,
   "metadata": {
    "collapsed": true
   },
   "outputs": [],
   "source": [
    "smallones <- subset(iris,Sepal.Length<5)\n",
    "setosas <- subset(iris,Species==\"setosa\")"
   ]
  },
  {
   "cell_type": "markdown",
   "metadata": {},
   "source": [
    "This function works so that you first state which data frame you want to subset, and then you give the logical rule for the rows you want to keep. The joy comes from the fact that inside the function call you only need to mention the data frame once, and then all its columns are known by name.\n",
    "\n",
    "Try now if you can calculate the average sepal length for each species separately. You have the knowledge for (at least) two ways of doing this. First, you could exploit the fact that the species observations are nicely in order, 50 observations at a time. Things are usually not this nice, so you should also try splitting the data frame in three single-species parts with `subset`. This solution was actually started in the previous code cell already.\n",
    "\n",
    "(Note that neither of these two ways is in fact viable in the real world. In a real situation one would use the `aggregate` function from base R, or `summarise` from the `dplyr` package. But it's too early for those.)"
   ]
  },
  {
   "cell_type": "code",
   "execution_count": 61,
   "metadata": {
    "collapsed": false
   },
   "outputs": [
    {
     "data": {
      "text/plain": [
       "  Sepal.Length    Sepal.Width     Petal.Length    Petal.Width   \n",
       " Min.   :4.300   Min.   :2.300   Min.   :1.000   Min.   :0.100  \n",
       " 1st Qu.:4.800   1st Qu.:3.200   1st Qu.:1.400   1st Qu.:0.200  \n",
       " Median :5.000   Median :3.400   Median :1.500   Median :0.200  \n",
       " Mean   :5.006   Mean   :3.428   Mean   :1.462   Mean   :0.246  \n",
       " 3rd Qu.:5.200   3rd Qu.:3.675   3rd Qu.:1.575   3rd Qu.:0.300  \n",
       " Max.   :5.800   Max.   :4.400   Max.   :1.900   Max.   :0.600  \n",
       "       Species     Sepal.Area      Petal.Area    \n",
       " setosa    :50   Min.   :10.35   Min.   :0.1100  \n",
       " versicolor: 0   1st Qu.:15.04   1st Qu.:0.2800  \n",
       " virginica : 0   Median :17.17   Median :0.3000  \n",
       "                 Mean   :17.26   Mean   :0.3656  \n",
       "                 3rd Qu.:19.16   3rd Qu.:0.4200  \n",
       "                 Max.   :25.08   Max.   :0.9600  "
      ]
     },
     "metadata": {},
     "output_type": "display_data"
    },
    {
     "data": {
      "text/html": [
       "5.006"
      ],
      "text/latex": [
       "5.006"
      ],
      "text/markdown": [
       "5.006"
      ],
      "text/plain": [
       "[1] 5.006"
      ]
     },
     "metadata": {},
     "output_type": "display_data"
    },
    {
     "data": {
      "text/html": [
       "5.006"
      ],
      "text/latex": [
       "5.006"
      ],
      "text/markdown": [
       "5.006"
      ],
      "text/plain": [
       "[1] 5.006"
      ]
     },
     "metadata": {},
     "output_type": "display_data"
    },
    {
     "data": {
      "text/html": [
       "5.936"
      ],
      "text/latex": [
       "5.936"
      ],
      "text/markdown": [
       "5.936"
      ],
      "text/plain": [
       "[1] 5.936"
      ]
     },
     "metadata": {},
     "output_type": "display_data"
    },
    {
     "data": {
      "text/html": [
       "6.588"
      ],
      "text/latex": [
       "6.588"
      ],
      "text/markdown": [
       "6.588"
      ],
      "text/plain": [
       "[1] 6.588"
      ]
     },
     "metadata": {},
     "output_type": "display_data"
    }
   ],
   "source": [
    "setosas <- subset(iris,Species==\"setosa\")\n",
    "summary(setosas)\n",
    "# or take the mean specifically:\n",
    "mean(setosas$Sepal.Length)\n",
    "\n",
    "#or you can do it in one line\n",
    "mean(subset(iris,Species==\"setosa\")$Sepal.Length)\n",
    "\n",
    "mean(subset(iris,Species==\"versicolor\")$Sepal.Length)\n",
    "\n",
    "mean(subset(iris,Species==\"virginica\")$Sepal.Length)\n"
   ]
  },
  {
   "cell_type": "markdown",
   "metadata": {},
   "source": [
    "The correct answers are 5.006, 5.936 and 6.588 for setosa, versicolor and virginica, respectively.\n",
    "\n",
    "## Understanding function calls and documentation\n",
    "\n",
    "Getting anything done in R happens by using functions. In fact, learning to do data analysis using R after the basics means mostly learning which functions out of the millions available will do the tasks you need done. That is a completely different story that what we are looking at now. Once you know which function you want to use though, you can look at its documentation to see how exactly it is used.\n",
    "\n",
    "You can bring up the documentation of a function by typing the question mark `?` in front of the function name (without the parentheses), in the similar way as before with the iris data frame. Try this now with the function `mean` and remember again that you can detach the page as its own tab."
   ]
  },
  {
   "cell_type": "code",
   "execution_count": 62,
   "metadata": {
    "collapsed": true
   },
   "outputs": [],
   "source": [
    "?mean"
   ]
  },
  {
   "cell_type": "markdown",
   "metadata": {},
   "source": [
    "The documentation pages have a common structure, although not all have every part present. First there is **Description**, a short explanation of what the function (or functions, if several are described in the same page) does. Then there are the parts called **Usage** and **Arguments**, which together list all the possible arguments the function could take and their default values. The arguments are also explained in more detail: most importantly, it is mentioned what kind of argument is expected (such as numeric, logical, single value, a vector...). After this there is often **Details**, a longer and hopefully enlightening explanation of how the function works and is supposed to be used. Here though, mean is assumed to be simple enough to not need further explanation. Next one is usually **Value**, explaining what kind of output the function will produce. At the end, there are usually a list of related functions under **See also** and finally **Examples**, which are both often very educating.\n",
    "\n",
    "The arguments are always named in the Usage list, but when calling the function you don't have to use the names, as long as the order you give the values matches the order listed in Usage. If you want to skip giving some (and use their default values), or give them in some other order, you do need to use the names. A common habit is to give the first argument unnamed, and the rest with names.\n",
    "\n",
    "Try now if you can figure out how to use a completely new fucntion based on only its documentation. Use the function called `sample` to produce \n",
    "\n",
    "- a Finnish Lotto (lottery) ticket: 7 randomly drawn numbers out of 40\n",
    "- a vector of 0's and 1's, representing 10 coin tosses \n",
    "    - as an extra: make a factor with levels \"heads\" and \"tails\" instead, if you feel like it. It is more appropriate but requires a bit more tweaking\n",
    "- a sample of 5 random sepal length measurements from the iris data set. This is a bit trickier than the previous  2 parts: first you produce a vector of random indices using sample, then you use that to pick the measurements (and yes, once more, a ready made function for picking random samples out of data frames exists, this is for educational purposes!)"
   ]
  },
  {
   "cell_type": "code",
   "execution_count": 72,
   "metadata": {
    "collapsed": false
   },
   "outputs": [
    {
     "data": {
      "text/html": [
       "<ol class=list-inline>\n",
       "\t<li>18</li>\n",
       "\t<li>13</li>\n",
       "\t<li>3</li>\n",
       "\t<li>12</li>\n",
       "\t<li>1</li>\n",
       "\t<li>33</li>\n",
       "\t<li>11</li>\n",
       "</ol>\n"
      ],
      "text/latex": [
       "\\begin{enumerate*}\n",
       "\\item 18\n",
       "\\item 13\n",
       "\\item 3\n",
       "\\item 12\n",
       "\\item 1\n",
       "\\item 33\n",
       "\\item 11\n",
       "\\end{enumerate*}\n"
      ],
      "text/markdown": [
       "1. 18\n",
       "2. 13\n",
       "3. 3\n",
       "4. 12\n",
       "5. 1\n",
       "6. 33\n",
       "7. 11\n",
       "\n",
       "\n"
      ],
      "text/plain": [
       "[1] 18 13  3 12  1 33 11"
      ]
     },
     "metadata": {},
     "output_type": "display_data"
    },
    {
     "data": {
      "text/html": [
       "<ol class=list-inline>\n",
       "\t<li>38</li>\n",
       "\t<li>13</li>\n",
       "\t<li>11</li>\n",
       "\t<li>36</li>\n",
       "\t<li>14</li>\n",
       "\t<li>35</li>\n",
       "\t<li>33</li>\n",
       "</ol>\n"
      ],
      "text/latex": [
       "\\begin{enumerate*}\n",
       "\\item 38\n",
       "\\item 13\n",
       "\\item 11\n",
       "\\item 36\n",
       "\\item 14\n",
       "\\item 35\n",
       "\\item 33\n",
       "\\end{enumerate*}\n"
      ],
      "text/markdown": [
       "1. 38\n",
       "2. 13\n",
       "3. 11\n",
       "4. 36\n",
       "5. 14\n",
       "6. 35\n",
       "7. 33\n",
       "\n",
       "\n"
      ],
      "text/plain": [
       "[1] 38 13 11 36 14 35 33"
      ]
     },
     "metadata": {},
     "output_type": "display_data"
    },
    {
     "data": {
      "text/html": [
       "<ol class=list-inline>\n",
       "\t<li>0</li>\n",
       "\t<li>0</li>\n",
       "\t<li>0</li>\n",
       "\t<li>0</li>\n",
       "\t<li>1</li>\n",
       "\t<li>1</li>\n",
       "\t<li>1</li>\n",
       "\t<li>1</li>\n",
       "\t<li>1</li>\n",
       "\t<li>0</li>\n",
       "</ol>\n"
      ],
      "text/latex": [
       "\\begin{enumerate*}\n",
       "\\item 0\n",
       "\\item 0\n",
       "\\item 0\n",
       "\\item 0\n",
       "\\item 1\n",
       "\\item 1\n",
       "\\item 1\n",
       "\\item 1\n",
       "\\item 1\n",
       "\\item 0\n",
       "\\end{enumerate*}\n"
      ],
      "text/markdown": [
       "1. 0\n",
       "2. 0\n",
       "3. 0\n",
       "4. 0\n",
       "5. 1\n",
       "6. 1\n",
       "7. 1\n",
       "8. 1\n",
       "9. 1\n",
       "10. 0\n",
       "\n",
       "\n"
      ],
      "text/plain": [
       " [1] 0 0 0 0 1 1 1 1 1 0"
      ]
     },
     "metadata": {},
     "output_type": "display_data"
    },
    {
     "data": {
      "text/html": [
       "<ol class=list-inline>\n",
       "\t<li>tails</li>\n",
       "\t<li>tails</li>\n",
       "\t<li>tails</li>\n",
       "\t<li>tails</li>\n",
       "\t<li>heads</li>\n",
       "\t<li>tails</li>\n",
       "\t<li>heads</li>\n",
       "\t<li>tails</li>\n",
       "\t<li>tails</li>\n",
       "\t<li>heads</li>\n",
       "</ol>\n"
      ],
      "text/latex": [
       "\\begin{enumerate*}\n",
       "\\item tails\n",
       "\\item tails\n",
       "\\item tails\n",
       "\\item tails\n",
       "\\item heads\n",
       "\\item tails\n",
       "\\item heads\n",
       "\\item tails\n",
       "\\item tails\n",
       "\\item heads\n",
       "\\end{enumerate*}\n"
      ],
      "text/markdown": [
       "1. tails\n",
       "2. tails\n",
       "3. tails\n",
       "4. tails\n",
       "5. heads\n",
       "6. tails\n",
       "7. heads\n",
       "8. tails\n",
       "9. tails\n",
       "10. heads\n",
       "\n",
       "\n"
      ],
      "text/plain": [
       " [1] tails tails tails tails heads tails heads tails tails heads\n",
       "Levels: heads tails"
      ]
     },
     "metadata": {},
     "output_type": "display_data"
    }
   ],
   "source": [
    "sample(1:40,7)\n",
    "sample(40,7)\n",
    "\n",
    "sample(c(0,1),10,replace=TRUE)\n",
    "#sample(0:1,10,replace=TRUE)\n",
    "#sample(2,10,replace=TRUE)\n",
    "\n",
    "cointoss <- factor(c(\"heads\",\"tails\"))\n",
    "sample(cointoss,10,replace=TRUE)\n"
   ]
  },
  {
   "cell_type": "markdown",
   "metadata": {
    "collapsed": true
   },
   "source": [
    "## Reading in data from CSV files\n",
    "\n",
    "There are many formats data might exist and R is probably able to read all of them with some effort and the correct package. Here, we will only consider one: CSV files. Feel free to have a look now to see what they are like: https://en.wikipedia.org/wiki/Comma-separated_values. The short version, suitable for current purposes, is that a CSV file is a text file, containing data in a table format much like the data frame you would like it to become. The first row is supposed to be a header row, which contains the names for the columns (variables), and the rest of the rows will have the actual data. Columns are separated with the comma character. Other programs, such as Excel, SPSS, SAS, and many other sources are usually able to export their data in this format. Here's an example of what such data might look like (in fact, these are the first few rows of a CSV file called weather-kumpula.csv we will soon read):\n",
    "\n",
    "    ts,year,month,day,dp,rmm,wdir,ws,t,rh,p\n",
    "    2014-01-01,2014,1,1,0.7526754690757457,1.640000000000001,158.0,4.61702571230021,3.05357887421823,84.87491313412092,1011.9901320361296\n",
    "    2014-01-02,2014,1,2,-2.2381944444444573,0.6000000000000004,118.0,3.627777777777778,0.4078472222222211,81.09583333333333,1012.2958333333349\n",
    "    2014-01-03,2014,1,3,-1.4593055555555527,0.5000000000000002,141.0,3.3281944444444385,1.0606944444444493,82.28611111111111,1008.8503472222206\n",
    "    2014-01-04,2014,1,4,0.3417361111111121,3.6999999999999966,219.0,4.28805555555555,1.7476388888888887,90.35138888888889,1001.7586111111136\n",
    "\n",
    "The function for reading in such data is called `read.csv`. If you go ahead and open its documentation..."
   ]
  },
  {
   "cell_type": "code",
   "execution_count": 73,
   "metadata": {
    "collapsed": true
   },
   "outputs": [],
   "source": [
    "?read.csv"
   ]
  },
  {
   "cell_type": "markdown",
   "metadata": {},
   "source": [
    "... you will find out - if you read beyond the dauntingly long list of arguments and other information - that `read.csv` is an alias for a function called `read.table`. This function can in fact read many more kinds of tabular data than just CSV's but you can safely ignore most of this information now. If your data is in CSV format, `read.csv` will get the job done. One exception: some locales (Finnish, for example) will use comma instead of dot as the decimal separator, and have to use something else as the column separator. Therefore there exists a non-standard version of CSV with semicolon `;` as the column separator. For this case, `read.csv2` will work.\n",
    "\n",
    "All you really need to tell the `read.csv` function is where to find the data file. This happens by giving the name of the file, as a character string, like this:\n",
    "    read.csv(\"weather-kumpula.csv\")\n",
    "This works if the file is in the current *working directory* of your R session. To see what the current working directory is, use this command:"
   ]
  },
  {
   "cell_type": "code",
   "execution_count": 74,
   "metadata": {
    "collapsed": false
   },
   "outputs": [
    {
     "data": {
      "text/html": [
       "'/home/jovyan/work/R-for-beginners'"
      ],
      "text/latex": [
       "'/home/jovyan/work/R-for-beginners'"
      ],
      "text/markdown": [
       "'/home/jovyan/work/R-for-beginners'"
      ],
      "text/plain": [
       "[1] \"/home/jovyan/work/R-for-beginners\""
      ]
     },
     "metadata": {},
     "output_type": "display_data"
    }
   ],
   "source": [
    "getwd()"
   ]
  },
  {
   "cell_type": "markdown",
   "metadata": {},
   "source": [
    "(This notebook session probably says /home/jovyan/work/R-for-beginners.) If the file is not in that directory, you can\n",
    "\n",
    "- change the current working directory to something else using the function `setwd`\n",
    "- give the whole path to the file\n",
    "    - note to Windows users: instead of `\\` character, you have to use `/` or double `\\\\`\n",
    "- use interactive file choosing: `read.csv(file.choose())`\n",
    "    - note: this does not work on this notebook!\n",
    "    \n",
    "(Further note: RStudio has an interactive import wizard, which makes life a lot easier. But this way still works on RStudio as well.)\n",
    "\n",
    "This notebook is set so that you have the weather-kumpula.csv available in a directory called data under the working directory, so we are ready to read the weather data in:"
   ]
  },
  {
   "cell_type": "code",
   "execution_count": 2,
   "metadata": {
    "collapsed": false
   },
   "outputs": [
    {
     "data": {
      "text/html": [
       "'weather'"
      ],
      "text/latex": [
       "'weather'"
      ],
      "text/markdown": [
       "'weather'"
      ],
      "text/plain": [
       "[1] \"weather\""
      ]
     },
     "metadata": {},
     "output_type": "display_data"
    }
   ],
   "source": [
    "weather  <- read.csv(\"../data/weather-kumpula.csv\")\n",
    "ls()"
   ]
  },
  {
   "cell_type": "markdown",
   "metadata": {},
   "source": [
    "And that's all. If you go back to the documentation of the read.csv, and see the Value section, it tells you that the result that this function produces is a data frame. In order to be able to actually use the result, it needs to be assigned to a name. Just like with all the other results.\n",
    "\n",
    "And now you should both be able to bring in data *and* understand what's going on when you do that. If you have any data of your own now would be a great time to try and bring it in. You just need to upload it to the notebook first (from the Home page). If not, let's get familiar with the weather data.\n",
    "\n",
    "This data contains the daily weather measurements for one year at Kumpula, Helsinki. The names of the variables are"
   ]
  },
  {
   "cell_type": "code",
   "execution_count": null,
   "metadata": {
    "collapsed": false
   },
   "outputs": [],
   "source": [
    "names(weather)"
   ]
  },
  {
   "cell_type": "markdown",
   "metadata": {},
   "source": [
    "and they stand for \n",
    "\n",
    "- timestamp\n",
    "- year\n",
    "- month\n",
    "- day\n",
    "- dewpoint in Celsius degrees\n",
    "- rain in millimeters\n",
    "- wind direction in degrees\n",
    "- wind speed\n",
    "- temperature in Celsius degrees\n",
    "- relative humidity\n",
    "- air pressure in millibars\n",
    "\n",
    "You could now use the knowledge you have, and these new hints, to get a handle of this data set. For example,\n",
    "\n",
    "- Use the function `dim` on the whole data set. What does this function do? What does it tell you?\n",
    "- Use `summary` on the whole data frame get an overall feeling of the values, such as, what is the range of temperature over the year? Are there any missing values? (Answer: yes)\n",
    "- Take a look at a function called `complete.cases`. Use it, possibly together with `subset` and/or `dim` to see on how many different days the missing values happen. (Answer: 3) (Which days?)\n",
    "- How much did it rain in September, October and November in total? Remember the `%in%` operator mentioned back in the section on logical values. (Answer: 195.48 mm)"
   ]
  },
  {
   "cell_type": "code",
   "execution_count": 8,
   "metadata": {
    "collapsed": false
   },
   "outputs": [
    {
     "data": {
      "text/html": [
       "<ol class=list-inline>\n",
       "\t<li>365</li>\n",
       "\t<li>11</li>\n",
       "</ol>\n"
      ],
      "text/latex": [
       "\\begin{enumerate*}\n",
       "\\item 365\n",
       "\\item 11\n",
       "\\end{enumerate*}\n"
      ],
      "text/markdown": [
       "1. 365\n",
       "2. 11\n",
       "\n",
       "\n"
      ],
      "text/plain": [
       "[1] 365  11"
      ]
     },
     "metadata": {},
     "output_type": "display_data"
    },
    {
     "data": {
      "text/plain": [
       "          ts           year          month             day       \n",
       " 2014-01-01:  1   Min.   :2014   Min.   : 1.000   Min.   : 1.00  \n",
       " 2014-01-02:  1   1st Qu.:2014   1st Qu.: 4.000   1st Qu.: 8.00  \n",
       " 2014-01-03:  1   Median :2014   Median : 7.000   Median :16.00  \n",
       " 2014-01-04:  1   Mean   :2014   Mean   : 6.526   Mean   :15.72  \n",
       " 2014-01-05:  1   3rd Qu.:2014   3rd Qu.:10.000   3rd Qu.:23.00  \n",
       " 2014-01-06:  1   Max.   :2014   Max.   :12.000   Max.   :31.00  \n",
       " (Other)   :359                                                  \n",
       "       dp               rmm              wdir             ws        \n",
       " Min.   :-16.018   Min.   : 0.010   Min.   :  6.0   Min.   :0.7337  \n",
       " 1st Qu.: -1.887   1st Qu.: 0.500   1st Qu.:111.5   1st Qu.:2.3121  \n",
       " Median :  1.299   Median : 1.630   Median :214.0   Median :3.0003  \n",
       " Mean   :  2.562   Mean   : 2.875   Mean   :195.8   Mean   :3.2833  \n",
       " 3rd Qu.:  9.046   3rd Qu.: 3.540   3rd Qu.:276.0   3rd Qu.:3.9957  \n",
       " Max.   : 17.930   Max.   :29.810   Max.   :360.0   Max.   :7.1535  \n",
       " NA's   :1         NA's   :3        NA's   :1       NA's   :1       \n",
       "       t                 rh              p         \n",
       " Min.   :-15.309   Min.   :28.80   Min.   : 972.5  \n",
       " 1st Qu.:  1.306   1st Qu.:65.79   1st Qu.:1001.7  \n",
       " Median :  5.742   Median :77.58   Median :1009.2  \n",
       " Mean   :  7.098   Mean   :74.30   Mean   :1008.7  \n",
       " 3rd Qu.: 13.703   3rd Qu.:85.47   3rd Qu.:1016.1  \n",
       " Max.   : 25.591   Max.   :98.23   Max.   :1034.3  \n",
       " NA's   :1         NA's   :1       NA's   :1       "
      ]
     },
     "metadata": {},
     "output_type": "display_data"
    },
    {
     "data": {
      "text/html": [
       "<ol class=list-inline>\n",
       "\t<li>362</li>\n",
       "\t<li>11</li>\n",
       "</ol>\n"
      ],
      "text/latex": [
       "\\begin{enumerate*}\n",
       "\\item 362\n",
       "\\item 11\n",
       "\\end{enumerate*}\n"
      ],
      "text/markdown": [
       "1. 362\n",
       "2. 11\n",
       "\n",
       "\n"
      ],
      "text/plain": [
       "[1] 362  11"
      ]
     },
     "metadata": {},
     "output_type": "display_data"
    },
    {
     "data": {
      "text/html": [
       "<table>\n",
       "<thead><tr><th></th><th scope=col>ts</th><th scope=col>year</th><th scope=col>month</th><th scope=col>day</th><th scope=col>dp</th><th scope=col>rmm</th><th scope=col>wdir</th><th scope=col>ws</th><th scope=col>t</th><th scope=col>rh</th><th scope=col>p</th></tr></thead>\n",
       "<tbody>\n",
       "\t<tr><th scope=row>212</th><td>2014-07-31</td><td>2014      </td><td>7         </td><td>31        </td><td>NA        </td><td>NA        </td><td>NA        </td><td>NA        </td><td>NA        </td><td>NA        </td><td>NA        </td></tr>\n",
       "\t<tr><th scope=row>349</th><td>2014-12-15      </td><td>2014            </td><td>12              </td><td>15              </td><td>0.41965277777778</td><td>NA              </td><td>158             </td><td>6.58263888888889</td><td>2.66416666666667</td><td>85.1395833333333</td><td>1000.91333333334</td></tr>\n",
       "\t<tr><th scope=row>350</th><td>2014-12-16       </td><td>2014             </td><td>12               </td><td>16               </td><td>0.185902777777777</td><td>NA               </td><td>146              </td><td>4.98333333333334 </td><td>3.15791666666666 </td><td>81.0881944444444 </td><td>994.08729166667  </td></tr>\n",
       "</tbody>\n",
       "</table>\n"
      ],
      "text/latex": [
       "\\begin{tabular}{r|lllllllllll}\n",
       "  & ts & year & month & day & dp & rmm & wdir & ws & t & rh & p\\\\\n",
       "\\hline\n",
       "\t212 & 2014-07-31 & 2014       & 7          & 31         & NA         & NA         & NA         & NA         & NA         & NA         & NA        \\\\\n",
       "\t349 & 2014-12-15       & 2014             & 12               & 15               & 0.41965277777778 & NA               & 158              & 6.58263888888889 & 2.66416666666667 & 85.1395833333333 & 1000.91333333334\\\\\n",
       "\t350 & 2014-12-16        & 2014              & 12                & 16                & 0.185902777777777 & NA                & 146               & 4.98333333333334  & 3.15791666666666  & 81.0881944444444  & 994.08729166667  \\\\\n",
       "\\end{tabular}\n"
      ],
      "text/plain": [
       "            ts year month day        dp rmm wdir       ws        t       rh\n",
       "212 2014-07-31 2014     7  31        NA  NA   NA       NA       NA       NA\n",
       "349 2014-12-15 2014    12  15 0.4196528  NA  158 6.582639 2.664167 85.13958\n",
       "350 2014-12-16 2014    12  16 0.1859028  NA  146 4.983333 3.157917 81.08819\n",
       "            p\n",
       "212        NA\n",
       "349 1000.9133\n",
       "350  994.0873"
      ]
     },
     "metadata": {},
     "output_type": "display_data"
    },
    {
     "data": {
      "text/html": [
       "195.48"
      ],
      "text/latex": [
       "195.48"
      ],
      "text/markdown": [
       "195.48"
      ],
      "text/plain": [
       "[1] 195.48"
      ]
     },
     "metadata": {},
     "output_type": "display_data"
    }
   ],
   "source": [
    "dim(weather)\n",
    "# it is saying that there are 365 rows and 11 columns in this data frame\n",
    "\n",
    "summary(weather)\n",
    "\n",
    "#complete.cases will give you a logical vector with FALSE for the rows\n",
    "#that have even a single missing value\n",
    "allthere <- complete.cases(weather)\n",
    "weather_complete <- subset(weather,allthere)\n",
    "dim(weather_complete) #362 rows, so on three 3 days\n",
    "#on the other hand, could have directly picked the ones that were not all there:\n",
    "weather_missing <- subset(weather,!allthere)\n",
    "weather_missing\n",
    "\n",
    "autumn <- subset(weather,month %in% 9:11)\n",
    "sum(autumn$rmm)"
   ]
  },
  {
   "cell_type": "markdown",
   "metadata": {},
   "source": [
    "\n",
    "## A glimpse at actual analysis; formulas\n",
    "\n",
    "You are now ready to start actually doing something with some real data: you have learned about vectors, factors and data frames, are able to read in data, and understand the general logic of how R works. This is in fact as far as this introduction was meant to go. From now on, learning how to do things in R involves learning which functions to use to which tasks and how exactly that happens, and since there are so many possible directions to go, here is a good place to draw the line - almost. There's one more concept that is in general use in R: a formula. Here's a first example:"
   ]
  },
  {
   "cell_type": "code",
   "execution_count": 9,
   "metadata": {
    "collapsed": false
   },
   "outputs": [
    {
     "data": {
      "image/png": "[encoded data removed]",
      "text/plain": [
       "plot without title"
      ]
     },
     "metadata": {},
     "output_type": "display_data"
    }
   ],
   "source": [
    "# let's make sure you have your iris data set with you still:\n",
    "data(iris)\n",
    "# and this makes a scatter plot of sepal lengths by sepal width:\n",
    "plot(Sepal.Length~Sepal.Width,data=iris)"
   ]
  },
  {
   "cell_type": "markdown",
   "metadata": {},
   "source": [
    "`plot` is a general purpose plotting function, and what we have given it as arguments is one *formula* describing the kind of plot we want, and a data frame where to find the needed variables. (If at this point you feel like checking the documentation for the plot function, good for you! Unfortunately, because of its generality, the documentation is rather unhelpful.) The formula is the thing in the function call with the `~` character in the middle: it has a left hand side and a right hand side. Its purpose is best revealed if you think of the `~` character as the word \"by\". Here, as stated, we plotted Sepal.Length \"by\" Sepal.Width. When both are numeric vectors, `plot` decides to make a scatter plot. Here's another example:"
   ]
  },
  {
   "cell_type": "code",
   "execution_count": 78,
   "metadata": {
    "collapsed": false
   },
   "outputs": [
    {
     "data": {
      "text/plain": [
       "\n",
       "Call:\n",
       "lm(formula = Sepal.Length ~ Sepal.Width, data = iris)\n",
       "\n",
       "Coefficients:\n",
       "(Intercept)  Sepal.Width  \n",
       "     6.5262      -0.2234  \n"
      ]
     },
     "metadata": {},
     "output_type": "display_data"
    }
   ],
   "source": [
    "lm(Sepal.Length~Sepal.Width,data=iris)"
   ]
  },
  {
   "cell_type": "markdown",
   "metadata": {},
   "source": [
    "Same formula, different function: this time we fitted a linear model, corresponding to the scatter plot before. On the left hand side of the formula there is the response (dependent) variable, and on the right hand side there is the explanatory variable. The output of `lm` is minimal, showing only the coefficient estimates of the fitted model. Use `summary` on the result too see something more enlightening: "
   ]
  },
  {
   "cell_type": "code",
   "execution_count": 79,
   "metadata": {
    "collapsed": false
   },
   "outputs": [
    {
     "data": {
      "text/plain": [
       "\n",
       "Call:\n",
       "lm(formula = Sepal.Length ~ Sepal.Width, data = iris)\n",
       "\n",
       "Residuals:\n",
       "    Min      1Q  Median      3Q     Max \n",
       "-1.5561 -0.6333 -0.1120  0.5579  2.2226 \n",
       "\n",
       "Coefficients:\n",
       "            Estimate Std. Error t value Pr(>|t|)    \n",
       "(Intercept)   6.5262     0.4789   13.63   <2e-16 ***\n",
       "Sepal.Width  -0.2234     0.1551   -1.44    0.152    \n",
       "---\n",
       "Signif. codes:  0 ‘***’ 0.001 ‘**’ 0.01 ‘*’ 0.05 ‘.’ 0.1 ‘ ’ 1\n",
       "\n",
       "Residual standard error: 0.8251 on 148 degrees of freedom\n",
       "Multiple R-squared:  0.01382,\tAdjusted R-squared:  0.007159 \n",
       "F-statistic: 2.074 on 1 and 148 DF,  p-value: 0.1519\n"
      ]
     },
     "metadata": {},
     "output_type": "display_data"
    }
   ],
   "source": [
    "summary(lm(Sepal.Length~Sepal.Width, data=iris))"
   ]
  },
  {
   "cell_type": "markdown",
   "metadata": {},
   "source": [
    "(Note: while the output of the `lm` function seemed to be just a bit of text, it is actually a *list* object, just returned silently, and the text output just written instead. Lists are a data type we have skipped talking about, but you can go to the documenation of `lm` to get an idea of what the result list actually is. Also note that data frames are in fact a special case of lists.)\n",
    "\n",
    "Here is one more example of where you might use formulas, a classical T-test:"
   ]
  },
  {
   "cell_type": "code",
   "execution_count": null,
   "metadata": {
    "collapsed": false
   },
   "outputs": [],
   "source": [
    "t.test(Sepal.Length~Species,data=iris,subset=Species!=\"versicolor\")"
   ]
  },
  {
   "cell_type": "markdown",
   "metadata": {},
   "source": [
    "There's one more argument there in addition to the formula and the data frame: a subset argument. Functions that take a formula as an argument usually also accept a subset argument, which is used to indicate that only a subset of the data frame is to be used, namely, the part for which the given logical vector is `TRUE`. It works exactly like the `subset` function we encountered earlier, but just skips creating an explicit subset data frame. In the T-test function here, we took one species out of the data because the T-test makes no sense with three groups, only with two.\n",
    "\n",
    "Formulas are in fact a case where the difference between factors and vectors becomes rather clear. Here, consider this example data set:"
   ]
  },
  {
   "cell_type": "code",
   "execution_count": 80,
   "metadata": {
    "collapsed": false
   },
   "outputs": [
    {
     "data": {
      "text/plain": [
       "      len        supp         dose      \n",
       " Min.   : 4.20   OJ:30   Min.   :0.500  \n",
       " 1st Qu.:13.07   VC:30   1st Qu.:0.500  \n",
       " Median :19.25           Median :1.000  \n",
       " Mean   :18.81           Mean   :1.167  \n",
       " 3rd Qu.:25.27           3rd Qu.:2.000  \n",
       " Max.   :33.90           Max.   :2.000  "
      ]
     },
     "metadata": {},
     "output_type": "display_data"
    }
   ],
   "source": [
    "data(ToothGrowth)\n",
    "?ToothGrowth\n",
    "summary(ToothGrowth)"
   ]
  },
  {
   "cell_type": "markdown",
   "metadata": {},
   "source": [
    "As described in the documentation, this data set shows the results from an experiment concerning the effect of vitamin C on the tooth growth of guinea pigs. There are two supplement methods and three dose levels, a total of 6 groups with 10 animals in each. The `supp` variable is a factor, but `dose` is numeric. However, it is a valid question to ask, whether the doses should be looked at as actual numeric values, or as group labels. The difference should become apparent if we create a factor version of it, and fit models and plot graphs with both."
   ]
  },
  {
   "cell_type": "code",
   "execution_count": 81,
   "metadata": {
    "collapsed": false
   },
   "outputs": [
    {
     "data": {
      "text/plain": [
       "\n",
       "Call:\n",
       "lm(formula = len ~ dose, data = ToothGrowth)\n",
       "\n",
       "Residuals:\n",
       "    Min      1Q  Median      3Q     Max \n",
       "-8.4496 -2.7406 -0.7452  2.8344 10.1139 \n",
       "\n",
       "Coefficients:\n",
       "            Estimate Std. Error t value Pr(>|t|)    \n",
       "(Intercept)   7.4225     1.2601    5.89 2.06e-07 ***\n",
       "dose          9.7636     0.9525   10.25 1.23e-14 ***\n",
       "---\n",
       "Signif. codes:  0 ‘***’ 0.001 ‘**’ 0.01 ‘*’ 0.05 ‘.’ 0.1 ‘ ’ 1\n",
       "\n",
       "Residual standard error: 4.601 on 58 degrees of freedom\n",
       "Multiple R-squared:  0.6443,\tAdjusted R-squared:  0.6382 \n",
       "F-statistic: 105.1 on 1 and 58 DF,  p-value: 1.233e-14\n"
      ]
     },
     "metadata": {},
     "output_type": "display_data"
    },
    {
     "data": {
      "text/plain": [
       "\n",
       "Call:\n",
       "lm(formula = len ~ dose.factor, data = ToothGrowth)\n",
       "\n",
       "Residuals:\n",
       "    Min      1Q  Median      3Q     Max \n",
       "-7.6000 -3.2350 -0.6025  3.3250 10.8950 \n",
       "\n",
       "Coefficients:\n",
       "             Estimate Std. Error t value Pr(>|t|)    \n",
       "(Intercept)   10.6050     0.9486  11.180 5.39e-16 ***\n",
       "dose.factor1   9.1300     1.3415   6.806 6.70e-09 ***\n",
       "dose.factor2  15.4950     1.3415  11.551  < 2e-16 ***\n",
       "---\n",
       "Signif. codes:  0 ‘***’ 0.001 ‘**’ 0.01 ‘*’ 0.05 ‘.’ 0.1 ‘ ’ 1\n",
       "\n",
       "Residual standard error: 4.242 on 57 degrees of freedom\n",
       "Multiple R-squared:  0.7029,\tAdjusted R-squared:  0.6924 \n",
       "F-statistic: 67.42 on 2 and 57 DF,  p-value: 9.533e-16\n"
      ]
     },
     "metadata": {},
     "output_type": "display_data"
    },
    {
     "data": {
      "image/png": "[encoded data removed]",
      "text/plain": [
       "plot without title"
      ]
     },
     "metadata": {},
     "output_type": "display_data"
    },
    {
     "data": {
      "image/png": "[encoded data removed]",
      "text/plain": [
       "plot without title"
      ]
     },
     "metadata": {},
     "output_type": "display_data"
    }
   ],
   "source": [
    "ToothGrowth$dose.factor <- factor(ToothGrowth$dose)\n",
    "summary(lm(len~dose,data=ToothGrowth))\n",
    "summary(lm(len~dose.factor,data=ToothGrowth))\n",
    "plot(len~dose,data=ToothGrowth)\n",
    "plot(len~dose.factor,data=ToothGrowth)"
   ]
  },
  {
   "cell_type": "markdown",
   "metadata": {},
   "source": [
    "One final case where formulas could come in to use: earlier, when calculating groupwise means with the iris dataset, it was mentioned in a real situation those would not be calculated by manually splitting the vector. Instead one would use for example the function `aggregate`. That can also be used by a formula. Try now if you can figure out how to do that:"
   ]
  },
  {
   "cell_type": "code",
   "execution_count": 10,
   "metadata": {
    "collapsed": false
   },
   "outputs": [
    {
     "data": {
      "text/html": [
       "<table>\n",
       "<thead><tr><th></th><th scope=col>Species</th><th scope=col>Sepal.Length</th></tr></thead>\n",
       "<tbody>\n",
       "\t<tr><th scope=row>1</th><td>setosa</td><td>5.006 </td></tr>\n",
       "\t<tr><th scope=row>2</th><td>versicolor</td><td>5.936     </td></tr>\n",
       "\t<tr><th scope=row>3</th><td>virginica</td><td>6.588    </td></tr>\n",
       "</tbody>\n",
       "</table>\n"
      ],
      "text/latex": [
       "\\begin{tabular}{r|ll}\n",
       "  & Species & Sepal.Length\\\\\n",
       "\\hline\n",
       "\t1 & setosa & 5.006 \\\\\n",
       "\t2 & versicolor & 5.936     \\\\\n",
       "\t3 & virginica & 6.588    \\\\\n",
       "\\end{tabular}\n"
      ],
      "text/plain": [
       "     Species Sepal.Length\n",
       "1     setosa        5.006\n",
       "2 versicolor        5.936\n",
       "3  virginica        6.588"
      ]
     },
     "metadata": {},
     "output_type": "display_data"
    }
   ],
   "source": [
    "aggregate(Sepal.Length~Species,iris,FUN=mean)"
   ]
  },
  {
   "cell_type": "markdown",
   "metadata": {},
   "source": [
    "Finally, feel free and try any of these plots and other methods for example on the weather data. Here are a few questions\n",
    "for insipiration:\n",
    "\n",
    "- Make boxplots of monthly temperatures. Which month seems to be most variable?\n",
    "- Is there any relationship between air pressure and wind speed?\n",
    "- How about between the air pressure and temperature? Is the answer different if winter and summer are looked at separately?"
   ]
  },
  {
   "cell_type": "code",
   "execution_count": 16,
   "metadata": {
    "collapsed": false
   },
   "outputs": [
    {
     "data": {
      "image/png": "[encoded data removed]",
      "text/plain": [
       "plot without title"
      ]
     },
     "metadata": {},
     "output_type": "display_data"
    },
    {
     "data": {
      "text/plain": [
       "\n",
       "Call:\n",
       "lm(formula = ws ~ p, data = weather)\n",
       "\n",
       "Residuals:\n",
       "    Min      1Q  Median      3Q     Max \n",
       "-2.2188 -0.9642 -0.2699  0.7166  3.7855 \n",
       "\n",
       "Coefficients:\n",
       "             Estimate Std. Error t value Pr(>|t|)    \n",
       "(Intercept) 25.382771   6.095840   4.164 3.91e-05 ***\n",
       "p           -0.021908   0.006043  -3.626  0.00033 ***\n",
       "---\n",
       "Signif. codes:  0 ‘***’ 0.001 ‘**’ 0.01 ‘*’ 0.05 ‘.’ 0.1 ‘ ’ 1\n",
       "\n",
       "Residual standard error: 1.252 on 362 degrees of freedom\n",
       "  (1 observation deleted due to missingness)\n",
       "Multiple R-squared:  0.03504,\tAdjusted R-squared:  0.03237 \n",
       "F-statistic: 13.14 on 1 and 362 DF,  p-value: 0.0003297\n"
      ]
     },
     "metadata": {},
     "output_type": "display_data"
    },
    {
     "data": {
      "image/png": "[encoded data removed]",
      "text/plain": [
       "plot without title"
      ]
     },
     "metadata": {},
     "output_type": "display_data"
    },
    {
     "data": {
      "text/plain": [
       "\n",
       "Call:\n",
       "lm(formula = t ~ p, data = weather)\n",
       "\n",
       "Residuals:\n",
       "    Min      1Q  Median      3Q     Max \n",
       "-21.751  -5.837  -1.191   6.481  18.710 \n",
       "\n",
       "Coefficients:\n",
       "            Estimate Std. Error t value Pr(>|t|)\n",
       "(Intercept) 45.15078   42.33974   1.066    0.287\n",
       "p           -0.03772    0.04197  -0.899    0.369\n",
       "\n",
       "Residual standard error: 8.695 on 362 degrees of freedom\n",
       "  (1 observation deleted due to missingness)\n",
       "Multiple R-squared:  0.002227,\tAdjusted R-squared:  -0.0005297 \n",
       "F-statistic: 0.8078 on 1 and 362 DF,  p-value: 0.3694\n"
      ]
     },
     "metadata": {},
     "output_type": "display_data"
    },
    {
     "data": {
      "image/png": "[encoded data removed]",
      "text/plain": [
       "plot without title"
      ]
     },
     "metadata": {},
     "output_type": "display_data"
    },
    {
     "data": {
      "text/plain": [
       "\n",
       "Call:\n",
       "lm(formula = t ~ p, data = weather)\n",
       "\n",
       "Residuals:\n",
       "    Min      1Q  Median      3Q     Max \n",
       "-21.751  -5.837  -1.191   6.481  18.710 \n",
       "\n",
       "Coefficients:\n",
       "            Estimate Std. Error t value Pr(>|t|)\n",
       "(Intercept) 45.15078   42.33974   1.066    0.287\n",
       "p           -0.03772    0.04197  -0.899    0.369\n",
       "\n",
       "Residual standard error: 8.695 on 362 degrees of freedom\n",
       "  (1 observation deleted due to missingness)\n",
       "Multiple R-squared:  0.002227,\tAdjusted R-squared:  -0.0005297 \n",
       "F-statistic: 0.8078 on 1 and 362 DF,  p-value: 0.3694\n"
      ]
     },
     "metadata": {},
     "output_type": "display_data"
    },
    {
     "data": {
      "image/png": "[encoded data removed]",
      "text/plain": [
       "plot without title"
      ]
     },
     "metadata": {},
     "output_type": "display_data"
    },
    {
     "data": {
      "text/plain": [
       "\n",
       "Call:\n",
       "lm(formula = t ~ p, data = weather)\n",
       "\n",
       "Residuals:\n",
       "    Min      1Q  Median      3Q     Max \n",
       "-21.751  -5.837  -1.191   6.481  18.710 \n",
       "\n",
       "Coefficients:\n",
       "            Estimate Std. Error t value Pr(>|t|)\n",
       "(Intercept) 45.15078   42.33974   1.066    0.287\n",
       "p           -0.03772    0.04197  -0.899    0.369\n",
       "\n",
       "Residual standard error: 8.695 on 362 degrees of freedom\n",
       "  (1 observation deleted due to missingness)\n",
       "Multiple R-squared:  0.002227,\tAdjusted R-squared:  -0.0005297 \n",
       "F-statistic: 0.8078 on 1 and 362 DF,  p-value: 0.3694\n"
      ]
     },
     "metadata": {},
     "output_type": "display_data"
    },
    {
     "data": {
      "image/png": "[encoded data removed]",
      "text/plain": [
       "plot without title"
      ]
     },
     "metadata": {},
     "output_type": "display_data"
    }
   ],
   "source": [
    "#if month was a factor you could just do:\n",
    "# plot(t~month, weather)\n",
    "#but since it's not that would just make a scatter plot.\n",
    "#You'd have to make factor version of month, or use boxplot instead of plot:\n",
    "boxplot(t~month,weather)\n",
    "#because here only a factor makes sense on the right hand side, so it's \n",
    "#automatically used like one\n",
    "#January and May seem to have a wide range of temperatures\n",
    "\n",
    "plot(ws~p,weather)\n",
    "summary(lm(ws~p,weather))\n",
    "#looks like higher windspeeds at lower pressure\n",
    "\n",
    "plot(t~p,weather)\n",
    "summary(lm(t~p,weather))\n",
    "#this looks more like a mess\n",
    "\n",
    "plot(t~p,weather,subset=month %in% 6:8)\n",
    "plot(t~p,weather,subset=month %in% c(1,2,12))\n",
    "# sort of looks like higher pressure means higher temperature in summer\n",
    "# and the opposite in winter"
   ]
  },
  {
   "cell_type": "markdown",
   "metadata": {},
   "source": [
    "## Packages\n",
    "\n",
    "A big part of R's success in the world of data analysis is that the scientific community is able to endlessly widen the collection of available methods through something called packages. So far in this notebook we have been able to get by with things that come with a base installation and a fresh untouched R session. Only the most basic packages are automatically in use, others have to be brought in to use with the command such as "
   ]
  },
  {
   "cell_type": "code",
   "execution_count": null,
   "metadata": {
    "collapsed": true
   },
   "outputs": [],
   "source": [
    "library(spatial)"
   ]
  },
  {
   "cell_type": "markdown",
   "metadata": {},
   "source": [
    "Here, `spatial` is the name of a package containing functions for spatial statistics methods. It is one of the handful of recommended packages that come with a default R installation. More packages (roughly 10 000 at the time of writing this) are available on CRAN, the main repository of R packages. These need to be installed first using for example the function `install.packages` (or one of the menu items when using some UI), and again taken in to use with the same `library` command. \n",
    "\n",
    "The abundance of packages is overwhelming. To not get lost in the jungle you can use the traditional methods of asking colleagues and searching the internet for advice. In addition, one good source to keep in mind are the Task Views on the CRAN home page https://cran.r-project.org/. These are curated lists of packages related to a certain field of study, with short explanations of which functions do which tasks.\n",
    "\n",
    "## What next?\n",
    "\n",
    "You have reached the end of this notebook. Hopefully you have learned enough of the basics so that you can start learning more on your own, or be able to tell what is going on if you are faced with a colleague's R script. You can actually test this: scroll back to the very beginning of this notebook, to the first code cell. You should be able to tell a function from an assignment etc. You can see some unfamiliar function calls but you know how to bring up their documentation to see what they do. Another thing you can try: search for a method or task familiar to you and add \"with R\" to the search, see what you find... and see if you can understand the R code part of the content.\n",
    "\n",
    "And of course, consider installing R on your own computer. Also consider installing RStudio as well. Note that they are two different things: R is provided by CRAN and comes with its own user interface. RStudio is an alternative user interface provided by the RStudio company. Only the commercial version comes with a price tag, you can download the open source version for free.\n",
    "\n",
    "Learning how to use RStudio efficiently is a separate learning objective in addition to learning how to read and write R code, and is in fact intertwined with the learning how to use a collection of packages (affectionally called hadleyverse, or tidyverse) also provided by the RStudio company. These packages have an underlying philosophy that is slightly different than the base R way, so prepare to relearn a few things. Watch videos, read through tutorials, take a course online or offline. It will be worth it. Good luck!"
   ]
  }
 ],
 "metadata": {
  "celltoolbar": "Raw Cell Format",
  "kernelspec": {
   "display_name": "R",
   "language": "R",
   "name": "ir"
  },
  "language_info": {
   "codemirror_mode": "r",
   "file_extension": ".r",
   "mimetype": "text/x-r-source",
   "name": "R",
   "pygments_lexer": "r",
   "version": "3.3.1"
  }
 },
 "nbformat": 4,
 "nbformat_minor": 1
}

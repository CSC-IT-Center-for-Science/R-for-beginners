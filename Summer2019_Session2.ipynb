{
 "cells": [
  {
   "cell_type": "markdown",
   "metadata": {},
   "source": [
    "# Data Analytics Summer School\n",
    "2019 Edition (Jesse Harrison, Anni Pyysing)"
   ]
  },
  {
   "cell_type": "markdown",
   "metadata": {},
   "source": [
    "# 2. Hands-on Session: Data Manipulation and Plotting "
   ]
  },
  {
   "cell_type": "markdown",
   "metadata": {},
   "source": [
    "### \"A picture is worth a thousand words\" - but how to make this picture?\n",
    "In this session we will learn how to take a data set and manipulate it into a form that enables you to tell the story that you want to convey. We will use two packages that come as part of 'tidyverse' (a collection of packages for data processing and visualization): dplyr and ggplot2. Tidyverse has rapidly become one of the most popular choices for this type of work - if you're planning to use R in the future, you will most likely come across it again!\n",
    "\n",
    "If the coding in this session is too heavy for you, try to absorb the ideas and focus on the possibilities of visualizations."
   ]
  },
  {
   "cell_type": "markdown",
   "metadata": {},
   "source": [
    "# Part 1: Tidyverse and dplyr\n",
    "\n",
    "Tidyverse includes a collection of R packeges designed for data science. It includes several separate packages, such as dplyr and ggplot2. You could also load these packages separately, if you wanted to. More information on tidyverse can be found on the official website:\n",
    "\n",
    "https://www.tidyverse.org/\n",
    "\n",
    "### dplyr\n",
    "\n",
    "This is a package that has a set of functions or \"data manipulation verbs\", including: \n",
    "\n",
    "`mutate()`, `select()`, `filter()`, `summarize()`, `arrange()`, and `group_by()`\n",
    "\n",
    "In the following exercises, we will cover a selection of these to give you an idea of how the package works in practice.\n",
    "\n",
    "First, let's load the tidyverse package:\n"
   ]
  },
  {
   "cell_type": "code",
   "execution_count": null,
   "metadata": {},
   "outputs": [],
   "source": [
    "# Run this cell by clicking and ctrl-ENTER or by clicking the play button\n",
    "\n",
    "library(tidyverse)"
   ]
  },
  {
   "cell_type": "markdown",
   "metadata": {},
   "source": [
    "## Read in the data\n",
    "\n",
    "First we need to get the data into a good format, which can require a little or a lot of work.\n",
    "\n",
    "We'll practice with a pre-arranged dataset from Sotkanet (https://sotkanet.fi/sotkanet/en/index). Sotkanet has plenty of statistical information on welfare and health in Finland, but we have taken a small set of data from there to play with.\n",
    "\n",
    "Let's begin with importing a CSV file containing the data into R:"
   ]
  },
  {
   "cell_type": "code",
   "execution_count": null,
   "metadata": {},
   "outputs": [],
   "source": [
    "sotkanet <- read.csv(\"data/sotkanet_data.csv\")"
   ]
  },
  {
   "cell_type": "markdown",
   "metadata": {},
   "source": [
    "The data are now inside R's memory. Let's have a look at how the data frame is structured:"
   ]
  },
  {
   "cell_type": "code",
   "execution_count": null,
   "metadata": {},
   "outputs": [],
   "source": [
    "head(sotkanet, 5)\n",
    "str(sotkanet)"
   ]
  },
  {
   "cell_type": "markdown",
   "metadata": {},
   "source": [
    "## Using data manipulation functions in R \n",
    "\n",
    "We are now ready to start shaping the data using the functions outlined above. First we can `filter()` the dataset to contain only observations from Helsinki, Espoo and Kajaani and from the year 2016 onwards:"
   ]
  },
  {
   "cell_type": "code",
   "execution_count": null,
   "metadata": {},
   "outputs": [],
   "source": [
    "# filter()\n",
    "\n",
    "small_set <- filter(sotkanet, region %in% c(\"Helsinki\",\"Espoo\",\"Kajaani\") & year > 2015 )\n",
    "small_set"
   ]
  },
  {
   "cell_type": "markdown",
   "metadata": {},
   "source": [
    "We might also decide that we no longer need the education level data. One way to leave it out is using the `select()` function:"
   ]
  },
  {
   "cell_type": "code",
   "execution_count": null,
   "metadata": {},
   "outputs": [],
   "source": [
    "# select()\n",
    "\n",
    "small_set <- select(small_set, X, year, region, population)\n",
    "small_set"
   ]
  },
  {
   "cell_type": "markdown",
   "metadata": {},
   "source": [
    "You've probably noticed that, even after filtering, the data set contains information spanning a couple of years (2016 and 2017). The dplyr package comes with a very useful function called `group_by()`, which enables us to group our data by a variable of interest. Here, we can use it to group the entire data set based on the year when the measurements were collected. After this, we can also use `summarize()` to calculate population summaries for each year:"
   ]
  },
  {
   "cell_type": "code",
   "execution_count": null,
   "metadata": {},
   "outputs": [],
   "source": [
    "# Group_by()\n",
    "\n",
    "grouped_set <- group_by(small_set, year)\n",
    "\n",
    "# Summarize() (population sizes)\n",
    "\n",
    "summared_set <- summarize(grouped_set, sum_population = sum(population))\n",
    "\n",
    "# Check what they look like\n",
    "\n",
    "grouped_set\n",
    "summared_set"
   ]
  },
  {
   "cell_type": "markdown",
   "metadata": {},
   "source": [
    "One of the most powerful functions inside the entire tidyverse is called `mutate()`. Its purpose may be difficult to guess based on the name alone, but essentially we can use it to create entirely new variables inside our data set, based on calculations or other operations done using existing variables. For example, we might want to create a variable which is the sum of the variables 'year' and 'population'. Another example is to create new row labels by pasting together information from two different columns."
   ]
  },
  {
   "cell_type": "code",
   "execution_count": null,
   "metadata": {
    "scrolled": true
   },
   "outputs": [],
   "source": [
    "# Mutate() the small_set created previously and create two new variables\n",
    "\n",
    "small_set <- mutate(small_set, mutation1 = year+population, mutation2 = paste0(region,X))\n",
    "\n",
    "small_set"
   ]
  },
  {
   "cell_type": "markdown",
   "metadata": {},
   "source": [
    "### Exercise: putting dplyr to work\n",
    "\n",
    "We've now covered a number of useful features for data manipulation in the dplyr package (a part of tidyverse). Next, try working with the sotkanet data set by yourself - you can start with the original unfiltered data set and create something new using the various functions above. For example, you could start by grouping the data by the region rather than the year, or you could use the `filter()` command to look at cities that we didn't inspect so far."
   ]
  },
  {
   "cell_type": "code",
   "execution_count": null,
   "metadata": {},
   "outputs": [],
   "source": [
    "# Your own code here"
   ]
  },
  {
   "cell_type": "markdown",
   "metadata": {},
   "source": [
    "## More data wrangling functions: spread() and gather()\n",
    " \n",
    "Another tidyverse package, tidyr, has two very powerful data wrangling functions. These will help you to make columns out of rows and vice versa.\n",
    "\n",
    "First, let's take our small_set data and spread years to columns."
   ]
  },
  {
   "cell_type": "code",
   "execution_count": null,
   "metadata": {},
   "outputs": [],
   "source": [
    "# spread\n",
    "\n",
    "# first, select only useful variables\n",
    "tiny_set <- select(small_set, region, population, year)\n",
    "tiny_set\n",
    "\n",
    "# second, spread\n",
    "tiny_spread <- spread(tiny_set, key = year, value = population)\n",
    "tiny_spread"
   ]
  },
  {
   "cell_type": "code",
   "execution_count": null,
   "metadata": {},
   "outputs": [],
   "source": [
    "# gather\n",
    "\n",
    "# gather is the opposite of spread\n",
    "\n",
    "# notice that here you need to name the \"new\", columns that we make (year and population)\n",
    "# AND select which columns to gather (2016 ans 2017)\n",
    "\n",
    "gather(tiny_spread, key = year, value = population, \"2016\", \"2017\")"
   ]
  },
  {
   "cell_type": "markdown",
   "metadata": {},
   "source": [
    "### Exercise: Spread by region\n",
    "\n",
    "Take the small_set dataframe and spread it by region. Also, try to gather the results\n"
   ]
  },
  {
   "cell_type": "code",
   "execution_count": null,
   "metadata": {},
   "outputs": [],
   "source": [
    "# Your own code here"
   ]
  },
  {
   "cell_type": "markdown",
   "metadata": {},
   "source": [
    "### Extra example (diffuculty warning)\n",
    "\n",
    "Let's say we want to really mutate our data, and turn our education level column into a categorical variable instead of numeric.\n",
    "\n",
    "There are many ways to do this, but cutting and mutating is one. Let's start by creating category limits for the education level.\n"
   ]
  },
  {
   "cell_type": "code",
   "execution_count": null,
   "metadata": {},
   "outputs": [],
   "source": [
    "# Check what are max and min of education level\n",
    "min(sotkanet$education_level)\n",
    "max(sotkanet$education_level)"
   ]
  },
  {
   "cell_type": "code",
   "execution_count": null,
   "metadata": {},
   "outputs": [],
   "source": [
    "# Let's create a sequence of numbers between minimum and maximum of education level, 4 points in total\n",
    "points <- seq(min(sotkanet$education_level), max(sotkanet$education_level), length.out=4)\n",
    "points"
   ]
  },
  {
   "cell_type": "code",
   "execution_count": null,
   "metadata": {},
   "outputs": [],
   "source": [
    "# Make new variable called category by cutting our numeric variable into classes\n",
    "sotkanet <- mutate(sotkanet, category=cut(education_level, breaks=points, labels=c(\"low\",\"middle\",\"high\"),\n",
    "                                         include.lowest = TRUE))\n",
    "# print the head\n",
    "head(sotkanet)"
   ]
  },
  {
   "cell_type": "code",
   "execution_count": null,
   "metadata": {},
   "outputs": [],
   "source": [
    "# Compare numbers of categories by year and by region\n",
    "\n",
    "# group by year AND category\n",
    "grouped <- group_by(sotkanet, year, category)\n",
    "\n",
    "# summarize by counting values\n",
    "summed <- summarize(grouped, count = n())\n",
    "\n",
    "# spread values\n",
    "separated <- spread(summed, key = category, value = count)\n",
    "\n",
    "# print result\n",
    "separated"
   ]
  },
  {
   "cell_type": "markdown",
   "metadata": {},
   "source": [
    "### Exercise related to extra example\n",
    "\n",
    "Would you say the categories we just made are good?\n",
    "\n",
    "Make better categories (style is free, maybe look up quantile()) and perform some analysis.\n",
    "\n",
    "Function table() is useful to check how the categories are represented"
   ]
  },
  {
   "cell_type": "code",
   "execution_count": null,
   "metadata": {},
   "outputs": [],
   "source": [
    "# Modify the code below or make your own\n",
    "\n",
    "points <- seq(min(sotkanet$education_level), max(sotkanet$education_level), length.out=4)\n",
    "\n",
    "sotkanet <- mutate(sotkanet, category=cut(education_level, breaks=points,\n",
    "                                          labels=c(\"low\", \"middle\", \"high\"),\n",
    "                                          include.lowest = TRUE))\n",
    "\n",
    "table(sotkanet$category)"
   ]
  },
  {
   "cell_type": "markdown",
   "metadata": {},
   "source": [
    "# Part 2: Visualizations using ggplot2"
   ]
  },
  {
   "cell_type": "markdown",
   "metadata": {},
   "source": [
    "Some of the exercises in the morning session involved creating simple plots using \"base R\" graphics (that is, packages that come as part of a default R installation). We also learnt that the basic capabilities of R can be greatly enhanced through the use of additional packages. The package ggplot2 is most likely the most popular package for data visualization in R. Let's have a closer look at it here!\n",
    "\n",
    "First some initial preparations:"
   ]
  },
  {
   "cell_type": "code",
   "execution_count": null,
   "metadata": {},
   "outputs": [],
   "source": [
    "# Read in the data again, just in case you already lost it\n",
    "\n",
    "rawdata <- read.csv(\"data/sotkanet_data.csv\")\n",
    "\n",
    "# Turn off scientific notation (eg. 6e+05) for easier-to-read plots\n",
    "options(scipen = 999)\n",
    "\n",
    "# Have a look at the data frame structure\n",
    "str(rawdata)"
   ]
  },
  {
   "cell_type": "markdown",
   "metadata": {},
   "source": [
    "We can see four Integer variables and one Factor. First, for plotting purposes, we may want to reclassify 'year' so that it becomes a Factor instead. Can you think of reasons why? "
   ]
  },
  {
   "cell_type": "code",
   "execution_count": null,
   "metadata": {},
   "outputs": [],
   "source": [
    "rawdata$year <- as.factor(rawdata$year)"
   ]
  },
  {
   "cell_type": "markdown",
   "metadata": {},
   "source": [
    "Just a few pre-processing steps before we can start thinking about how ggplot2 works, and putting our knowledge to use. Let's create subsets of the data for Helsinki only, as well as a larger one containing information for Tampere, Oulu and Jyväskylä."
   ]
  },
  {
   "cell_type": "code",
   "execution_count": null,
   "metadata": {},
   "outputs": [],
   "source": [
    "# Just Helsinki\n",
    "helsinki <- filter(rawdata, region == \"Helsinki\")"
   ]
  },
  {
   "cell_type": "code",
   "execution_count": null,
   "metadata": {},
   "outputs": [],
   "source": [
    "# Creating a name vector for obtaining the larger subset\n",
    "citynames <- c(\"Tampere\", \"Oulu\", \"Jyväskylä\")"
   ]
  },
  {
   "cell_type": "code",
   "execution_count": null,
   "metadata": {},
   "outputs": [],
   "source": [
    "# Create the larger subset\n",
    "threecities <- rawdata %>% \n",
    "  filter(region %in% citynames)"
   ]
  },
  {
   "cell_type": "markdown",
   "metadata": {},
   "source": [
    "## ggplot2 syntax: basics and simple data frames"
   ]
  },
  {
   "cell_type": "markdown",
   "metadata": {},
   "source": [
    "We're ready to start working with ggplot2! The syntax surrounding this package differs somewhat from what we might already be used to. However, it's very quick to follow once you learn the basics.\n",
    "\n",
    "There are four main parts to a basic ggplot2 visualisation:\n",
    "\n",
    "1. The `ggplot()` function\n",
    "2. The data parameter (always a data frame)\n",
    "3. The `aes()` function which accepts 'mapping' rules (we'll get to that soon), and \n",
    "4. The `geom()` function\n",
    "\n",
    "With the separate elements pieced together, we get the following:\n",
    "\n",
    "`ggplot(dataframe, aes(mapping)) + geom()`\n",
    "\n",
    "Details given to the `aes()` function are called 'aesthetic mappings' (they describe how variables in the data are mapped to geoms). If this sounds like lots of jargon, you're completely right! However, the way this works is will become clear as we move through the examples.\n",
    "\n",
    "To start with, let's have a look at changes in the education level in Helsinki over time. We can start with supplying the `ggplot()` function, specifying a data frame and the mappings (in other words, what goes on the x and y axes):"
   ]
  },
  {
   "cell_type": "code",
   "execution_count": null,
   "metadata": {},
   "outputs": [],
   "source": [
    "options(repr.plot.height = 4)\n",
    "ggplot(helsinki, aes(x = year, y = education_level))"
   ]
  },
  {
   "cell_type": "markdown",
   "metadata": {},
   "source": [
    "A blank ggplot is drawn. This is because we haven't yet told ggplot what type of plot we want to create! For this we need the `geom()` function. In reality this function comes in many different flavours and they are very intuitively named. For example, the geom for creating a scatter plot is called `geom_point()`:"
   ]
  },
  {
   "cell_type": "code",
   "execution_count": null,
   "metadata": {},
   "outputs": [],
   "source": [
    "ggplot(helsinki, aes(x = year, y = education_level)) + \n",
    "  geom_point() # a clear rising trend!"
   ]
  },
  {
   "cell_type": "markdown",
   "metadata": {},
   "source": [
    "One of the key features of ggplot2 syntax is its stackability (in other words, we can easily add additional lines of code that modify the plot further). Aside from the four main components needed to create a plot, there are many optional parts that can be added.\n",
    "\n",
    "For example, we can use `ylab()` and `xlab()` to specify the axis labels:"
   ]
  },
  {
   "cell_type": "code",
   "execution_count": null,
   "metadata": {},
   "outputs": [],
   "source": [
    "ggplot(helsinki, aes(x = year, y = education_level)) + \n",
    "  geom_point() +\n",
    "  ylab(\"Education Level\") +\n",
    "  xlab(\"Year\") "
   ]
  },
  {
   "cell_type": "markdown",
   "metadata": {},
   "source": [
    "Some other things that we can do:\n",
    "\n",
    "- give the plot a general title using `ggtitle()`.\n",
    "- set axis limits using `xlim()` and `ylim()`. e.g. `xlim(c(2008, 2012))` would restrict the years to 2008 - 2012.\n",
    "- change the colour and size of the dots by adding information inside the `geom()` function (which is currently empty). For example, `geom_point(col = \"steelblue\", size = 3)` would change both the colour and size of the dots."
   ]
  },
  {
   "cell_type": "markdown",
   "metadata": {},
   "source": [
    "### Exercises: plots using the Helsinki data\n",
    "\n",
    "To get used to all this, try modifying the plot. For example, try using the helsinki data set to create a plot with the title \"Education level over time\", showing data since 2010 as red dots. "
   ]
  },
  {
   "cell_type": "code",
   "execution_count": null,
   "metadata": {},
   "outputs": [],
   "source": [
    "# Add your own dot plot here!\n"
   ]
  },
  {
   "cell_type": "markdown",
   "metadata": {},
   "source": [
    "Next, you could try making a bar plot (can you guess the geom)?\n",
    "\n",
    "One note: to create the bar plot, you will need to add the following code inside the `geom()` function:\n",
    "`stat = \"identity\"`\n",
    "\n",
    "Adding this tells the geom that we want to use the y values as they are. It may feel a little counter-intuitive, but the default format for bar plots in ggplot is to use `stat = \"bin\"`, which counts frequencies within each group (in our case, we have just a single measurement for each year)."
   ]
  },
  {
   "cell_type": "code",
   "execution_count": null,
   "metadata": {},
   "outputs": [],
   "source": [
    "# Add your own bar plot here!\n"
   ]
  },
  {
   "cell_type": "markdown",
   "metadata": {},
   "source": [
    "If you managed to get this working, try also plotting the data as a line plot (the geom name is easy to guess).\n",
    "For this step to work, you will also need to convert the factor 'year' back to integer format. You might remember that before we already converted it to a factor!\n",
    "\n",
    "One more question to think about: which of the three plot types do you think works best for displaying the data?"
   ]
  },
  {
   "cell_type": "code",
   "execution_count": null,
   "metadata": {},
   "outputs": [],
   "source": [
    "# Add your own line plot here!\n"
   ]
  },
  {
   "cell_type": "markdown",
   "metadata": {},
   "source": [
    "## more ggplot2 syntax: slightly more complex data frames and facetting\n",
    "\n",
    "Instead of just the Helsinki data, let's now look at the larger subset with data for three cities."
   ]
  },
  {
   "cell_type": "code",
   "execution_count": null,
   "metadata": {},
   "outputs": [],
   "source": [
    "ggplot(threecities, aes(x = year, y = education_level)) + \n",
    "  geom_point() +\n",
    "  ylab(\"Education Level\") +\n",
    "  xlab(\"Year\") "
   ]
  },
  {
   "cell_type": "markdown",
   "metadata": {},
   "source": [
    "All show a similar rising trend but which one is which?\n",
    "\n",
    "Adding `col = region` inside the `aes()` function can be used to plot different colours for each region."
   ]
  },
  {
   "cell_type": "code",
   "execution_count": null,
   "metadata": {},
   "outputs": [],
   "source": [
    "ggplot(threecities, aes(x = year, y = education_level, col = region)) + \n",
    "  geom_point() +\n",
    "  ylab(\"Education Level\") +\n",
    "  xlab(\"Year\")"
   ]
  },
  {
   "cell_type": "markdown",
   "metadata": {},
   "source": [
    "In this data set the scores for the three cities are quite closer to another, and plotting everything inside a single panel is quite easy.\n",
    "However, there may also be cases where it's better to separate the data and plot them side by side in separate panels. For this, we have a simple command that can be added to your ggplot code:\n",
    "\n",
    "`facet_grid()`\n",
    "\n",
    "We can tell `facet_grid()` to separate the data by a specific variable in the data using the '~' symbol, followed by the variable of interest. For example:"
   ]
  },
  {
   "cell_type": "code",
   "execution_count": null,
   "metadata": {},
   "outputs": [],
   "source": [
    "ggplot(threecities, aes(x = year, y = education_level, col = region)) + \n",
    "  geom_point() +\n",
    "  facet_grid(~ region) +\n",
    "  ylab(\"Education Level\") +\n",
    "  xlab(\"Year\")"
   ]
  },
  {
   "cell_type": "markdown",
   "metadata": {},
   "source": [
    "That looks quite clear too, aside from the year labels that look a little squeezed in. It would be quite easy to fix this with some additional code, but for now we can already be happy with what we've created. If you've come this far, you've already learnt a fair deal about ggplot2!\n",
    "\n",
    "### Exercise: further work with the 'threecities' data set (and a link to more info)\n",
    "\n",
    "There is a column in the 'threecities' data set that we haven't looked at yet: 'population'. Feel free to play around and try creating different types of plots, using the knowledge we've gained so far. \n",
    "\n",
    "A possible source of inspiration: although we've covered lots of ground, there is much more to discover with regard to ggplot2 and different ways to visualize your data using it. Many more functions and plot styles exist and you can check out this ggplot2 'cheat sheet' to get a quick idea of what else is out there:\n",
    "\n",
    "https://www.rstudio.com/wp-content/uploads/2015/03/ggplot2-cheatsheet.pdf\n",
    "\n",
    "If you're looking for an extra challenge, also feel free to try out some of these entirely new commands in the cheat sheet!"
   ]
  },
  {
   "cell_type": "code",
   "execution_count": null,
   "metadata": {},
   "outputs": [],
   "source": []
  }
 ],
 "metadata": {
  "kernelspec": {
   "display_name": "R",
   "language": "R",
   "name": "ir"
  },
  "language_info": {
   "codemirror_mode": "r",
   "file_extension": ".r",
   "mimetype": "text/x-r-source",
   "name": "R",
   "pygments_lexer": "r",
   "version": "3.5.1"
  }
 },
 "nbformat": 4,
 "nbformat_minor": 2
}
